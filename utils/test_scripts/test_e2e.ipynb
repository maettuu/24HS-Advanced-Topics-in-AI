{
 "cells": [
  {
   "cell_type": "code",
   "metadata": {
    "ExecuteTime": {
     "end_time": "2024-11-26T21:18:40.884171Z",
     "start_time": "2024-11-26T21:18:40.838588Z"
    }
   },
   "source": [
    "# set app as default directory to address imports\n",
    "import os\n",
    "import sys\n",
    "sys.path.append(os.path.abspath(os.path.join(os.getcwd(), './../../')))\n",
    "\n",
    "#activate autoreload to easier test classes\n",
    "%load_ext autoreload\n",
    "%autoreload 2"
   ],
   "outputs": [],
   "execution_count": 1
  },
  {
   "cell_type": "code",
   "metadata": {
    "ExecuteTime": {
     "end_time": "2024-11-26T21:20:00.246115Z",
     "start_time": "2024-11-26T21:18:40.897179Z"
    }
   },
   "source": [
    "from app.services.agent_answering_service import AgentAnsweringService\n",
    "from app.config.enums import Environment\n",
    "\n",
    "agent_answering_service = AgentAnsweringService(Environment.PROD)\n",
    "# agent_answering_service = AgentAnsweringService(Environment.DEV)"
   ],
   "outputs": [
    {
     "name": "stdout",
     "output_type": "stream",
     "text": [
      "Initializing AgentAnsweringService with environment:  Environment.PROD\n",
      "Metadata loaded successfully from JSON files.\n",
      "Initializing SPARQLGraph\n",
      "Graph loaded with 2056777 triples after 0:01:28.843499\n",
      "Metadata loaded successfully from DEL files.\n",
      "Initializing Embeddings\n",
      "Embeddings loaded with 158901 entries for entities and 248 entries for relations after 0:00:00.072763\n",
      "Initializing Crowd Data\n",
      "Metadata loaded successfully from CSV file.\n",
      "Initializing Disambiguation\n",
      "Metadata loaded successfully from JSON files.\n"
     ]
    },
    {
     "name": "stderr",
     "output_type": "stream",
     "text": [
      "C:\\Users\\matthias.mylaeus\\AppData\\Local\\pypoetry\\Cache\\virtualenvs\\app-KbueNdO6-py3.12\\Lib\\site-packages\\spacy\\util.py:910: UserWarning: [W095] Model 'en_pipeline' (0.0.0) was trained with spaCy v3.8.2 and may not be 100% compatible with the current version (3.7.5). If you see errors or degraded performance, download a newer compatible model or retrain your custom model with the current spaCy version. For more details and available updates, run: python -m spacy validate\n",
      "  warnings.warn(warn_msg)\n"
     ]
    },
    {
     "name": "stdout",
     "output_type": "stream",
     "text": [
      "Spacy extractor initialized\n",
      "Embedding extractor initialized\n",
      "Metadata loaded in 1.0307469367980957 seconds\n"
     ]
    },
    {
     "name": "stderr",
     "output_type": "stream",
     "text": [
      "C:\\Users\\matthias.mylaeus\\Documents\\UZH\\11 MA 3.Semester\\01 Advanced Topics in Artificial Intelligence\\02 ATAI Übungsstunden Unterlagen\\atai_project\\app\\services\\question_classifier.py:43: FutureWarning: You are using `torch.load` with `weights_only=False` (the current default value), which uses the default pickle module implicitly. It is possible to construct malicious pickle data which will execute arbitrary code during unpickling (See https://github.com/pytorch/pytorch/blob/main/SECURITY.md#untrusted-models for more details). In a future release, the default value for `weights_only` will be flipped to `True`. This limits the functions that could be executed during unpickling. Arbitrary objects will no longer be allowed to be loaded via this mode unless they are explicitly allowlisted by the user via `torch.serialization.add_safe_globals`. We recommend you start setting `weights_only=True` for any use case where you don't have full control of the loaded file. Please open an issue on GitHub for any issues related to this experimental feature.\n",
      "  self.classifier.load_state_dict(torch.load(model_path, map_location=self.device))\n"
     ]
    },
    {
     "name": "stdout",
     "output_type": "stream",
     "text": [
      "Model loaded successfully!\n"
     ]
    }
   ],
   "execution_count": 2
  },
  {
   "cell_type": "code",
   "metadata": {
    "ExecuteTime": {
     "end_time": "2024-11-26T21:20:06.423230Z",
     "start_time": "2024-11-26T21:20:00.554023Z"
    }
   },
   "source": [
    "import logging\n",
    "import sys\n",
    "\n",
    "# Configure the root logger\n",
    "root_logger = logging.getLogger()  # Root logger\n",
    "root_logger.setLevel(logging.DEBUG)  # Set the desired level (DEBUG, INFO, etc.)\n",
    "\n",
    "# Create a stream handler to output to the notebook\n",
    "stream_handler = logging.StreamHandler(stream=sys.stdout)\n",
    "formatter = logging.Formatter('%(asctime)s - %(name)s - %(levelname)s - %(message)s')\n",
    "stream_handler.setFormatter(formatter)\n",
    "\n",
    "# Add the handler to the root logger (prevent duplicate handlers)\n",
    "if not root_logger.handlers:\n",
    "    root_logger.addHandler(stream_handler)"
   ],
   "outputs": [],
   "execution_count": 3
  },
  {
   "cell_type": "markdown",
   "metadata": {},
   "source": [
    "## Knowledge"
   ]
  },
  {
   "cell_type": "code",
   "metadata": {
    "collapsed": false,
    "ExecuteTime": {
     "end_time": "2024-11-26T21:20:07.001551Z",
     "start_time": "2024-11-26T21:20:06.428735Z"
    }
   },
   "source": [
    "print(agent_answering_service.get_answer_for_message(\"Who directed Titanic?\"))"
   ],
   "outputs": [
    {
     "data": {
      "text/plain": "Batches:   0%|          | 0/1 [00:00<?, ?it/s]",
      "application/vnd.jupyter.widget-view+json": {
       "version_major": 2,
       "version_minor": 0,
       "model_id": "ffab1b5f0b0d4c5d918ab01d2f5f7cfe"
      }
     },
     "metadata": {},
     "output_type": "display_data"
    },
    {
     "name": "stdout",
     "output_type": "stream",
     "text": [
      "Question type: QuestionCategory.KNOWLEDGE\n",
      "Mutated text: who directed titanic\n",
      "Matches after filtering overlapping matches: [{'original_text': 'titanic', 'start': 13, 'end': 20}]\n",
      "NLTK matches: [{'original_text': 'titanic', 'start': 13, 'end': 20}]\n",
      "Alignment result: None\n",
      "Full word matches: [{'match_text': 'titanic', 'original_text': 'titanic', 'label': 'movie', 'score': 100.0, 'start': 13, 'end': 20, 'is_full_word': True}]\n",
      "Fuzzy matches: [{'match_text': 'titanic', 'original_text': 'titanic', 'label': 'movie', 'score': 100.0, 'start': 13, 'end': 20, 'is_full_word': True}]\n",
      "NLTK entity found: ['Titanic']\n",
      "Mutated text: who directed \n",
      "Matches after filtering overlapping matches: []\n",
      "NLTK matches: []\n",
      "Alignment result: None\n",
      "Full word matches: []\n",
      "Fuzzy matches: []\n",
      "Embedding extraction for  Who directed \n"
     ]
    },
    {
     "data": {
      "text/plain": "Batches:   0%|          | 0/1 [00:00<?, ?it/s]",
      "application/vnd.jupyter.widget-view+json": {
       "version_major": 2,
       "version_minor": 0,
       "model_id": "95886400a7774d628bf38e59c56b0cba"
      }
     },
     "metadata": {},
     "output_type": "display_data"
    },
    {
     "name": "stdout",
     "output_type": "stream",
     "text": [
      "Most similar relation: director with distance: 0.6489187479019165\n",
      "Most similar relation: director\n",
      "Embedding relationship found: ['director']\n",
      "2024-12-09 20:23:09,456 - root - INFO - Movie: Titanic, Relation: director\n",
      "It seems there are several entries for Titanic:\n",
      "1. 1953 film by Jean Negulesco\n",
      "2. 1943 German propaganda film\n",
      "3. 1997 American romantic disaster film directed by James Cameron\n",
      "4. 1996 TV miniseries directed by Robert Lieberman\n",
      "Let me know which one you're asking about or whether you'd like to stop.\n"
     ]
    }
   ],
   "execution_count": 8
  },
  {
   "cell_type": "code",
   "execution_count": 9,
   "outputs": [
    {
     "name": "stdout",
     "output_type": "stream",
     "text": [
      "I'm not sure which one you meant. Please specify using the list number or the full description.\n",
      "Let me know if I should stop the disambiguation.\n"
     ]
    }
   ],
   "source": [
    "print(agent_answering_service.get_answer_for_message(\"The 5th one.\"))"
   ],
   "metadata": {
    "collapsed": false
   }
  },
  {
   "cell_type": "code",
   "execution_count": 10,
   "outputs": [
    {
     "name": "stdout",
     "output_type": "stream",
     "text": [
      "I understand you're asking about the 1997 American romantic disaster film directed by James Cameron.\n"
     ]
    }
   ],
   "source": [
    "print(agent_answering_service.get_message_picked_choice(\"The third one.\"))"
   ],
   "metadata": {
    "collapsed": false
   }
  },
  {
   "cell_type": "code",
   "metadata": {
    "collapsed": false,
    "ExecuteTime": {
     "end_time": "2024-11-26T21:20:09.391867Z",
     "start_time": "2024-11-26T21:20:07.016179Z"
    }
   },
   "source": [
    "print(agent_answering_service.get_answer_for_message(\"The third one.\"))"
   ],
   "outputs": [
    {
     "name": "stdout",
     "output_type": "stream",
     "text": [
      "2024-12-09 20:23:23,189 - root - INFO - Movie: Q44578, Relation: P57\n",
      "As far as I know, it is James Cameron.\n"
     ]
    }
   ],
   "execution_count": 11
  },
  {
   "cell_type": "code",
   "metadata": {
    "ExecuteTime": {
     "end_time": "2024-11-26T21:20:11.748205Z",
     "start_time": "2024-11-26T21:20:09.409488Z"
    }
   },
   "source": [
    "agent_answering_service.get_answer_for_message(\"Who was the director of the movie The Godfather?\")"
   ],
   "outputs": [
    {
     "data": {
      "text/plain": "Batches:   0%|          | 0/1 [00:00<?, ?it/s]",
      "application/vnd.jupyter.widget-view+json": {
       "version_major": 2,
       "version_minor": 0,
       "model_id": "f5380d6af71d4a0c94ccaf382b9c3f9f"
      }
     },
     "metadata": {},
     "output_type": "display_data"
    },
    {
     "name": "stdout",
     "output_type": "stream",
     "text": [
      "Question type: QuestionCategory.KNOWLEDGE\n",
      "Mutated text: who was the director of the movie the godfather\n",
      "Matches after filtering overlapping matches: [{'original_text': 'the godfather', 'start': 34, 'end': 47}]\n",
      "NLTK matches: [{'original_text': 'the godfather', 'start': 34, 'end': 47}]\n",
      "Alignment result: None\n",
      "Full word matches: [{'match_text': 'the godfather', 'original_text': 'the godfather', 'label': 'movie', 'score': 100.0, 'start': 34, 'end': 47, 'is_full_word': True}, {'match_text': 'godfather', 'original_text': 'godfather', 'label': 'movie', 'score': 100.0, 'start': 38, 'end': 47, 'is_full_word': True}]\n",
      "Fuzzy matches: [{'match_text': 'the godfather', 'original_text': 'the godfather', 'label': 'movie', 'score': 100.0, 'start': 34, 'end': 47, 'is_full_word': True}]\n",
      "NLTK entity found: ['The Godfather']\n",
      "Mutated text: who was the director of the movie \n",
      "Matches after filtering overlapping matches: [{'original_text': 'director', 'start': 12, 'end': 20}]\n",
      "NLTK matches: [{'original_text': 'director', 'start': 12, 'end': 20}]\n",
      "Alignment result: None\n",
      "Full word matches: [{'match_text': 'director', 'original_text': 'director', 'label': 'relation', 'score': 100.0, 'start': 12, 'end': 20, 'is_full_word': True}]\n",
      "Fuzzy matches: [{'match_text': 'director', 'original_text': 'director', 'label': 'relation', 'score': 100.0, 'start': 12, 'end': 20, 'is_full_word': True}]\n",
      "NLTK relationship found: ['director']\n",
      "2024-12-09 15:58:36,081 - root - INFO - Movie: The Godfather, Relation: director\n",
      "2024-12-09 15:58:36,081 - root - INFO - Movie: Q47703, Relation: P57\n"
     ]
    },
    {
     "data": {
      "text/plain": "'I would say that the director of The Godfather is Francis Ford Coppola.'"
     },
     "execution_count": 6,
     "metadata": {},
     "output_type": "execute_result"
    }
   ],
   "execution_count": 6
  },
  {
   "cell_type": "code",
   "metadata": {
    "ExecuteTime": {
     "end_time": "2024-11-26T21:20:16.455324Z",
     "start_time": "2024-11-26T21:20:14.107168Z"
    }
   },
   "source": [
    "agent_answering_service.get_answer_for_message(\"What is the MPAA film rating of Weathering with You?\")"
   ],
   "outputs": [
    {
     "data": {
      "text/plain": "Batches:   0%|          | 0/1 [00:00<?, ?it/s]",
      "application/vnd.jupyter.widget-view+json": {
       "version_major": 2,
       "version_minor": 0,
       "model_id": "13f7a0ee947a4a779a36f9b312d1514c"
      }
     },
     "metadata": {},
     "output_type": "display_data"
    },
    {
     "name": "stdout",
     "output_type": "stream",
     "text": [
      "Question type: QuestionCategory.KNOWLEDGE\n",
      "Mutated text: what is the mpaa film rating of weathering with you\n",
      "Matches after filtering overlapping matches: [{'original_text': 'weathering with you', 'start': 32, 'end': 51}]\n",
      "NLTK matches: [{'original_text': 'weathering with you', 'start': 32, 'end': 51}]\n",
      "Alignment result: None\n",
      "Full word matches: [{'match_text': 'weathering with you', 'original_text': 'weathering with you', 'label': 'movie', 'score': 100.0, 'start': 32, 'end': 51, 'is_full_word': True}]\n",
      "Fuzzy matches: [{'match_text': 'weathering with you', 'original_text': 'weathering with you', 'label': 'movie', 'score': 100.0, 'start': 32, 'end': 51, 'is_full_word': True}]\n",
      "NLTK entity found: ['Weathering with You']\n",
      "Mutated text: what is the mpaa film rating of \n",
      "Matches after filtering overlapping matches: [{'original_text': 'mpaa film rating', 'start': 12, 'end': 28}]\n",
      "NLTK matches: [{'original_text': 'mpaa film rating', 'start': 12, 'end': 28}]\n",
      "Alignment result: None\n",
      "Full word matches: [{'match_text': 'mpaa film rating', 'original_text': 'mpaa film rating', 'label': 'relation', 'score': 100.0, 'start': 12, 'end': 28, 'is_full_word': True}]\n",
      "Fuzzy matches: [{'match_text': 'mpaa film rating', 'original_text': 'mpaa film rating', 'label': 'relation', 'score': 100.0, 'start': 12, 'end': 28, 'is_full_word': True}]\n",
      "NLTK relationship found: ['MPAA film rating']\n",
      "2024-12-09 15:58:39,209 - root - INFO - Movie: Weathering with You, Relation: MPAA film rating\n",
      "2024-12-09 15:58:39,209 - root - INFO - Movie: Q59692464, Relation: P1657\n"
     ]
    },
    {
     "data": {
      "text/plain": "'I think it is NC-17.'"
     },
     "execution_count": 7,
     "metadata": {},
     "output_type": "execute_result"
    }
   ],
   "execution_count": 7
  },
  {
   "cell_type": "code",
   "metadata": {
    "ExecuteTime": {
     "end_time": "2024-11-26T21:20:18.809355Z",
     "start_time": "2024-11-26T21:20:16.477190Z"
    }
   },
   "source": [
    "agent_answering_service.get_answer_for_message(\"What is the genre of Good Neighbors?\")"
   ],
   "outputs": [
    {
     "data": {
      "text/plain": "Batches:   0%|          | 0/1 [00:00<?, ?it/s]",
      "application/vnd.jupyter.widget-view+json": {
       "version_major": 2,
       "version_minor": 0,
       "model_id": "9e036c9ec6604e98879716575aa7a387"
      }
     },
     "metadata": {},
     "output_type": "display_data"
    },
    {
     "name": "stdout",
     "output_type": "stream",
     "text": [
      "Question type: QuestionCategory.KNOWLEDGE\n",
      "Mutated text: what is the genre of good neighbors\n",
      "Matches after filtering overlapping matches: [{'original_text': 'good neighbors', 'start': 21, 'end': 35}]\n",
      "NLTK matches: [{'original_text': 'good neighbors', 'start': 21, 'end': 35}]\n",
      "Alignment result: None\n",
      "Full word matches: [{'match_text': 'good neighbors', 'original_text': 'good neighbors', 'label': 'movie', 'score': 100.0, 'start': 21, 'end': 35, 'is_full_word': True}, {'match_text': 'good', 'original_text': 'good', 'label': 'movie', 'score': 100.0, 'start': 21, 'end': 25, 'is_full_word': True}, {'match_text': 'neighbors', 'original_text': 'neighbors', 'label': 'movie', 'score': 100.0, 'start': 26, 'end': 35, 'is_full_word': True}, {'match_text': 'neighbors', 'original_text': 'neighbors 2', 'label': 'movie', 'score': 95.23809523809523, 'start': 26, 'end': 36, 'is_full_word': True}]\n",
      "Fuzzy matches: [{'match_text': 'good neighbors', 'original_text': 'good neighbors', 'label': 'movie', 'score': 100.0, 'start': 21, 'end': 35, 'is_full_word': True}]\n",
      "NLTK entity found: ['Good Neighbors']\n",
      "Mutated text: what is the genre of \n",
      "Matches after filtering overlapping matches: [{'original_text': 'genre', 'start': 12, 'end': 17}]\n",
      "NLTK matches: [{'original_text': 'genre', 'start': 12, 'end': 17}]\n",
      "Alignment result: None\n",
      "Full word matches: [{'match_text': 'genre', 'original_text': 'genre', 'label': 'relation', 'score': 100.0, 'start': 12, 'end': 17, 'is_full_word': True}]\n",
      "Fuzzy matches: [{'match_text': 'genre', 'original_text': 'genre', 'label': 'relation', 'score': 100.0, 'start': 12, 'end': 17, 'is_full_word': True}]\n",
      "NLTK relationship found: ['genre']\n",
      "2024-12-09 15:58:42,434 - root - INFO - Movie: Good Neighbors, Relation: genre\n",
      "2024-12-09 15:58:42,434 - root - INFO - Movie: Q3110682, Relation: P136\n"
     ]
    },
    {
     "data": {
      "text/plain": "'That is a good question, I think that the answer is art film.'"
     },
     "execution_count": 8,
     "metadata": {},
     "output_type": "execute_result"
    }
   ],
   "execution_count": 8
  },
  {
   "cell_type": "code",
   "metadata": {
    "ExecuteTime": {
     "end_time": "2024-11-26T21:20:21.176678Z",
     "start_time": "2024-11-26T21:20:18.830465Z"
    }
   },
   "source": [
    "agent_answering_service.get_answer_for_message(\"who directed the movie Good Neighbors?\")"
   ],
   "outputs": [
    {
     "data": {
      "text/plain": "Batches:   0%|          | 0/1 [00:00<?, ?it/s]",
      "application/vnd.jupyter.widget-view+json": {
       "version_major": 2,
       "version_minor": 0,
       "model_id": "ccf9647d68d6498898fcebb70c2ed6bb"
      }
     },
     "metadata": {},
     "output_type": "display_data"
    },
    {
     "name": "stdout",
     "output_type": "stream",
     "text": [
      "Question type: QuestionCategory.KNOWLEDGE\n",
      "Mutated text: who directed the movie good neighbors\n",
      "Matches after filtering overlapping matches: [{'original_text': 'good neighbors', 'start': 23, 'end': 37}]\n",
      "NLTK matches: [{'original_text': 'good neighbors', 'start': 23, 'end': 37}]\n",
      "Alignment result: None\n",
      "Full word matches: [{'match_text': 'good neighbors', 'original_text': 'good neighbors', 'label': 'movie', 'score': 100.0, 'start': 23, 'end': 37, 'is_full_word': True}, {'match_text': 'good', 'original_text': 'good', 'label': 'movie', 'score': 100.0, 'start': 23, 'end': 27, 'is_full_word': True}, {'match_text': 'neighbors', 'original_text': 'neighbors', 'label': 'movie', 'score': 100.0, 'start': 28, 'end': 37, 'is_full_word': True}, {'match_text': 'neighbors', 'original_text': 'neighbors 2', 'label': 'movie', 'score': 95.23809523809523, 'start': 28, 'end': 38, 'is_full_word': True}]\n",
      "Fuzzy matches: [{'match_text': 'good neighbors', 'original_text': 'good neighbors', 'label': 'movie', 'score': 100.0, 'start': 23, 'end': 37, 'is_full_word': True}]\n",
      "NLTK entity found: ['Good Neighbors']\n",
      "Mutated text: who directed the movie \n",
      "Matches after filtering overlapping matches: []\n",
      "NLTK matches: []\n",
      "Alignment result: None\n",
      "Full word matches: []\n",
      "Fuzzy matches: []\n",
      "Embedding extraction for  who directed the movie \n"
     ]
    },
    {
     "data": {
      "text/plain": "Batches:   0%|          | 0/1 [00:00<?, ?it/s]",
      "application/vnd.jupyter.widget-view+json": {
       "version_major": 2,
       "version_minor": 0,
       "model_id": "faeac63a34294688afc4e82cf8adf83c"
      }
     },
     "metadata": {},
     "output_type": "display_data"
    },
    {
     "name": "stdout",
     "output_type": "stream",
     "text": [
      "Most similar relation: director with distance: 0.7302140593528748\n",
      "Most similar relation: director\n",
      "Embedding relationship found: ['director']\n",
      "2024-12-09 15:58:45,339 - root - INFO - Movie: Good Neighbors, Relation: director\n",
      "2024-12-09 15:58:45,339 - root - INFO - Movie: Q3110682, Relation: P57\n"
     ]
    },
    {
     "data": {
      "text/plain": "'I would say that it is Jacob Tierney.'"
     },
     "execution_count": 9,
     "metadata": {},
     "output_type": "execute_result"
    }
   ],
   "execution_count": 9
  },
  {
   "cell_type": "code",
   "metadata": {
    "ExecuteTime": {
     "end_time": "2024-11-26T21:20:23.532625Z",
     "start_time": "2024-11-26T21:20:21.200050Z"
    }
   },
   "source": [
    "agent_answering_service.get_answer_for_message(\"When was 'The Godfather' released?\")"
   ],
   "outputs": [
    {
     "data": {
      "text/plain": "Batches:   0%|          | 0/1 [00:00<?, ?it/s]",
      "application/vnd.jupyter.widget-view+json": {
       "version_major": 2,
       "version_minor": 0,
       "model_id": "864104fbd715450a89cdf8ede99467c2"
      }
     },
     "metadata": {},
     "output_type": "display_data"
    },
    {
     "name": "stdout",
     "output_type": "stream",
     "text": [
      "Question type: QuestionCategory.KNOWLEDGE\n",
      "Mutated text: when was 'the godfather' released\n",
      "Matches after filtering overlapping matches: [{'original_text': 'the godfather', 'start': 10, 'end': 23}]\n",
      "NLTK matches: [{'original_text': 'the godfather', 'start': 10, 'end': 23}]\n",
      "Alignment result: None\n",
      "Full word matches: [{'match_text': 'the godfather', 'original_text': 'the godfather', 'label': 'movie', 'score': 100.0, 'start': 10, 'end': 23, 'is_full_word': True}, {'match_text': 'godfather', 'original_text': 'godfather', 'label': 'movie', 'score': 100.0, 'start': 14, 'end': 23, 'is_full_word': True}]\n",
      "Fuzzy matches: [{'match_text': 'the godfather', 'original_text': 'the godfather', 'label': 'movie', 'score': 100.0, 'start': 10, 'end': 23, 'is_full_word': True}]\n",
      "NLTK entity found: ['The Godfather']\n",
      "Manual relationship found: ['publication date']\n",
      "2024-12-09 15:58:48,809 - root - INFO - Movie: The Godfather, Relation: publication date\n",
      "2024-12-09 15:58:48,810 - root - INFO - Movie: Q47703, Relation: P577\n"
     ]
    },
    {
     "data": {
      "text/plain": "\"I'm almost certain that it is 1972.\""
     },
     "execution_count": 10,
     "metadata": {},
     "output_type": "execute_result"
    }
   ],
   "execution_count": 10
  },
  {
   "cell_type": "code",
   "execution_count": 11,
   "outputs": [
    {
     "data": {
      "text/plain": "Batches:   0%|          | 0/1 [00:00<?, ?it/s]",
      "application/vnd.jupyter.widget-view+json": {
       "version_major": 2,
       "version_minor": 0,
       "model_id": "19479a8afb8741bcab0d785a146d3ced"
      }
     },
     "metadata": {},
     "output_type": "display_data"
    },
    {
     "name": "stdout",
     "output_type": "stream",
     "text": [
      "Question type: QuestionCategory.KNOWLEDGE\n",
      "Mutated text: who is the screenwriter of 'free willy 3: the rescue'\n",
      "Matches after filtering overlapping matches: [{'original_text': 'free willy 3: the rescue', 'start': 28, 'end': 52}]\n",
      "NLTK matches: [{'original_text': 'free willy 3: the rescue', 'start': 28, 'end': 52}]\n",
      "Alignment result: None\n",
      "Full word matches: [{'match_text': 'free willy', 'original_text': 'free willy', 'label': 'movie', 'score': 100.0, 'start': 28, 'end': 38, 'is_full_word': True}, {'match_text': 'free willy 3: the rescue', 'original_text': 'free willy 3: the rescue', 'label': 'movie', 'score': 100.0, 'start': 28, 'end': 52, 'is_full_word': True}]\n",
      "Fuzzy matches: [{'match_text': 'free willy', 'original_text': 'free willy', 'label': 'movie', 'score': 100.0, 'start': 28, 'end': 38, 'is_full_word': True}]\n",
      "NLTK entity found: ['Free Willy 3: The Rescue']\n",
      "Mutated text: who is the screenwriter of ''\n",
      "Matches after filtering overlapping matches: [{'original_text': 'screenwriter', 'start': 11, 'end': 23}]\n",
      "NLTK matches: [{'original_text': 'screenwriter', 'start': 11, 'end': 23}]\n",
      "Alignment result: None\n",
      "Full word matches: [{'match_text': 'screenwriter', 'original_text': 'screenwriter', 'label': 'relation', 'score': 100.0, 'start': 11, 'end': 23, 'is_full_word': True}]\n",
      "Fuzzy matches: [{'match_text': 'screenwriter', 'original_text': 'screenwriter', 'label': 'relation', 'score': 100.0, 'start': 11, 'end': 23, 'is_full_word': True}]\n",
      "NLTK relationship found: ['screenwriter']\n",
      "2024-12-09 15:58:51,741 - root - INFO - Movie: Free Willy 3: The Rescue, Relation: screenwriter\n",
      "2024-12-09 15:58:51,743 - root - INFO - Movie: Q1032889, Relation: P58\n"
     ]
    },
    {
     "data": {
      "text/plain": "'According to my knowledge, it is Ángel de Andrés Miquel. (This response was populated using crowd-sourced data, which shows an inter-rater agreement of 0.199 and an answer distribution of 1 supporting and 2 rejecting votes.)'"
     },
     "execution_count": 11,
     "metadata": {},
     "output_type": "execute_result"
    }
   ],
   "source": [
    "agent_answering_service.get_answer_for_message(\"Who is the screenwriter of 'Free Willy 3: The Rescue'?\")"
   ],
   "metadata": {
    "collapsed": false
   }
  },
  {
   "cell_type": "code",
   "execution_count": 12,
   "outputs": [
    {
     "data": {
      "text/plain": "Batches:   0%|          | 0/1 [00:00<?, ?it/s]",
      "application/vnd.jupyter.widget-view+json": {
       "version_major": 2,
       "version_minor": 0,
       "model_id": "1c35defa92ea4fd1879caf383714e554"
      }
     },
     "metadata": {},
     "output_type": "display_data"
    },
    {
     "name": "stdout",
     "output_type": "stream",
     "text": [
      "Question type: QuestionCategory.KNOWLEDGE\n",
      "Mutated text: who is the director of star wars: episode vi - return of the jedi\n",
      "Matches after filtering overlapping matches: [{'original_text': 'return', 'start': 47, 'end': 53}]\n",
      "NLTK matches: [{'original_text': 'return', 'start': 47, 'end': 53}]\n",
      "Alignment result: None\n",
      "Full word matches: [{'match_text': 'return', 'original_text': 'return', 'label': 'movie', 'score': 100.0, 'start': 47, 'end': 53, 'is_full_word': True}, {'match_text': 'star wars: episode vi - return of the jedi', 'original_text': 'star wars: episode vi – return of the jedi', 'label': 'movie', 'score': 97.61904761904762, 'start': 23, 'end': 65, 'is_full_word': True}]\n",
      "Fuzzy matches: [{'match_text': 'return', 'original_text': 'return', 'label': 'movie', 'score': 100.0, 'start': 47, 'end': 53, 'is_full_word': True}]\n",
      "Mutated text: who is the director of star wars: episode vi – return of the jedi\n",
      "Matches after filtering overlapping matches: [{'original_text': 'star wars: episode vi – return of the jedi', 'start': 23, 'end': 65}]\n",
      "NLTK matches: [{'original_text': 'star wars: episode vi – return of the jedi', 'start': 23, 'end': 65}]\n",
      "Alignment result: None\n",
      "Full word matches: [{'match_text': 'return', 'original_text': 'return', 'label': 'movie', 'score': 100.0, 'start': 47, 'end': 53, 'is_full_word': True}, {'match_text': 'star wars: episode vi – return of the jedi', 'original_text': 'star wars: episode vi – return of the jedi', 'label': 'movie', 'score': 100.0, 'start': 23, 'end': 65, 'is_full_word': True}]\n",
      "Fuzzy matches: [{'match_text': 'return', 'original_text': 'return', 'label': 'movie', 'score': 100.0, 'start': 47, 'end': 53, 'is_full_word': True}]\n",
      "Mutated text: who is the director of star wars: episode vi — return of the jedi\n",
      "Matches after filtering overlapping matches: [{'original_text': 'return', 'start': 47, 'end': 53}]\n",
      "NLTK matches: [{'original_text': 'return', 'start': 47, 'end': 53}]\n",
      "Alignment result: None\n",
      "Full word matches: [{'match_text': 'return', 'original_text': 'return', 'label': 'movie', 'score': 100.0, 'start': 47, 'end': 53, 'is_full_word': True}, {'match_text': 'star wars: episode vi — return of the jedi', 'original_text': 'star wars: episode vi – return of the jedi', 'label': 'movie', 'score': 97.61904761904762, 'start': 23, 'end': 65, 'is_full_word': True}]\n",
      "Fuzzy matches: [{'match_text': 'return', 'original_text': 'return', 'label': 'movie', 'score': 100.0, 'start': 47, 'end': 53, 'is_full_word': True}]\n",
      "NLTK entity found: ['Star Wars: Episode VI – Return of the Jedi']\n",
      "Mutated text: who is the director of star wars: episode vi - return of the jedi\n",
      "Matches after filtering overlapping matches: [{'original_text': 'director', 'start': 11, 'end': 19}]\n",
      "NLTK matches: [{'original_text': 'director', 'start': 11, 'end': 19}]\n",
      "Alignment result: None\n",
      "Full word matches: [{'match_text': 'director', 'original_text': 'director', 'label': 'relation', 'score': 100.0, 'start': 11, 'end': 19, 'is_full_word': True}]\n",
      "Fuzzy matches: [{'match_text': 'director', 'original_text': 'director', 'label': 'relation', 'score': 100.0, 'start': 11, 'end': 19, 'is_full_word': True}]\n",
      "Mutated text: who is the director of star wars: episode vi – return of the jedi\n",
      "Matches after filtering overlapping matches: [{'original_text': 'director', 'start': 11, 'end': 19}]\n",
      "NLTK matches: [{'original_text': 'director', 'start': 11, 'end': 19}]\n",
      "Alignment result: None\n",
      "Full word matches: [{'match_text': 'director', 'original_text': 'director', 'label': 'relation', 'score': 100.0, 'start': 11, 'end': 19, 'is_full_word': True}]\n",
      "Fuzzy matches: [{'match_text': 'director', 'original_text': 'director', 'label': 'relation', 'score': 100.0, 'start': 11, 'end': 19, 'is_full_word': True}]\n",
      "Mutated text: who is the director of star wars: episode vi — return of the jedi\n",
      "Matches after filtering overlapping matches: [{'original_text': 'director', 'start': 11, 'end': 19}]\n",
      "NLTK matches: [{'original_text': 'director', 'start': 11, 'end': 19}]\n",
      "Alignment result: None\n",
      "Full word matches: [{'match_text': 'director', 'original_text': 'director', 'label': 'relation', 'score': 100.0, 'start': 11, 'end': 19, 'is_full_word': True}]\n",
      "Fuzzy matches: [{'match_text': 'director', 'original_text': 'director', 'label': 'relation', 'score': 100.0, 'start': 11, 'end': 19, 'is_full_word': True}]\n",
      "NLTK relationship found: ['director']\n",
      "2024-12-09 15:58:55,485 - root - INFO - Movie: Star Wars: Episode VI – Return of the Jedi, Relation: director\n",
      "2024-12-09 15:58:55,485 - root - INFO - Movie: Q181803, Relation: P57\n"
     ]
    },
    {
     "data": {
      "text/plain": "'According to my knowledge, it is Richard Marquand.'"
     },
     "execution_count": 12,
     "metadata": {},
     "output_type": "execute_result"
    }
   ],
   "source": [
    "agent_answering_service.get_answer_for_message(\"Who is the director of Star Wars: Episode VI - Return of the Jedi?\")"
   ],
   "metadata": {
    "collapsed": false
   }
  },
  {
   "cell_type": "code",
   "execution_count": 13,
   "outputs": [
    {
     "data": {
      "text/plain": "Batches:   0%|          | 0/1 [00:00<?, ?it/s]",
      "application/vnd.jupyter.widget-view+json": {
       "version_major": 2,
       "version_minor": 0,
       "model_id": "3bcf4fd0ae884aabbac8035e8c96c25a"
      }
     },
     "metadata": {},
     "output_type": "display_data"
    },
    {
     "name": "stdout",
     "output_type": "stream",
     "text": [
      "Question type: QuestionCategory.KNOWLEDGE\n",
      "Mutated text: who is the screenwriter of the masked gang: cyprus\n",
      "Matches after filtering overlapping matches: [{'original_text': 'the masked gang: cyprus', 'start': 27, 'end': 50}]\n",
      "NLTK matches: [{'original_text': 'the masked gang: cyprus', 'start': 27, 'end': 50}]\n",
      "Alignment result: None\n",
      "Full word matches: [{'match_text': 'the masked gang: cyprus', 'original_text': 'the masked gang: cyprus', 'label': 'movie', 'score': 100.0, 'start': 27, 'end': 50, 'is_full_word': True}]\n",
      "Fuzzy matches: [{'match_text': 'the masked gang: cyprus', 'original_text': 'the masked gang: cyprus', 'label': 'movie', 'score': 100.0, 'start': 27, 'end': 50, 'is_full_word': True}]\n",
      "NLTK entity found: ['The Masked Gang: Cyprus']\n",
      "Mutated text: who is the screenwriter of \n",
      "Matches after filtering overlapping matches: [{'original_text': 'screenwriter', 'start': 11, 'end': 23}]\n",
      "NLTK matches: [{'original_text': 'screenwriter', 'start': 11, 'end': 23}]\n",
      "Alignment result: None\n",
      "Full word matches: [{'match_text': 'screenwriter', 'original_text': 'screenwriter', 'label': 'relation', 'score': 100.0, 'start': 11, 'end': 23, 'is_full_word': True}]\n",
      "Fuzzy matches: [{'match_text': 'screenwriter', 'original_text': 'screenwriter', 'label': 'relation', 'score': 100.0, 'start': 11, 'end': 23, 'is_full_word': True}]\n",
      "NLTK relationship found: ['screenwriter']\n",
      "2024-12-09 15:58:58,870 - root - INFO - Movie: The Masked Gang: Cyprus, Relation: screenwriter\n",
      "2024-12-09 15:58:58,870 - root - INFO - Movie: Q7750525, Relation: P58\n"
     ]
    },
    {
     "data": {
      "text/plain": "'The screenwriter is Cengiz Küçükayvaz for The Masked Gang: Cyprus. (Embedding Answer)'"
     },
     "execution_count": 13,
     "metadata": {},
     "output_type": "execute_result"
    }
   ],
   "source": [
    "agent_answering_service.get_answer_for_message(\"Who is the screenwriter of The Masked Gang: Cyprus?\")"
   ],
   "metadata": {
    "collapsed": false
   }
  },
  {
   "cell_type": "markdown",
   "source": [
    "## Recommendations"
   ],
   "metadata": {
    "collapsed": false
   }
  },
  {
   "cell_type": "code",
   "metadata": {
    "ExecuteTime": {
     "end_time": "2024-11-26T21:20:30.189104Z",
     "start_time": "2024-11-26T21:20:23.539135Z"
    }
   },
   "source": [
    "print(agent_answering_service.get_answer_for_message(\"Recommend movies similar to Hamlet and Othello.\"))"
   ],
   "outputs": [
    {
     "data": {
      "text/plain": "Batches:   0%|          | 0/1 [00:00<?, ?it/s]",
      "application/vnd.jupyter.widget-view+json": {
       "version_major": 2,
       "version_minor": 0,
       "model_id": "fffa728647be4dc48d98dfb2d4d212c1"
      }
     },
     "metadata": {},
     "output_type": "display_data"
    },
    {
     "name": "stdout",
     "output_type": "stream",
     "text": [
      "Question type: QuestionCategory.RECOMMENDATION\n",
      "Mutated text: recommend movies similar to hamlet and othello.\n",
      "Matches after filtering overlapping matches: [{'original_text': 'othello', 'start': 39, 'end': 46}, {'original_text': 'hamlet', 'start': 28, 'end': 34}]\n",
      "NLTK matches: [{'original_text': 'othello', 'start': 39, 'end': 46}, {'original_text': 'hamlet', 'start': 28, 'end': 34}]\n",
      "Alignment result: None\n",
      "Full word matches: [{'match_text': 'othello', 'original_text': 'othello', 'label': 'movie', 'score': 100.0, 'start': 39, 'end': 46, 'is_full_word': True}, {'match_text': 'hamlet', 'original_text': 'hamlet', 'label': 'movie', 'score': 100.0, 'start': 28, 'end': 34, 'is_full_word': True}]\n",
      "Fuzzy matches: [{'match_text': 'othello', 'original_text': 'othello', 'label': 'movie', 'score': 100.0, 'start': 39, 'end': 46, 'is_full_word': True}, {'match_text': 'hamlet', 'original_text': 'hamlet', 'label': 'movie', 'score': 100.0, 'start': 28, 'end': 34, 'is_full_word': True}]\n",
      "NLTK entity found: ['Hamlet', 'Othello']\n",
      "It seems there are several entries for Hamlet:\n",
      "1. 2000 film by Michael Almereyda\n",
      "2. 1990 film by Franco Zeffirelli\n",
      "3. 1964 film by Grigori Kozintsev\n",
      "4. 1996 film by Kenneth Branagh\n",
      "5. 1948 film by Laurence Olivier\n",
      "6. 2009 TV film directed by Gregory Doran\n",
      "Let me know which one are you asking about or whether you'd like to stop.\n"
     ]
    }
   ],
   "execution_count": 14
  },
  {
   "cell_type": "code",
   "execution_count": 15,
   "outputs": [
    {
     "name": "stdout",
     "output_type": "stream",
     "text": [
      "0\n",
      "Unfortunately, I need more information still. It seems there are several entries for Othello:\n",
      "1. 1995 film by Oliver Parker\n",
      "2. 1965 film by Stuart Burge\n",
      "Let me know which one are you asking about or whether you'd like to stop.\n"
     ]
    }
   ],
   "source": [
    "print(agent_answering_service.get_answer_for_message(\"The first one.\"))"
   ],
   "metadata": {
    "collapsed": false
   }
  },
  {
   "cell_type": "code",
   "execution_count": 16,
   "outputs": [
    {
     "name": "stdout",
     "output_type": "stream",
     "text": [
      "I'm not sure which one you meant. Please specify using the list number or the full description.\n",
      "\n",
      "Let me know if you'd like to interrupt this process.\n"
     ]
    }
   ],
   "source": [
    "print(agent_answering_service.get_answer_for_message(\"Don't know.\"))"
   ],
   "metadata": {
    "collapsed": false
   }
  },
  {
   "cell_type": "code",
   "execution_count": 17,
   "outputs": [
    {
     "name": "stdout",
     "output_type": "stream",
     "text": [
      "0\n",
      "image:2140/rm3954052352\n",
      "If you’re looking for something good, try Heart Condition, The Public Eye and Transcendence.\n",
      "\n",
      "You wonder why? Because they share the following attributes:\n",
      " - genre: drama\n",
      " - FSK film rating: FSK 12\n",
      " - CNC film rating (France): no age restriction\n",
      " - instance of: film\n",
      " - original language of film or TV show: English\n",
      " - distribution format: video on demand\n",
      " - color: color\n",
      " - country of origin: United States of America\n",
      " - distributed by: Netflix\n"
     ]
    }
   ],
   "source": [
    "print(agent_answering_service.get_answer_for_message(\"Take the 1st one.\"))"
   ],
   "metadata": {
    "collapsed": false
   }
  },
  {
   "cell_type": "code",
   "execution_count": 21,
   "outputs": [
    {
     "data": {
      "text/plain": "Batches:   0%|          | 0/1 [00:00<?, ?it/s]",
      "application/vnd.jupyter.widget-view+json": {
       "version_major": 2,
       "version_minor": 0,
       "model_id": "e2a5bcee91b04f02b9c1a8c21cfc4db9"
      }
     },
     "metadata": {},
     "output_type": "display_data"
    },
    {
     "name": "stdout",
     "output_type": "stream",
     "text": [
      "Question type: QuestionCategory.RECOMMENDATION\n",
      "Mutated text: given that i like the lion king, pocahontas, and the beauty and the beast, can you recommend some movies?\n",
      "Matches after filtering overlapping matches: [{'original_text': 'the lion king', 'start': 18, 'end': 31}, {'original_text': 'beauty and the beast', 'start': 53, 'end': 73}, {'original_text': 'pocahontas', 'start': 33, 'end': 43}]\n",
      "NLTK matches: [{'original_text': 'the lion king', 'start': 18, 'end': 31}, {'original_text': 'beauty and the beast', 'start': 53, 'end': 73}, {'original_text': 'pocahontas', 'start': 33, 'end': 43}]\n",
      "Alignment result: None\n",
      "Full word matches: [{'match_text': 'the lion king', 'original_text': 'the lion king', 'label': 'movie', 'score': 100.0, 'start': 18, 'end': 31, 'is_full_word': True}, {'match_text': 'beast', 'original_text': 'beast', 'label': 'movie', 'score': 100.0, 'start': 68, 'end': 73, 'is_full_word': True}, {'match_text': 'beauty', 'original_text': 'beauty', 'label': 'movie', 'score': 100.0, 'start': 53, 'end': 59, 'is_full_word': True}, {'match_text': 'beauty and the beast', 'original_text': 'beauty and the beast', 'label': 'movie', 'score': 100.0, 'start': 53, 'end': 73, 'is_full_word': True}, {'match_text': 'the beast', 'original_text': 'the beast', 'label': 'movie', 'score': 100.0, 'start': 64, 'end': 73, 'is_full_word': True}, {'match_text': 'lion', 'original_text': 'lion', 'label': 'movie', 'score': 100.0, 'start': 22, 'end': 26, 'is_full_word': True}, {'match_text': 'pocahontas', 'original_text': 'pocahontas', 'label': 'movie', 'score': 100.0, 'start': 33, 'end': 43, 'is_full_word': True}]\n",
      "Fuzzy matches: [{'match_text': 'the lion king', 'original_text': 'the lion king', 'label': 'movie', 'score': 100.0, 'start': 18, 'end': 31, 'is_full_word': True}, {'match_text': 'pocahontas', 'original_text': 'pocahontas', 'label': 'movie', 'score': 100.0, 'start': 33, 'end': 43, 'is_full_word': True}, {'match_text': 'beauty', 'original_text': 'beauty', 'label': 'movie', 'score': 100.0, 'start': 53, 'end': 59, 'is_full_word': True}, {'match_text': 'beast', 'original_text': 'beast', 'label': 'movie', 'score': 100.0, 'start': 68, 'end': 73, 'is_full_word': True}]\n",
      "NLTK entity found: ['The Lion King', 'Pocahontas', 'Beauty and the Beast']\n",
      "It seems there are several entries for The Lion King:\n",
      "1. 2019 American musical film directed by Jon Favreau\n",
      "2. 1994 American animated film\n",
      "Let me know which one are you asking about or whether you'd like to stop.\n"
     ]
    }
   ],
   "source": [
    "print(agent_answering_service.get_answer_for_message(\"Given that I like The Lion King, Pocahontas, and The Beauty and the Beast, can you recommend some movies?\"))"
   ],
   "metadata": {
    "collapsed": false
   }
  },
  {
   "cell_type": "code",
   "execution_count": 22,
   "outputs": [
    {
     "name": "stdout",
     "output_type": "stream",
     "text": [
      "1\n",
      "Unfortunately, I need more information still. It seems there are several entries for Beauty and the Beast:\n",
      "1. 2014 French film by Christophe Gans\n",
      "2. 1946 film by Jean Cocteau, René Clément\n",
      "3. 2017 American musical romantic fantasy film directed by Bill Condon\n",
      "4. 1991 American animated musical fantasy romance film\n",
      "Let me know which one are you asking about or whether you'd like to stop.\n"
     ]
    }
   ],
   "source": [
    "print(agent_answering_service.get_answer_for_message(\"The second one.\"))"
   ],
   "metadata": {
    "collapsed": false
   }
  },
  {
   "cell_type": "code",
   "execution_count": 23,
   "outputs": [
    {
     "name": "stdout",
     "output_type": "stream",
     "text": [
      "-1\n",
      "No images found for IMDb ID: tt0053285\n",
      "No images found for IMDb ID: tt0048280\n",
      "image:2645/rm1468537856\n",
      "I think Sleeping Beauty, Lady and the Tramp and The Fox and the Hound would be a great pick for you to watch!\n",
      "\n",
      "You wonder why? Because they share the following attributes:\n",
      " - fabrication method: traditional animation\n",
      " - Filmiroda rating: Category I\n",
      " - instance of: animated feature film\n",
      " - distribution format: video on demand\n",
      " - color: color\n",
      " - country of origin: United States of America\n",
      " - assessment: Vito Russo test\n",
      " - significant event: première\n"
     ]
    }
   ],
   "source": [
    "print(agent_answering_service.get_answer_for_message(\"The last one.\"))"
   ],
   "metadata": {
    "collapsed": false
   }
  },
  {
   "cell_type": "code",
   "execution_count": 24,
   "outputs": [
    {
     "data": {
      "text/plain": "Batches:   0%|          | 0/1 [00:00<?, ?it/s]",
      "application/vnd.jupyter.widget-view+json": {
       "version_major": 2,
       "version_minor": 0,
       "model_id": "7fb1e83edd3648ac845fb155062369b8"
      }
     },
     "metadata": {},
     "output_type": "display_data"
    },
    {
     "name": "stdout",
     "output_type": "stream",
     "text": [
      "Question type: QuestionCategory.RECOMMENDATION\n",
      "Mutated text: recommend movies like a nightmare on elm street, friday the 13th, and halloween.\n",
      "Matches after filtering overlapping matches: [{'original_text': 'halloween', 'start': 70, 'end': 79}, {'original_text': 'friday the 13th', 'start': 49, 'end': 64}, {'original_text': 'a nightmare on elm street', 'start': 22, 'end': 47}]\n",
      "NLTK matches: [{'original_text': 'halloween', 'start': 70, 'end': 79}, {'original_text': 'friday the 13th', 'start': 49, 'end': 64}, {'original_text': 'a nightmare on elm street', 'start': 22, 'end': 47}]\n",
      "Alignment result: None\n",
      "Full word matches: [{'match_text': 'friday the 13th', 'original_text': 'friday the 13th', 'label': 'movie', 'score': 100.0, 'start': 49, 'end': 64, 'is_full_word': True}, {'match_text': 'halloween', 'original_text': 'halloween', 'label': 'movie', 'score': 100.0, 'start': 70, 'end': 79, 'is_full_word': True}, {'match_text': 'friday', 'original_text': 'friday', 'label': 'movie', 'score': 100.0, 'start': 49, 'end': 55, 'is_full_word': True}, {'match_text': 'a nightmare on elm street', 'original_text': 'a nightmare on elm street', 'label': 'movie', 'score': 100.0, 'start': 22, 'end': 47, 'is_full_word': True}]\n",
      "Fuzzy matches: [{'match_text': 'a nightmare on elm street', 'original_text': 'a nightmare on elm street', 'label': 'movie', 'score': 100.0, 'start': 22, 'end': 47, 'is_full_word': True}, {'match_text': 'friday the 13th', 'original_text': 'friday the 13th', 'label': 'movie', 'score': 100.0, 'start': 49, 'end': 64, 'is_full_word': True}, {'match_text': 'halloween', 'original_text': 'halloween', 'label': 'movie', 'score': 100.0, 'start': 70, 'end': 79, 'is_full_word': True}]\n",
      "NLTK entity found: ['A Nightmare on Elm Street', 'Friday the 13th', 'Halloween']\n",
      "It seems there are several entries for A Nightmare on Elm Street:\n",
      "1. 2010 horror film\n",
      "2. 1984 American slasher film\n",
      "Let me know which one are you asking about or whether you'd like to stop.\n"
     ]
    }
   ],
   "source": [
    "print(agent_answering_service.get_answer_for_message(\"Recommend movies like A Nightmare on Elm Street, Friday the 13th, and Halloween.\"))"
   ],
   "metadata": {
    "collapsed": false
   }
  },
  {
   "cell_type": "code",
   "execution_count": 25,
   "outputs": [
    {
     "name": "stdout",
     "output_type": "stream",
     "text": [
      "0\n",
      "Unfortunately, I need more information still. It seems there are several entries for Friday the 13th:\n",
      "1. 2009 American slasher film directed by Marcus Nispel\n",
      "2. 1980 American slasher film\n",
      "Let me know which one are you asking about or whether you'd like to stop.\n"
     ]
    }
   ],
   "source": [
    "print(agent_answering_service.get_answer_for_message(\"The 1.\"))"
   ],
   "metadata": {
    "collapsed": false
   }
  },
  {
   "cell_type": "code",
   "execution_count": 26,
   "outputs": [
    {
     "name": "stdout",
     "output_type": "stream",
     "text": [
      "0\n",
      "Unfortunately, I need more information still. It seems there are several entries for Halloween:\n",
      "1. 2018 film by David Gordon Green\n",
      "2. 2007 film by Rob Zombie\n",
      "3. 1978 film directed by John Carpenter\n",
      "Let me know which one are you asking about or whether you'd like to stop.\n"
     ]
    }
   ],
   "source": [
    "print(agent_answering_service.get_answer_for_message(\"The 1st\"))"
   ],
   "metadata": {
    "collapsed": false
   }
  },
  {
   "cell_type": "code",
   "execution_count": 27,
   "outputs": [
    {
     "name": "stdout",
     "output_type": "stream",
     "text": [
      "1\n",
      "No images found for IMDb ID: tt1179891\n",
      "No images found for IMDb ID: tt0081383\n",
      "How about watching My Bloody Valentine 3D, Prom Night and Sweeney Todd: The Demon Barber of Fleet Street? It's worth your time.\n",
      "\n",
      "You wonder why? Because they share the following attributes:\n",
      " - genre: slasher film\n",
      " - instance of: film\n",
      " - original language of film or TV show: English\n",
      " - distribution format: video on demand\n",
      " - color: color\n",
      " - country of origin: United States of America\n",
      " - assessment: Bechdel test\n",
      " - Medierådet rating: For ages 15 and up\n",
      " - distributed by: Netflix\n"
     ]
    }
   ],
   "source": [
    "print(agent_answering_service.get_answer_for_message(\"The second one.\"))"
   ],
   "metadata": {
    "collapsed": false
   }
  },
  {
   "cell_type": "code",
   "execution_count": 31,
   "outputs": [
    {
     "data": {
      "text/plain": "Batches:   0%|          | 0/1 [00:00<?, ?it/s]",
      "application/vnd.jupyter.widget-view+json": {
       "version_major": 2,
       "version_minor": 0,
       "model_id": "86e28c79b5c341afbe70cbc1c5b3072b"
      }
     },
     "metadata": {},
     "output_type": "display_data"
    },
    {
     "name": "stdout",
     "output_type": "stream",
     "text": [
      "Question type: QuestionCategory.RECOMMENDATION\n",
      "Mutated text: recommend movies like titanic, love affair and the notebook.\n",
      "Matches after filtering overlapping matches: [{'original_text': 'titanic', 'start': 22, 'end': 29}, {'original_text': 'love affair', 'start': 31, 'end': 42}, {'original_text': 'the notebook', 'start': 47, 'end': 59}]\n",
      "NLTK matches: [{'original_text': 'titanic', 'start': 22, 'end': 29}, {'original_text': 'love affair', 'start': 31, 'end': 42}, {'original_text': 'the notebook', 'start': 47, 'end': 59}]\n",
      "Alignment result: None\n",
      "Full word matches: [{'match_text': 'love affair', 'original_text': 'love affair', 'label': 'movie', 'score': 100.0, 'start': 31, 'end': 42, 'is_full_word': True}, {'match_text': 'titanic', 'original_text': 'titanic', 'label': 'movie', 'score': 100.0, 'start': 22, 'end': 29, 'is_full_word': True}, {'match_text': 'love', 'original_text': 'love', 'label': 'movie', 'score': 100.0, 'start': 31, 'end': 35, 'is_full_word': True}, {'match_text': 'notebook', 'original_text': 'notebook', 'label': 'movie', 'score': 100.0, 'start': 51, 'end': 59, 'is_full_word': True}, {'match_text': 'the notebook', 'original_text': 'the notebook', 'label': 'movie', 'score': 100.0, 'start': 47, 'end': 59, 'is_full_word': True}]\n",
      "Fuzzy matches: [{'match_text': 'love affair', 'original_text': 'love affair', 'label': 'movie', 'score': 100.0, 'start': 31, 'end': 42, 'is_full_word': True}, {'match_text': 'notebook', 'original_text': 'notebook', 'label': 'movie', 'score': 100.0, 'start': 51, 'end': 59, 'is_full_word': True}, {'match_text': 'titanic', 'original_text': 'titanic', 'label': 'movie', 'score': 100.0, 'start': 22, 'end': 29, 'is_full_word': True}]\n",
      "NLTK entity found: ['Titanic', 'Love Affair', 'The Notebook']\n",
      "It seems there are several entries for Titanic:\n",
      "1. 1953 film by Jean Negulesco\n",
      "2. 1943 German propaganda film\n",
      "3. 1997 American romantic disaster film directed by James Cameron\n",
      "4. 1996 TV miniseries directed by Robert Lieberman\n",
      "Let me know which one are you asking about or whether you'd like to stop.\n"
     ]
    }
   ],
   "source": [
    "print(agent_answering_service.get_answer_for_message(\"Recommend movies like Titanic, Love Affair and The Notebook.\"))"
   ],
   "metadata": {
    "collapsed": false
   }
  },
  {
   "cell_type": "code",
   "execution_count": 32,
   "outputs": [
    {
     "name": "stdout",
     "output_type": "stream",
     "text": [
      "Okay, on your demand the process has been interrupted. I'm happy to answer any other questions :)\n"
     ]
    }
   ],
   "source": [
    "print(agent_answering_service.get_answer_for_message(\"stop\"))"
   ],
   "metadata": {
    "collapsed": false
   }
  },
  {
   "cell_type": "markdown",
   "metadata": {},
   "source": [
    "## Multimedia"
   ]
  },
  {
   "cell_type": "code",
   "metadata": {
    "collapsed": false,
    "ExecuteTime": {
     "end_time": "2024-11-26T21:20:30.577879Z",
     "start_time": "2024-11-26T21:20:30.197722Z"
    }
   },
   "source": [
    "print(agent_answering_service.get_answer_for_message(\"Show me a picture of John Williams\"))"
   ],
   "outputs": [
    {
     "data": {
      "text/plain": "Batches:   0%|          | 0/1 [00:00<?, ?it/s]",
      "application/vnd.jupyter.widget-view+json": {
       "version_major": 2,
       "version_minor": 0,
       "model_id": "dea4599b33d44633891a4431dac132a7"
      }
     },
     "metadata": {},
     "output_type": "display_data"
    },
    {
     "name": "stdout",
     "output_type": "stream",
     "text": [
      "Question type: QuestionCategory.MULTIMEDIA\n",
      "Mutated text: show me a picture of john williams\n",
      "Matches after filtering overlapping matches: [{'original_text': 'john williams', 'start': 21, 'end': 34}]\n",
      "NLTK matches: [{'original_text': 'john williams', 'start': 21, 'end': 34}]\n",
      "Alignment result: None\n",
      "Full word matches: [{'match_text': 'john williams', 'original_text': 'john williams', 'label': 'person', 'score': 100.0, 'start': 21, 'end': 34, 'is_full_word': True}]\n",
      "Fuzzy matches: [{'match_text': 'john williams', 'original_text': 'john williams', 'label': 'person', 'score': 100.0, 'start': 21, 'end': 34, 'is_full_word': True}]\n",
      "Entities found: {'movie': [], 'relation': [], 'person': ['John Williams']}\n",
      "Person string: John Williams\n",
      "It seems there are several entries for John Williams:\n",
      "1. English actor (1903-1983)\n",
      "2. American composer, conductor, pianist and trombonist (born 1932)\n",
      "Let me know which one are you asking about or whether you'd like to stop.\n"
     ]
    }
   ],
   "execution_count": 33
  },
  {
   "cell_type": "code",
   "execution_count": 34,
   "outputs": [
    {
     "data": {
      "text/plain": "\"I understand you're asking about the English actor (1903-1983).\""
     },
     "execution_count": 34,
     "metadata": {},
     "output_type": "execute_result"
    }
   ],
   "source": [
    "agent_answering_service.get_message_picked_choice(\"1.\")"
   ],
   "metadata": {
    "collapsed": false
   }
  },
  {
   "cell_type": "code",
   "metadata": {
    "collapsed": false,
    "ExecuteTime": {
     "end_time": "2024-11-26T21:20:30.992559Z",
     "start_time": "2024-11-26T21:20:30.595501Z"
    }
   },
   "source": [
    "agent_answering_service.get_answer_for_message(\"1.\")"
   ],
   "outputs": [
    {
     "data": {
      "text/plain": "'image:3919/rm1287922176 Here is a picture of John Williams.'"
     },
     "execution_count": 35,
     "metadata": {},
     "output_type": "execute_result"
    }
   ],
   "execution_count": 35
  },
  {
   "cell_type": "code",
   "metadata": {
    "ExecuteTime": {
     "end_time": "2024-11-26T21:20:31.384776Z",
     "start_time": "2024-11-26T21:20:31.016815Z"
    }
   },
   "source": [
    "agent_answering_service.get_answer_for_message(\"Show me a picture of Halle Berry\")"
   ],
   "outputs": [
    {
     "data": {
      "text/plain": "Batches:   0%|          | 0/1 [00:00<?, ?it/s]",
      "application/vnd.jupyter.widget-view+json": {
       "version_major": 2,
       "version_minor": 0,
       "model_id": "e23179455ec64a6d9215a6d7b25cf7dd"
      }
     },
     "metadata": {},
     "output_type": "display_data"
    },
    {
     "name": "stdout",
     "output_type": "stream",
     "text": [
      "Question type: QuestionCategory.MULTIMEDIA\n",
      "Mutated text: show me a picture of halle berry\n",
      "Matches after filtering overlapping matches: [{'original_text': 'halle berry', 'start': 21, 'end': 32}]\n",
      "NLTK matches: [{'original_text': 'halle berry', 'start': 21, 'end': 32}]\n",
      "Alignment result: None\n",
      "Full word matches: [{'match_text': 'halle berry', 'original_text': 'halle berry', 'label': 'person', 'score': 100.0, 'start': 21, 'end': 32, 'is_full_word': True}]\n",
      "Fuzzy matches: [{'match_text': 'halle berry', 'original_text': 'halle berry', 'label': 'person', 'score': 100.0, 'start': 21, 'end': 32, 'is_full_word': True}]\n",
      "Entities found: {'movie': [], 'relation': [], 'person': ['Halle Berry']}\n",
      "Person string: Halle Berry\n"
     ]
    },
    {
     "data": {
      "text/plain": "'image:0280/rm3811584000 Hope you enjoy this striking photo of Halle Berry.'"
     },
     "execution_count": 36,
     "metadata": {},
     "output_type": "execute_result"
    }
   ],
   "execution_count": 36
  },
  {
   "cell_type": "markdown",
   "metadata": {},
   "source": [
    "## Smalltalk "
   ]
  },
  {
   "cell_type": "code",
   "metadata": {
    "ExecuteTime": {
     "end_time": "2024-11-26T21:20:33.661231Z",
     "start_time": "2024-11-26T21:20:31.392657Z"
    }
   },
   "source": [
    "agent_answering_service.get_answer_for_message(\"Hi, how are you doing?\")"
   ],
   "outputs": [
    {
     "data": {
      "text/plain": "Batches:   0%|          | 0/1 [00:00<?, ?it/s]",
      "application/vnd.jupyter.widget-view+json": {
       "version_major": 2,
       "version_minor": 0,
       "model_id": "9dfbd44dfb174327bfa1a4e4d60e93d3"
      }
     },
     "metadata": {},
     "output_type": "display_data"
    },
    {
     "name": "stdout",
     "output_type": "stream",
     "text": [
      "Question type: QuestionCategory.SMALLTALK\n",
      "Use LLM: False\n"
     ]
    },
    {
     "data": {
      "text/plain": "\"I'm not sure how to answer that. Can you please rephrase?\""
     },
     "execution_count": 37,
     "metadata": {},
     "output_type": "execute_result"
    }
   ],
   "execution_count": 37
  },
  {
   "cell_type": "markdown",
   "metadata": {},
   "source": [
    "# Test for all questions from Evaulation 2"
   ]
  },
  {
   "cell_type": "code",
   "metadata": {
    "ExecuteTime": {
     "end_time": "2024-11-26T21:20:33.898204Z",
     "start_time": "2024-11-26T21:20:33.676205Z"
    }
   },
   "source": [
    "# Create a DataFrame with the unique questions\n",
    "import pandas as pd\n",
    "questions_data = {\n",
    "    \"Question\": [\n",
    "        \"Who is the screenwriter of The Masked Gang: Cyprus?\",\n",
    "        \"Who is the director of Good Will Hunting?\",\n",
    "        \"Who directed The Bridge on the River Kwai?\",\n",
    "        \"Who is the director of Star Wars: Episode VI - Return of the Jedi?\",\n",
    "        \"Given that I like The Lion King, Pocahontas, and The Beauty and the Beast, can you recommend some movies?\",\n",
    "        \"The second one.\",\n",
    "        \"The last one.\",\n",
    "        \"Who is the screenwriter of 12 Monkeys?\",\n",
    "        \"Who is the director of Forrest Gump?\",\n",
    "        \"What is the genre of Good Neighbors?\",\n",
    "        \"Who directed Titanic?\",\n",
    "        \"That's already enough.\",\n",
    "        \"What is the genre of Titanic?\",\n",
    "        \"The third one.\",\n",
    "        \"What is the genre of Harry Potter?\",\n",
    "        \"What is the genre of Die Hard?\",\n",
    "        \"Who directs The Matrix?\",\n",
    "        \"Who directed 8 Mile?\",\n",
    "        \"What is the genre of Shoplifters?\",\n",
    "        \"Who directed The Longest Day?\",\n",
    "        \"What is the IMDb ID of Apocalypse Now?\",\n",
    "        \"Which movie has the lowest user rating?\",\n",
    "        \"What is the best movie in IMDB?\",\n",
    "        \"When was 'The Godfather' released?\",\n",
    "        \"What is the MPAA film rating of Weathering with You?\",\n",
    "        \"Do you know Shoplifters? What genre does this movie have?\",\n",
    "        \"Hi\",\n",
    "        \"Hi there\",\n",
    "        \"Thanks\",\n",
    "        \"How are you?\",\n",
    "        \"What do you think of the genre of Shoplifters?\",\n",
    "        \"Tell me all of the players in Avatar.\",\n",
    "        \"Who is the gossip girl of directors?\",\n",
    "        \"What genres are in Good Will Hunting?\",\n",
    "        \"Hello! Nice to have you here. I can answer multiple questions regarding movies. Let's start!\",\n",
    "        \"Do you know Shoplifters? What genre does this movie have?\"\n",
    "    ]\n",
    "}\n",
    "\n",
    "questions_df = pd.DataFrame(questions_data)"
   ],
   "outputs": [],
   "execution_count": 38
  },
  {
   "cell_type": "code",
   "metadata": {
    "ExecuteTime": {
     "end_time": "2024-11-26T21:21:29.700998Z",
     "start_time": "2024-11-26T21:20:33.923663Z"
    }
   },
   "source": [
    "answers = []\n",
    "for question in questions_df[\"Question\"]:\n",
    "    try:\n",
    "        # Call the function to get the answer\n",
    "        answer = agent_answering_service.get_answer_for_message(question)\n",
    "        answers.append(answer)\n",
    "    except Exception as e:\n",
    "        # If an error occurs, store the error message as the answer\n",
    "        answers.append(f\"Error: {str(e)}\")\n",
    "\n",
    "# Add the answers to the DataFrame\n",
    "questions_df[\"Answer\"] = answers"
   ],
   "outputs": [
    {
     "data": {
      "text/plain": "Batches:   0%|          | 0/1 [00:00<?, ?it/s]",
      "application/vnd.jupyter.widget-view+json": {
       "version_major": 2,
       "version_minor": 0,
       "model_id": "d9a73c5e2fb0462c933269ec12bba900"
      }
     },
     "metadata": {},
     "output_type": "display_data"
    },
    {
     "name": "stdout",
     "output_type": "stream",
     "text": [
      "Question type: QuestionCategory.KNOWLEDGE\n",
      "Mutated text: who is the screenwriter of the masked gang: cyprus\n",
      "Matches after filtering overlapping matches: [{'original_text': 'the masked gang: cyprus', 'start': 27, 'end': 50}]\n",
      "NLTK matches: [{'original_text': 'the masked gang: cyprus', 'start': 27, 'end': 50}]\n",
      "Alignment result: None\n",
      "Full word matches: [{'match_text': 'the masked gang: cyprus', 'original_text': 'the masked gang: cyprus', 'label': 'movie', 'score': 100.0, 'start': 27, 'end': 50, 'is_full_word': True}]\n",
      "Fuzzy matches: [{'match_text': 'the masked gang: cyprus', 'original_text': 'the masked gang: cyprus', 'label': 'movie', 'score': 100.0, 'start': 27, 'end': 50, 'is_full_word': True}]\n",
      "NLTK entity found: ['The Masked Gang: Cyprus']\n",
      "Mutated text: who is the screenwriter of \n",
      "Matches after filtering overlapping matches: [{'original_text': 'screenwriter', 'start': 11, 'end': 23}]\n",
      "NLTK matches: [{'original_text': 'screenwriter', 'start': 11, 'end': 23}]\n",
      "Alignment result: None\n",
      "Full word matches: [{'match_text': 'screenwriter', 'original_text': 'screenwriter', 'label': 'relation', 'score': 100.0, 'start': 11, 'end': 23, 'is_full_word': True}]\n",
      "Fuzzy matches: [{'match_text': 'screenwriter', 'original_text': 'screenwriter', 'label': 'relation', 'score': 100.0, 'start': 11, 'end': 23, 'is_full_word': True}]\n",
      "NLTK relationship found: ['screenwriter']\n",
      "2024-12-09 16:02:46,578 - root - INFO - Movie: The Masked Gang: Cyprus, Relation: screenwriter\n",
      "2024-12-09 16:02:46,580 - root - INFO - Movie: Q7750525, Relation: P58\n"
     ]
    },
    {
     "data": {
      "text/plain": "Batches:   0%|          | 0/1 [00:00<?, ?it/s]",
      "application/vnd.jupyter.widget-view+json": {
       "version_major": 2,
       "version_minor": 0,
       "model_id": "fd0e4a8377644702a5f42acbccaa8ef1"
      }
     },
     "metadata": {},
     "output_type": "display_data"
    },
    {
     "name": "stdout",
     "output_type": "stream",
     "text": [
      "Question type: QuestionCategory.KNOWLEDGE\n",
      "Mutated text: who is the director of good will hunting\n",
      "Matches after filtering overlapping matches: [{'original_text': 'good will hunting', 'start': 23, 'end': 40}]\n",
      "NLTK matches: [{'original_text': 'good will hunting', 'start': 23, 'end': 40}]\n",
      "Alignment result: None\n",
      "Full word matches: [{'match_text': 'good', 'original_text': 'good', 'label': 'movie', 'score': 100.0, 'start': 23, 'end': 27, 'is_full_word': True}, {'match_text': 'good will hunting', 'original_text': 'good will hunting', 'label': 'movie', 'score': 100.0, 'start': 23, 'end': 40, 'is_full_word': True}]\n",
      "Fuzzy matches: [{'match_text': 'good', 'original_text': 'good', 'label': 'movie', 'score': 100.0, 'start': 23, 'end': 27, 'is_full_word': True}]\n",
      "NLTK entity found: ['Good Will Hunting']\n",
      "Mutated text: who is the director of \n",
      "Matches after filtering overlapping matches: [{'original_text': 'director', 'start': 11, 'end': 19}]\n",
      "NLTK matches: [{'original_text': 'director', 'start': 11, 'end': 19}]\n",
      "Alignment result: None\n",
      "Full word matches: [{'match_text': 'director', 'original_text': 'director', 'label': 'relation', 'score': 100.0, 'start': 11, 'end': 19, 'is_full_word': True}]\n",
      "Fuzzy matches: [{'match_text': 'director', 'original_text': 'director', 'label': 'relation', 'score': 100.0, 'start': 11, 'end': 19, 'is_full_word': True}]\n",
      "NLTK relationship found: ['director']\n",
      "2024-12-09 16:02:47,090 - root - INFO - Movie: Good Will Hunting, Relation: director\n",
      "2024-12-09 16:02:47,090 - root - INFO - Movie: Q193835, Relation: P57\n"
     ]
    },
    {
     "data": {
      "text/plain": "Batches:   0%|          | 0/1 [00:00<?, ?it/s]",
      "application/vnd.jupyter.widget-view+json": {
       "version_major": 2,
       "version_minor": 0,
       "model_id": "0b9f4bdbd0dc4bf2acd77e9a7ff19100"
      }
     },
     "metadata": {},
     "output_type": "display_data"
    },
    {
     "name": "stdout",
     "output_type": "stream",
     "text": [
      "Question type: QuestionCategory.KNOWLEDGE\n",
      "Mutated text: who directed the bridge on the river kwai\n",
      "Matches after filtering overlapping matches: [{'original_text': 'the bridge on the river kwai', 'start': 13, 'end': 41}]\n",
      "NLTK matches: [{'original_text': 'the bridge on the river kwai', 'start': 13, 'end': 41}]\n",
      "Alignment result: None\n",
      "Full word matches: [{'match_text': 'the river', 'original_text': 'the river', 'label': 'movie', 'score': 100.0, 'start': 27, 'end': 36, 'is_full_word': True}, {'match_text': 'the bridge', 'original_text': 'the bridge', 'label': 'movie', 'score': 100.0, 'start': 13, 'end': 23, 'is_full_word': True}, {'match_text': 'the bridge on the river kwai', 'original_text': 'the bridge on the river kwai', 'label': 'movie', 'score': 100.0, 'start': 13, 'end': 41, 'is_full_word': True}]\n",
      "Fuzzy matches: [{'match_text': 'the bridge', 'original_text': 'the bridge', 'label': 'movie', 'score': 100.0, 'start': 13, 'end': 23, 'is_full_word': True}, {'match_text': 'the river', 'original_text': 'the river', 'label': 'movie', 'score': 100.0, 'start': 27, 'end': 36, 'is_full_word': True}]\n",
      "NLTK entity found: ['The Bridge on the River Kwai']\n",
      "Mutated text: who directed \n",
      "Matches after filtering overlapping matches: []\n",
      "NLTK matches: []\n",
      "Alignment result: None\n",
      "Full word matches: []\n",
      "Fuzzy matches: []\n",
      "Embedding extraction for  Who directed \n"
     ]
    },
    {
     "data": {
      "text/plain": "Batches:   0%|          | 0/1 [00:00<?, ?it/s]",
      "application/vnd.jupyter.widget-view+json": {
       "version_major": 2,
       "version_minor": 0,
       "model_id": "b634ac554f17426b82bcafc3c0950e45"
      }
     },
     "metadata": {},
     "output_type": "display_data"
    },
    {
     "name": "stdout",
     "output_type": "stream",
     "text": [
      "Most similar relation: director with distance: 0.6489187479019165\n",
      "Most similar relation: director\n",
      "Embedding relationship found: ['director']\n",
      "2024-12-09 16:02:47,431 - root - INFO - Movie: The Bridge on the River Kwai, Relation: director\n",
      "2024-12-09 16:02:47,432 - root - INFO - Movie: Q188718, Relation: P57\n"
     ]
    },
    {
     "data": {
      "text/plain": "Batches:   0%|          | 0/1 [00:00<?, ?it/s]",
      "application/vnd.jupyter.widget-view+json": {
       "version_major": 2,
       "version_minor": 0,
       "model_id": "15fc98619c434e1f9eecba413b4c394f"
      }
     },
     "metadata": {},
     "output_type": "display_data"
    },
    {
     "name": "stdout",
     "output_type": "stream",
     "text": [
      "Question type: QuestionCategory.KNOWLEDGE\n",
      "Mutated text: who is the director of star wars: episode vi - return of the jedi\n",
      "Matches after filtering overlapping matches: [{'original_text': 'return', 'start': 47, 'end': 53}]\n",
      "NLTK matches: [{'original_text': 'return', 'start': 47, 'end': 53}]\n",
      "Alignment result: None\n",
      "Full word matches: [{'match_text': 'return', 'original_text': 'return', 'label': 'movie', 'score': 100.0, 'start': 47, 'end': 53, 'is_full_word': True}, {'match_text': 'star wars: episode vi - return of the jedi', 'original_text': 'star wars: episode vi – return of the jedi', 'label': 'movie', 'score': 97.61904761904762, 'start': 23, 'end': 65, 'is_full_word': True}]\n",
      "Fuzzy matches: [{'match_text': 'return', 'original_text': 'return', 'label': 'movie', 'score': 100.0, 'start': 47, 'end': 53, 'is_full_word': True}]\n",
      "Mutated text: who is the director of star wars: episode vi – return of the jedi\n",
      "Matches after filtering overlapping matches: [{'original_text': 'star wars: episode vi – return of the jedi', 'start': 23, 'end': 65}]\n",
      "NLTK matches: [{'original_text': 'star wars: episode vi – return of the jedi', 'start': 23, 'end': 65}]\n",
      "Alignment result: None\n",
      "Full word matches: [{'match_text': 'return', 'original_text': 'return', 'label': 'movie', 'score': 100.0, 'start': 47, 'end': 53, 'is_full_word': True}, {'match_text': 'star wars: episode vi – return of the jedi', 'original_text': 'star wars: episode vi – return of the jedi', 'label': 'movie', 'score': 100.0, 'start': 23, 'end': 65, 'is_full_word': True}]\n",
      "Fuzzy matches: [{'match_text': 'return', 'original_text': 'return', 'label': 'movie', 'score': 100.0, 'start': 47, 'end': 53, 'is_full_word': True}]\n",
      "Mutated text: who is the director of star wars: episode vi — return of the jedi\n",
      "Matches after filtering overlapping matches: [{'original_text': 'return', 'start': 47, 'end': 53}]\n",
      "NLTK matches: [{'original_text': 'return', 'start': 47, 'end': 53}]\n",
      "Alignment result: None\n",
      "Full word matches: [{'match_text': 'return', 'original_text': 'return', 'label': 'movie', 'score': 100.0, 'start': 47, 'end': 53, 'is_full_word': True}, {'match_text': 'star wars: episode vi — return of the jedi', 'original_text': 'star wars: episode vi – return of the jedi', 'label': 'movie', 'score': 97.61904761904762, 'start': 23, 'end': 65, 'is_full_word': True}]\n",
      "Fuzzy matches: [{'match_text': 'return', 'original_text': 'return', 'label': 'movie', 'score': 100.0, 'start': 47, 'end': 53, 'is_full_word': True}]\n",
      "NLTK entity found: ['Star Wars: Episode VI – Return of the Jedi']\n",
      "Mutated text: who is the director of star wars: episode vi - return of the jedi\n",
      "Matches after filtering overlapping matches: [{'original_text': 'director', 'start': 11, 'end': 19}]\n",
      "NLTK matches: [{'original_text': 'director', 'start': 11, 'end': 19}]\n",
      "Alignment result: None\n",
      "Full word matches: [{'match_text': 'director', 'original_text': 'director', 'label': 'relation', 'score': 100.0, 'start': 11, 'end': 19, 'is_full_word': True}]\n",
      "Fuzzy matches: [{'match_text': 'director', 'original_text': 'director', 'label': 'relation', 'score': 100.0, 'start': 11, 'end': 19, 'is_full_word': True}]\n",
      "Mutated text: who is the director of star wars: episode vi – return of the jedi\n",
      "Matches after filtering overlapping matches: [{'original_text': 'director', 'start': 11, 'end': 19}]\n",
      "NLTK matches: [{'original_text': 'director', 'start': 11, 'end': 19}]\n",
      "Alignment result: None\n",
      "Full word matches: [{'match_text': 'director', 'original_text': 'director', 'label': 'relation', 'score': 100.0, 'start': 11, 'end': 19, 'is_full_word': True}]\n",
      "Fuzzy matches: [{'match_text': 'director', 'original_text': 'director', 'label': 'relation', 'score': 100.0, 'start': 11, 'end': 19, 'is_full_word': True}]\n",
      "Mutated text: who is the director of star wars: episode vi — return of the jedi\n",
      "Matches after filtering overlapping matches: [{'original_text': 'director', 'start': 11, 'end': 19}]\n",
      "NLTK matches: [{'original_text': 'director', 'start': 11, 'end': 19}]\n",
      "Alignment result: None\n",
      "Full word matches: [{'match_text': 'director', 'original_text': 'director', 'label': 'relation', 'score': 100.0, 'start': 11, 'end': 19, 'is_full_word': True}]\n",
      "Fuzzy matches: [{'match_text': 'director', 'original_text': 'director', 'label': 'relation', 'score': 100.0, 'start': 11, 'end': 19, 'is_full_word': True}]\n",
      "NLTK relationship found: ['director']\n",
      "2024-12-09 16:02:47,972 - root - INFO - Movie: Star Wars: Episode VI – Return of the Jedi, Relation: director\n",
      "2024-12-09 16:02:47,972 - root - INFO - Movie: Q181803, Relation: P57\n"
     ]
    },
    {
     "data": {
      "text/plain": "Batches:   0%|          | 0/1 [00:00<?, ?it/s]",
      "application/vnd.jupyter.widget-view+json": {
       "version_major": 2,
       "version_minor": 0,
       "model_id": "3cffd947434c42c297bed28a18a641f2"
      }
     },
     "metadata": {},
     "output_type": "display_data"
    },
    {
     "name": "stdout",
     "output_type": "stream",
     "text": [
      "Question type: QuestionCategory.RECOMMENDATION\n",
      "Mutated text: given that i like the lion king, pocahontas, and the beauty and the beast, can you recommend some movies?\n",
      "Matches after filtering overlapping matches: [{'original_text': 'the lion king', 'start': 18, 'end': 31}, {'original_text': 'beauty and the beast', 'start': 53, 'end': 73}, {'original_text': 'pocahontas', 'start': 33, 'end': 43}]\n",
      "NLTK matches: [{'original_text': 'the lion king', 'start': 18, 'end': 31}, {'original_text': 'beauty and the beast', 'start': 53, 'end': 73}, {'original_text': 'pocahontas', 'start': 33, 'end': 43}]\n",
      "Alignment result: None\n",
      "Full word matches: [{'match_text': 'the lion king', 'original_text': 'the lion king', 'label': 'movie', 'score': 100.0, 'start': 18, 'end': 31, 'is_full_word': True}, {'match_text': 'beast', 'original_text': 'beast', 'label': 'movie', 'score': 100.0, 'start': 68, 'end': 73, 'is_full_word': True}, {'match_text': 'beauty', 'original_text': 'beauty', 'label': 'movie', 'score': 100.0, 'start': 53, 'end': 59, 'is_full_word': True}, {'match_text': 'beauty and the beast', 'original_text': 'beauty and the beast', 'label': 'movie', 'score': 100.0, 'start': 53, 'end': 73, 'is_full_word': True}, {'match_text': 'the beast', 'original_text': 'the beast', 'label': 'movie', 'score': 100.0, 'start': 64, 'end': 73, 'is_full_word': True}, {'match_text': 'lion', 'original_text': 'lion', 'label': 'movie', 'score': 100.0, 'start': 22, 'end': 26, 'is_full_word': True}, {'match_text': 'pocahontas', 'original_text': 'pocahontas', 'label': 'movie', 'score': 100.0, 'start': 33, 'end': 43, 'is_full_word': True}]\n",
      "Fuzzy matches: [{'match_text': 'the lion king', 'original_text': 'the lion king', 'label': 'movie', 'score': 100.0, 'start': 18, 'end': 31, 'is_full_word': True}, {'match_text': 'pocahontas', 'original_text': 'pocahontas', 'label': 'movie', 'score': 100.0, 'start': 33, 'end': 43, 'is_full_word': True}, {'match_text': 'beauty', 'original_text': 'beauty', 'label': 'movie', 'score': 100.0, 'start': 53, 'end': 59, 'is_full_word': True}, {'match_text': 'beast', 'original_text': 'beast', 'label': 'movie', 'score': 100.0, 'start': 68, 'end': 73, 'is_full_word': True}]\n",
      "NLTK entity found: ['The Lion King', 'Pocahontas', 'Beauty and the Beast']\n",
      "No images found for IMDb ID: tt0053285\n",
      "No images found for IMDb ID: tt0048280\n"
     ]
    },
    {
     "data": {
      "text/plain": "Batches:   0%|          | 0/1 [00:00<?, ?it/s]",
      "application/vnd.jupyter.widget-view+json": {
       "version_major": 2,
       "version_minor": 0,
       "model_id": "440e02d095c44ca3853836e7e586f0e2"
      }
     },
     "metadata": {},
     "output_type": "display_data"
    },
    {
     "name": "stdout",
     "output_type": "stream",
     "text": [
      "Question type: QuestionCategory.KNOWLEDGE\n",
      "Mutated text: who is the screenwriter of 12 monkeys\n",
      "Matches after filtering overlapping matches: [{'original_text': '12 monkeys', 'start': 27, 'end': 37}]\n",
      "NLTK matches: [{'original_text': '12 monkeys', 'start': 27, 'end': 37}]\n",
      "Alignment result: None\n",
      "Full word matches: [{'match_text': '12', 'original_text': '12', 'label': 'movie', 'score': 100.0, 'start': 27, 'end': 29, 'is_full_word': True}, {'match_text': '12 monkeys', 'original_text': '12 monkeys', 'label': 'movie', 'score': 100.0, 'start': 27, 'end': 37, 'is_full_word': True}]\n",
      "Fuzzy matches: [{'match_text': '12', 'original_text': '12', 'label': 'movie', 'score': 100.0, 'start': 27, 'end': 29, 'is_full_word': True}]\n",
      "NLTK entity found: ['12 Monkeys']\n",
      "Mutated text: who is the screenwriter of \n",
      "Matches after filtering overlapping matches: [{'original_text': 'screenwriter', 'start': 11, 'end': 23}]\n",
      "NLTK matches: [{'original_text': 'screenwriter', 'start': 11, 'end': 23}]\n",
      "Alignment result: None\n",
      "Full word matches: [{'match_text': 'screenwriter', 'original_text': 'screenwriter', 'label': 'relation', 'score': 100.0, 'start': 11, 'end': 23, 'is_full_word': True}]\n",
      "Fuzzy matches: [{'match_text': 'screenwriter', 'original_text': 'screenwriter', 'label': 'relation', 'score': 100.0, 'start': 11, 'end': 23, 'is_full_word': True}]\n",
      "NLTK relationship found: ['screenwriter']\n",
      "2024-12-09 16:02:48,490 - root - INFO - Movie: 12 Monkeys, Relation: screenwriter\n",
      "2024-12-09 16:02:48,490 - root - INFO - Movie: Q175038, Relation: P58\n"
     ]
    },
    {
     "data": {
      "text/plain": "Batches:   0%|          | 0/1 [00:00<?, ?it/s]",
      "application/vnd.jupyter.widget-view+json": {
       "version_major": 2,
       "version_minor": 0,
       "model_id": "62d9a0a406614e839363d8abfae92fba"
      }
     },
     "metadata": {},
     "output_type": "display_data"
    },
    {
     "name": "stdout",
     "output_type": "stream",
     "text": [
      "Question type: QuestionCategory.KNOWLEDGE\n",
      "Mutated text: who is the director of forrest gump\n",
      "Matches after filtering overlapping matches: [{'original_text': 'forrest gump', 'start': 23, 'end': 35}]\n",
      "NLTK matches: [{'original_text': 'forrest gump', 'start': 23, 'end': 35}]\n",
      "Alignment result: None\n",
      "Full word matches: [{'match_text': 'forrest gump', 'original_text': 'forrest gump', 'label': 'movie', 'score': 100.0, 'start': 23, 'end': 35, 'is_full_word': True}]\n",
      "Fuzzy matches: [{'match_text': 'forrest gump', 'original_text': 'forrest gump', 'label': 'movie', 'score': 100.0, 'start': 23, 'end': 35, 'is_full_word': True}]\n",
      "NLTK entity found: ['Forrest Gump']\n",
      "Mutated text: who is the director of \n",
      "Matches after filtering overlapping matches: [{'original_text': 'director', 'start': 11, 'end': 19}]\n",
      "NLTK matches: [{'original_text': 'director', 'start': 11, 'end': 19}]\n",
      "Alignment result: None\n",
      "Full word matches: [{'match_text': 'director', 'original_text': 'director', 'label': 'relation', 'score': 100.0, 'start': 11, 'end': 19, 'is_full_word': True}]\n",
      "Fuzzy matches: [{'match_text': 'director', 'original_text': 'director', 'label': 'relation', 'score': 100.0, 'start': 11, 'end': 19, 'is_full_word': True}]\n",
      "NLTK relationship found: ['director']\n",
      "2024-12-09 16:02:48,710 - root - INFO - Movie: Forrest Gump, Relation: director\n",
      "2024-12-09 16:02:48,711 - root - INFO - Movie: Q134773, Relation: P57\n"
     ]
    },
    {
     "data": {
      "text/plain": "Batches:   0%|          | 0/1 [00:00<?, ?it/s]",
      "application/vnd.jupyter.widget-view+json": {
       "version_major": 2,
       "version_minor": 0,
       "model_id": "b359e7596937424fb7689901b4030465"
      }
     },
     "metadata": {},
     "output_type": "display_data"
    },
    {
     "name": "stdout",
     "output_type": "stream",
     "text": [
      "Question type: QuestionCategory.KNOWLEDGE\n",
      "Mutated text: what is the genre of good neighbors\n",
      "Matches after filtering overlapping matches: [{'original_text': 'good neighbors', 'start': 21, 'end': 35}]\n",
      "NLTK matches: [{'original_text': 'good neighbors', 'start': 21, 'end': 35}]\n",
      "Alignment result: None\n",
      "Full word matches: [{'match_text': 'good neighbors', 'original_text': 'good neighbors', 'label': 'movie', 'score': 100.0, 'start': 21, 'end': 35, 'is_full_word': True}, {'match_text': 'good', 'original_text': 'good', 'label': 'movie', 'score': 100.0, 'start': 21, 'end': 25, 'is_full_word': True}, {'match_text': 'neighbors', 'original_text': 'neighbors', 'label': 'movie', 'score': 100.0, 'start': 26, 'end': 35, 'is_full_word': True}, {'match_text': 'neighbors', 'original_text': 'neighbors 2', 'label': 'movie', 'score': 95.23809523809523, 'start': 26, 'end': 36, 'is_full_word': True}]\n",
      "Fuzzy matches: [{'match_text': 'good neighbors', 'original_text': 'good neighbors', 'label': 'movie', 'score': 100.0, 'start': 21, 'end': 35, 'is_full_word': True}]\n",
      "NLTK entity found: ['Good Neighbors']\n",
      "Mutated text: what is the genre of \n",
      "Matches after filtering overlapping matches: [{'original_text': 'genre', 'start': 12, 'end': 17}]\n",
      "NLTK matches: [{'original_text': 'genre', 'start': 12, 'end': 17}]\n",
      "Alignment result: None\n",
      "Full word matches: [{'match_text': 'genre', 'original_text': 'genre', 'label': 'relation', 'score': 100.0, 'start': 12, 'end': 17, 'is_full_word': True}]\n",
      "Fuzzy matches: [{'match_text': 'genre', 'original_text': 'genre', 'label': 'relation', 'score': 100.0, 'start': 12, 'end': 17, 'is_full_word': True}]\n",
      "NLTK relationship found: ['genre']\n",
      "2024-12-09 16:02:48,980 - root - INFO - Movie: Good Neighbors, Relation: genre\n",
      "2024-12-09 16:02:48,988 - root - INFO - Movie: Q3110682, Relation: P136\n"
     ]
    },
    {
     "data": {
      "text/plain": "Batches:   0%|          | 0/1 [00:00<?, ?it/s]",
      "application/vnd.jupyter.widget-view+json": {
       "version_major": 2,
       "version_minor": 0,
       "model_id": "b702c448a3554f20a72469c8e2e8fcc5"
      }
     },
     "metadata": {},
     "output_type": "display_data"
    },
    {
     "name": "stdout",
     "output_type": "stream",
     "text": [
      "Question type: QuestionCategory.KNOWLEDGE\n",
      "Mutated text: who directed titanic\n",
      "Matches after filtering overlapping matches: [{'original_text': 'titanic', 'start': 13, 'end': 20}]\n",
      "NLTK matches: [{'original_text': 'titanic', 'start': 13, 'end': 20}]\n",
      "Alignment result: None\n",
      "Full word matches: [{'match_text': 'titanic', 'original_text': 'titanic', 'label': 'movie', 'score': 100.0, 'start': 13, 'end': 20, 'is_full_word': True}]\n",
      "Fuzzy matches: [{'match_text': 'titanic', 'original_text': 'titanic', 'label': 'movie', 'score': 100.0, 'start': 13, 'end': 20, 'is_full_word': True}]\n",
      "NLTK entity found: ['Titanic']\n",
      "Mutated text: who directed \n",
      "Matches after filtering overlapping matches: []\n",
      "NLTK matches: []\n",
      "Alignment result: None\n",
      "Full word matches: []\n",
      "Fuzzy matches: []\n",
      "Embedding extraction for  Who directed \n"
     ]
    },
    {
     "data": {
      "text/plain": "Batches:   0%|          | 0/1 [00:00<?, ?it/s]",
      "application/vnd.jupyter.widget-view+json": {
       "version_major": 2,
       "version_minor": 0,
       "model_id": "fc895e3adf31482cbf2c8ba187106804"
      }
     },
     "metadata": {},
     "output_type": "display_data"
    },
    {
     "name": "stdout",
     "output_type": "stream",
     "text": [
      "Most similar relation: director with distance: 0.6489187479019165\n",
      "Most similar relation: director\n",
      "Embedding relationship found: ['director']\n",
      "2024-12-09 16:02:49,290 - root - INFO - Movie: Titanic, Relation: director\n"
     ]
    },
    {
     "data": {
      "text/plain": "Batches:   0%|          | 0/1 [00:00<?, ?it/s]",
      "application/vnd.jupyter.widget-view+json": {
       "version_major": 2,
       "version_minor": 0,
       "model_id": "25a412135edb4f5ab2996769dcb40dbb"
      }
     },
     "metadata": {},
     "output_type": "display_data"
    },
    {
     "name": "stdout",
     "output_type": "stream",
     "text": [
      "Question type: QuestionCategory.KNOWLEDGE\n",
      "Mutated text: what is the genre of titanic\n",
      "Matches after filtering overlapping matches: [{'original_text': 'titanic', 'start': 21, 'end': 28}]\n",
      "NLTK matches: [{'original_text': 'titanic', 'start': 21, 'end': 28}]\n",
      "Alignment result: None\n",
      "Full word matches: [{'match_text': 'titanic', 'original_text': 'titanic', 'label': 'movie', 'score': 100.0, 'start': 21, 'end': 28, 'is_full_word': True}]\n",
      "Fuzzy matches: [{'match_text': 'titanic', 'original_text': 'titanic', 'label': 'movie', 'score': 100.0, 'start': 21, 'end': 28, 'is_full_word': True}]\n",
      "NLTK entity found: ['Titanic']\n",
      "Mutated text: what is the genre of \n",
      "Matches after filtering overlapping matches: [{'original_text': 'genre', 'start': 12, 'end': 17}]\n",
      "NLTK matches: [{'original_text': 'genre', 'start': 12, 'end': 17}]\n",
      "Alignment result: None\n",
      "Full word matches: [{'match_text': 'genre', 'original_text': 'genre', 'label': 'relation', 'score': 100.0, 'start': 12, 'end': 17, 'is_full_word': True}]\n",
      "Fuzzy matches: [{'match_text': 'genre', 'original_text': 'genre', 'label': 'relation', 'score': 100.0, 'start': 12, 'end': 17, 'is_full_word': True}]\n",
      "NLTK relationship found: ['genre']\n",
      "2024-12-09 16:02:49,424 - root - INFO - Movie: Titanic, Relation: genre\n",
      "2024-12-09 16:02:49,424 - root - INFO - Movie: Q44578, Relation: P136\n"
     ]
    },
    {
     "data": {
      "text/plain": "Batches:   0%|          | 0/1 [00:00<?, ?it/s]",
      "application/vnd.jupyter.widget-view+json": {
       "version_major": 2,
       "version_minor": 0,
       "model_id": "9b20142959774e108c280d3e8f3058a1"
      }
     },
     "metadata": {},
     "output_type": "display_data"
    },
    {
     "name": "stdout",
     "output_type": "stream",
     "text": [
      "Question type: QuestionCategory.KNOWLEDGE\n",
      "Mutated text: what is the genre of harry potter\n",
      "Matches after filtering overlapping matches: []\n",
      "NLTK matches: []\n",
      "Alignment result: None\n",
      "Full word matches: [{'match_text': 'harry', 'original_text': 'barry', 'label': 'movie', 'score': 80.0, 'start': 21, 'end': 26, 'is_full_word': True}]\n",
      "Fuzzy matches: [{'match_text': 'harry', 'original_text': 'barry', 'label': 'movie', 'score': 80.0, 'start': 21, 'end': 26, 'is_full_word': True}]\n",
      "NLTK entity found: ['Barry']\n",
      "Mutated text: what is the genre of harry potter\n",
      "Matches after filtering overlapping matches: [{'original_text': 'genre', 'start': 12, 'end': 17}]\n",
      "NLTK matches: [{'original_text': 'genre', 'start': 12, 'end': 17}]\n",
      "Alignment result: None\n",
      "Full word matches: [{'match_text': 'genre', 'original_text': 'genre', 'label': 'relation', 'score': 100.0, 'start': 12, 'end': 17, 'is_full_word': True}]\n",
      "Fuzzy matches: [{'match_text': 'genre', 'original_text': 'genre', 'label': 'relation', 'score': 100.0, 'start': 12, 'end': 17, 'is_full_word': True}]\n",
      "NLTK relationship found: ['genre']\n",
      "2024-12-09 16:02:49,727 - root - INFO - Movie: Barry, Relation: genre\n",
      "2024-12-09 16:02:49,727 - root - INFO - Movie: Q27907394, Relation: P136\n"
     ]
    },
    {
     "data": {
      "text/plain": "Batches:   0%|          | 0/1 [00:00<?, ?it/s]",
      "application/vnd.jupyter.widget-view+json": {
       "version_major": 2,
       "version_minor": 0,
       "model_id": "214ff43d19be4a57bb712db41de7377a"
      }
     },
     "metadata": {},
     "output_type": "display_data"
    },
    {
     "name": "stdout",
     "output_type": "stream",
     "text": [
      "Question type: QuestionCategory.KNOWLEDGE\n",
      "Mutated text: what is the genre of die hard\n",
      "Matches after filtering overlapping matches: [{'original_text': 'die hard', 'start': 21, 'end': 29}]\n",
      "NLTK matches: [{'original_text': 'die hard', 'start': 21, 'end': 29}]\n",
      "Alignment result: None\n",
      "Full word matches: [{'match_text': 'die hard', 'original_text': 'die hard', 'label': 'movie', 'score': 100.0, 'start': 21, 'end': 29, 'is_full_word': True}, {'match_text': 'die hard', 'original_text': 'die hard 2', 'label': 'movie', 'score': 94.73684210526316, 'start': 21, 'end': 30, 'is_full_word': True}]\n",
      "Fuzzy matches: [{'match_text': 'die hard', 'original_text': 'die hard', 'label': 'movie', 'score': 100.0, 'start': 21, 'end': 29, 'is_full_word': True}]\n",
      "NLTK entity found: ['Die Hard']\n",
      "Mutated text: what is the genre of \n",
      "Matches after filtering overlapping matches: [{'original_text': 'genre', 'start': 12, 'end': 17}]\n",
      "NLTK matches: [{'original_text': 'genre', 'start': 12, 'end': 17}]\n",
      "Alignment result: None\n",
      "Full word matches: [{'match_text': 'genre', 'original_text': 'genre', 'label': 'relation', 'score': 100.0, 'start': 12, 'end': 17, 'is_full_word': True}]\n",
      "Fuzzy matches: [{'match_text': 'genre', 'original_text': 'genre', 'label': 'relation', 'score': 100.0, 'start': 12, 'end': 17, 'is_full_word': True}]\n",
      "NLTK relationship found: ['genre']\n",
      "2024-12-09 16:02:49,881 - root - INFO - Movie: Die Hard, Relation: genre\n",
      "2024-12-09 16:02:49,881 - root - INFO - Movie: Q105598, Relation: P136\n"
     ]
    },
    {
     "data": {
      "text/plain": "Batches:   0%|          | 0/1 [00:00<?, ?it/s]",
      "application/vnd.jupyter.widget-view+json": {
       "version_major": 2,
       "version_minor": 0,
       "model_id": "7216353c068d4141bd0a15febac1fbd8"
      }
     },
     "metadata": {},
     "output_type": "display_data"
    },
    {
     "name": "stdout",
     "output_type": "stream",
     "text": [
      "Question type: QuestionCategory.KNOWLEDGE\n",
      "Mutated text: who directs the matrix\n",
      "Matches after filtering overlapping matches: [{'original_text': 'the matrix', 'start': 12, 'end': 22}]\n",
      "NLTK matches: [{'original_text': 'the matrix', 'start': 12, 'end': 22}]\n",
      "Alignment result: None\n",
      "Full word matches: [{'match_text': 'the matrix', 'original_text': 'the matrix', 'label': 'movie', 'score': 100.0, 'start': 12, 'end': 22, 'is_full_word': True}, {'match_text': 'the matrix', 'original_text': 'the matwix', 'label': 'movie', 'score': 90.0, 'start': 12, 'end': 22, 'is_full_word': True}, {'match_text': 'the matrix', 'original_text': 'the matrix 4', 'label': 'movie', 'score': 95.65217391304348, 'start': 12, 'end': 23, 'is_full_word': True}]\n",
      "Fuzzy matches: [{'match_text': 'the matrix', 'original_text': 'the matrix', 'label': 'movie', 'score': 100.0, 'start': 12, 'end': 22, 'is_full_word': True}]\n",
      "NLTK entity found: ['The Matrix']\n",
      "Mutated text: who directs \n",
      "Matches after filtering overlapping matches: []\n",
      "NLTK matches: []\n",
      "Alignment result: None\n",
      "Full word matches: []\n",
      "Fuzzy matches: []\n",
      "Embedding extraction for  Who directs \n"
     ]
    },
    {
     "data": {
      "text/plain": "Batches:   0%|          | 0/1 [00:00<?, ?it/s]",
      "application/vnd.jupyter.widget-view+json": {
       "version_major": 2,
       "version_minor": 0,
       "model_id": "9370b28fe4a449d4949ea3ce231f700e"
      }
     },
     "metadata": {},
     "output_type": "display_data"
    },
    {
     "name": "stdout",
     "output_type": "stream",
     "text": [
      "Most similar relation: director with distance: 0.6189345717430115\n",
      "Most similar relation: director\n",
      "Embedding relationship found: ['director']\n",
      "2024-12-09 16:02:50,183 - root - INFO - Movie: The Matrix, Relation: director\n",
      "2024-12-09 16:02:50,183 - root - INFO - Movie: Q83495, Relation: P57\n"
     ]
    },
    {
     "data": {
      "text/plain": "Batches:   0%|          | 0/1 [00:00<?, ?it/s]",
      "application/vnd.jupyter.widget-view+json": {
       "version_major": 2,
       "version_minor": 0,
       "model_id": "e9707ac8293c4f9ea21e39e2815a6ebb"
      }
     },
     "metadata": {},
     "output_type": "display_data"
    },
    {
     "name": "stdout",
     "output_type": "stream",
     "text": [
      "Question type: QuestionCategory.KNOWLEDGE\n",
      "Mutated text: who directed 8 mile\n",
      "Matches after filtering overlapping matches: [{'original_text': '8 mile', 'start': 13, 'end': 19}]\n",
      "NLTK matches: [{'original_text': '8 mile', 'start': 13, 'end': 19}]\n",
      "Alignment result: None\n",
      "Full word matches: [{'match_text': '8', 'original_text': '8', 'label': 'movie', 'score': 100.0, 'start': 13, 'end': 14, 'is_full_word': True}, {'match_text': '8 mile', 'original_text': '8 mile', 'label': 'movie', 'score': 100.0, 'start': 13, 'end': 19, 'is_full_word': True}]\n",
      "Fuzzy matches: [{'match_text': '8', 'original_text': '8', 'label': 'movie', 'score': 100.0, 'start': 13, 'end': 14, 'is_full_word': True}]\n",
      "NLTK entity found: ['8 Mile']\n",
      "Mutated text: who directed \n",
      "Matches after filtering overlapping matches: []\n",
      "NLTK matches: []\n",
      "Alignment result: None\n",
      "Full word matches: []\n",
      "Fuzzy matches: []\n",
      "Embedding extraction for  Who directed \n"
     ]
    },
    {
     "data": {
      "text/plain": "Batches:   0%|          | 0/1 [00:00<?, ?it/s]",
      "application/vnd.jupyter.widget-view+json": {
       "version_major": 2,
       "version_minor": 0,
       "model_id": "50b325c2a66b4f2da02a57d0ead119c4"
      }
     },
     "metadata": {},
     "output_type": "display_data"
    },
    {
     "name": "stdout",
     "output_type": "stream",
     "text": [
      "Most similar relation: director with distance: 0.6489187479019165\n",
      "Most similar relation: director\n",
      "Embedding relationship found: ['director']\n",
      "2024-12-09 16:02:50,486 - root - INFO - Movie: 8 Mile, Relation: director\n",
      "2024-12-09 16:02:50,486 - root - INFO - Movie: Q196665, Relation: P57\n"
     ]
    },
    {
     "data": {
      "text/plain": "Batches:   0%|          | 0/1 [00:00<?, ?it/s]",
      "application/vnd.jupyter.widget-view+json": {
       "version_major": 2,
       "version_minor": 0,
       "model_id": "5e1bb11bb24c4935aba2f910703574d6"
      }
     },
     "metadata": {},
     "output_type": "display_data"
    },
    {
     "name": "stdout",
     "output_type": "stream",
     "text": [
      "Question type: QuestionCategory.KNOWLEDGE\n",
      "Mutated text: what is the genre of shoplifters\n",
      "Matches after filtering overlapping matches: [{'original_text': 'shoplifters', 'start': 21, 'end': 32}]\n",
      "NLTK matches: [{'original_text': 'shoplifters', 'start': 21, 'end': 32}]\n",
      "Alignment result: None\n",
      "Full word matches: [{'match_text': 'shoplifters', 'original_text': 'shoplifters', 'label': 'movie', 'score': 100.0, 'start': 21, 'end': 32, 'is_full_word': True}]\n",
      "Fuzzy matches: [{'match_text': 'shoplifters', 'original_text': 'shoplifters', 'label': 'movie', 'score': 100.0, 'start': 21, 'end': 32, 'is_full_word': True}]\n",
      "NLTK entity found: ['Shoplifters']\n",
      "Mutated text: what is the genre of \n",
      "Matches after filtering overlapping matches: [{'original_text': 'genre', 'start': 12, 'end': 17}]\n",
      "NLTK matches: [{'original_text': 'genre', 'start': 12, 'end': 17}]\n",
      "Alignment result: None\n",
      "Full word matches: [{'match_text': 'genre', 'original_text': 'genre', 'label': 'relation', 'score': 100.0, 'start': 12, 'end': 17, 'is_full_word': True}]\n",
      "Fuzzy matches: [{'match_text': 'genre', 'original_text': 'genre', 'label': 'relation', 'score': 100.0, 'start': 12, 'end': 17, 'is_full_word': True}]\n",
      "NLTK relationship found: ['genre']\n",
      "2024-12-09 16:02:50,711 - root - INFO - Movie: Shoplifters, Relation: genre\n",
      "2024-12-09 16:02:50,712 - root - INFO - Movie: Q48765577, Relation: P136\n"
     ]
    },
    {
     "data": {
      "text/plain": "Batches:   0%|          | 0/1 [00:00<?, ?it/s]",
      "application/vnd.jupyter.widget-view+json": {
       "version_major": 2,
       "version_minor": 0,
       "model_id": "5f503b7dc6ee4def9a5c3a96d6087365"
      }
     },
     "metadata": {},
     "output_type": "display_data"
    },
    {
     "name": "stdout",
     "output_type": "stream",
     "text": [
      "Question type: QuestionCategory.KNOWLEDGE\n",
      "Mutated text: who directed the longest day\n",
      "Matches after filtering overlapping matches: [{'original_text': 'the longest day', 'start': 13, 'end': 28}]\n",
      "NLTK matches: [{'original_text': 'the longest day', 'start': 13, 'end': 28}]\n",
      "Alignment result: None\n",
      "Full word matches: [{'match_text': 'the longest day', 'original_text': 'the longest day', 'label': 'movie', 'score': 100.0, 'start': 13, 'end': 28, 'is_full_word': True}]\n",
      "Fuzzy matches: [{'match_text': 'the longest day', 'original_text': 'the longest day', 'label': 'movie', 'score': 100.0, 'start': 13, 'end': 28, 'is_full_word': True}]\n",
      "NLTK entity found: ['The Longest Day']\n",
      "Mutated text: who directed \n",
      "Matches after filtering overlapping matches: []\n",
      "NLTK matches: []\n",
      "Alignment result: None\n",
      "Full word matches: []\n",
      "Fuzzy matches: []\n",
      "Embedding extraction for  Who directed \n"
     ]
    },
    {
     "data": {
      "text/plain": "Batches:   0%|          | 0/1 [00:00<?, ?it/s]",
      "application/vnd.jupyter.widget-view+json": {
       "version_major": 2,
       "version_minor": 0,
       "model_id": "c354dc77e1e64c8b9b7ebf27ce61c10d"
      }
     },
     "metadata": {},
     "output_type": "display_data"
    },
    {
     "name": "stdout",
     "output_type": "stream",
     "text": [
      "Most similar relation: director with distance: 0.6489187479019165\n",
      "Most similar relation: director\n",
      "Embedding relationship found: ['director']\n",
      "2024-12-09 16:02:51,010 - root - INFO - Movie: The Longest Day, Relation: director\n",
      "2024-12-09 16:02:51,011 - root - INFO - Movie: Q468484, Relation: P57\n"
     ]
    },
    {
     "data": {
      "text/plain": "Batches:   0%|          | 0/1 [00:00<?, ?it/s]",
      "application/vnd.jupyter.widget-view+json": {
       "version_major": 2,
       "version_minor": 0,
       "model_id": "ebfe07e1fa224994894d5a8c2066e356"
      }
     },
     "metadata": {},
     "output_type": "display_data"
    },
    {
     "name": "stdout",
     "output_type": "stream",
     "text": [
      "Question type: QuestionCategory.KNOWLEDGE\n",
      "Mutated text: what is the imdb id of apocalypse now\n",
      "Matches after filtering overlapping matches: [{'original_text': 'apocalypse now', 'start': 23, 'end': 37}]\n",
      "NLTK matches: [{'original_text': 'apocalypse now', 'start': 23, 'end': 37}]\n",
      "Alignment result: None\n",
      "Full word matches: [{'match_text': 'apocalypse now', 'original_text': 'apocalypse now', 'label': 'movie', 'score': 100.0, 'start': 23, 'end': 37, 'is_full_word': True}]\n",
      "Fuzzy matches: [{'match_text': 'apocalypse now', 'original_text': 'apocalypse now', 'label': 'movie', 'score': 100.0, 'start': 23, 'end': 37, 'is_full_word': True}]\n",
      "NLTK entity found: ['Apocalypse Now']\n",
      "Mutated text: what is the imdb id of \n",
      "Matches after filtering overlapping matches: [{'original_text': 'imdb id', 'start': 12, 'end': 19}]\n",
      "NLTK matches: [{'original_text': 'imdb id', 'start': 12, 'end': 19}]\n",
      "Alignment result: None\n",
      "Full word matches: [{'match_text': 'imdb id', 'original_text': 'imdb id', 'label': 'relation', 'score': 100.0, 'start': 12, 'end': 19, 'is_full_word': True}]\n",
      "Fuzzy matches: [{'match_text': 'imdb id', 'original_text': 'imdb id', 'label': 'relation', 'score': 100.0, 'start': 12, 'end': 19, 'is_full_word': True}]\n",
      "NLTK relationship found: ['IMDb ID']\n",
      "2024-12-09 16:02:51,233 - root - INFO - Movie: Apocalypse Now, Relation: IMDb ID\n",
      "2024-12-09 16:02:51,233 - root - INFO - Movie: Q182692, Relation: P345\n"
     ]
    },
    {
     "data": {
      "text/plain": "Batches:   0%|          | 0/1 [00:00<?, ?it/s]",
      "application/vnd.jupyter.widget-view+json": {
       "version_major": 2,
       "version_minor": 0,
       "model_id": "996926e3b93d482aa2e748c6da1168bc"
      }
     },
     "metadata": {},
     "output_type": "display_data"
    },
    {
     "name": "stdout",
     "output_type": "stream",
     "text": [
      "Question type: QuestionCategory.KNOWLEDGE\n",
      "Mutated text: which movie has the lowest user rating\n",
      "Matches after filtering overlapping matches: []\n",
      "NLTK matches: []\n",
      "Alignment result: None\n",
      "Full word matches: [{'match_text': 'which', 'original_text': 'hitch', 'label': 'movie', 'score': 80.0, 'start': 0, 'end': 5, 'is_full_word': True}, {'match_text': 'the lowest', 'original_text': 'the forest', 'label': 'movie', 'score': 80.0, 'start': 16, 'end': 26, 'is_full_word': True}, {'match_text': 'the lowest', 'original_text': 'the closet', 'label': 'movie', 'score': 80.0, 'start': 16, 'end': 26, 'is_full_word': True}]\n",
      "Fuzzy matches: [{'match_text': 'the lowest', 'original_text': 'the forest', 'label': 'movie', 'score': 80.0, 'start': 16, 'end': 26, 'is_full_word': True}, {'match_text': 'which', 'original_text': 'hitch', 'label': 'movie', 'score': 80.0, 'start': 0, 'end': 5, 'is_full_word': True}]\n",
      "NLTK entity found: ['Hitch', 'The Forest']\n"
     ]
    },
    {
     "data": {
      "text/plain": "Batches:   0%|          | 0/1 [00:00<?, ?it/s]",
      "application/vnd.jupyter.widget-view+json": {
       "version_major": 2,
       "version_minor": 0,
       "model_id": "6a9429fc7feb419ebba15842be92693b"
      }
     },
     "metadata": {},
     "output_type": "display_data"
    },
    {
     "name": "stdout",
     "output_type": "stream",
     "text": [
      "Question type: QuestionCategory.RECOMMENDATION\n",
      "Mutated text: what is the best movie in imdb?\n",
      "Matches after filtering overlapping matches: [{'original_text': 'the best movie', 'start': 8, 'end': 22}]\n",
      "NLTK matches: [{'original_text': 'the best movie', 'start': 8, 'end': 22}]\n",
      "Alignment result: None\n",
      "Full word matches: [{'match_text': 'the best movie', 'original_text': 'the best movie', 'label': 'movie', 'score': 100.0, 'start': 8, 'end': 22, 'is_full_word': True}, {'match_text': 'best', 'original_text': 'best', 'label': 'movie', 'score': 100.0, 'start': 12, 'end': 16, 'is_full_word': True}]\n",
      "Fuzzy matches: [{'match_text': 'the best movie', 'original_text': 'the best movie', 'label': 'movie', 'score': 100.0, 'start': 8, 'end': 22, 'is_full_word': True}]\n",
      "NLTK entity found: ['The Best Movie']\n"
     ]
    },
    {
     "data": {
      "text/plain": "Batches:   0%|          | 0/1 [00:00<?, ?it/s]",
      "application/vnd.jupyter.widget-view+json": {
       "version_major": 2,
       "version_minor": 0,
       "model_id": "46a62de8cf9042daa0df5cc136718029"
      }
     },
     "metadata": {},
     "output_type": "display_data"
    },
    {
     "name": "stdout",
     "output_type": "stream",
     "text": [
      "Question type: QuestionCategory.KNOWLEDGE\n",
      "Mutated text: when was 'the godfather' released\n",
      "Matches after filtering overlapping matches: [{'original_text': 'the godfather', 'start': 10, 'end': 23}]\n",
      "NLTK matches: [{'original_text': 'the godfather', 'start': 10, 'end': 23}]\n",
      "Alignment result: None\n",
      "Full word matches: [{'match_text': 'the godfather', 'original_text': 'the godfather', 'label': 'movie', 'score': 100.0, 'start': 10, 'end': 23, 'is_full_word': True}, {'match_text': 'godfather', 'original_text': 'godfather', 'label': 'movie', 'score': 100.0, 'start': 14, 'end': 23, 'is_full_word': True}]\n",
      "Fuzzy matches: [{'match_text': 'the godfather', 'original_text': 'the godfather', 'label': 'movie', 'score': 100.0, 'start': 10, 'end': 23, 'is_full_word': True}]\n",
      "NLTK entity found: ['The Godfather']\n",
      "Manual relationship found: ['publication date']\n",
      "2024-12-09 16:02:53,519 - root - INFO - Movie: The Godfather, Relation: publication date\n",
      "2024-12-09 16:02:53,519 - root - INFO - Movie: Q47703, Relation: P577\n"
     ]
    },
    {
     "data": {
      "text/plain": "Batches:   0%|          | 0/1 [00:00<?, ?it/s]",
      "application/vnd.jupyter.widget-view+json": {
       "version_major": 2,
       "version_minor": 0,
       "model_id": "7fe9608457514176b1c0327a9f92f1d4"
      }
     },
     "metadata": {},
     "output_type": "display_data"
    },
    {
     "name": "stdout",
     "output_type": "stream",
     "text": [
      "Question type: QuestionCategory.KNOWLEDGE\n",
      "Mutated text: what is the mpaa film rating of weathering with you\n",
      "Matches after filtering overlapping matches: [{'original_text': 'weathering with you', 'start': 32, 'end': 51}]\n",
      "NLTK matches: [{'original_text': 'weathering with you', 'start': 32, 'end': 51}]\n",
      "Alignment result: None\n",
      "Full word matches: [{'match_text': 'weathering with you', 'original_text': 'weathering with you', 'label': 'movie', 'score': 100.0, 'start': 32, 'end': 51, 'is_full_word': True}]\n",
      "Fuzzy matches: [{'match_text': 'weathering with you', 'original_text': 'weathering with you', 'label': 'movie', 'score': 100.0, 'start': 32, 'end': 51, 'is_full_word': True}]\n",
      "NLTK entity found: ['Weathering with You']\n",
      "Mutated text: what is the mpaa film rating of \n",
      "Matches after filtering overlapping matches: [{'original_text': 'mpaa film rating', 'start': 12, 'end': 28}]\n",
      "NLTK matches: [{'original_text': 'mpaa film rating', 'start': 12, 'end': 28}]\n",
      "Alignment result: None\n",
      "Full word matches: [{'match_text': 'mpaa film rating', 'original_text': 'mpaa film rating', 'label': 'relation', 'score': 100.0, 'start': 12, 'end': 28, 'is_full_word': True}]\n",
      "Fuzzy matches: [{'match_text': 'mpaa film rating', 'original_text': 'mpaa film rating', 'label': 'relation', 'score': 100.0, 'start': 12, 'end': 28, 'is_full_word': True}]\n",
      "NLTK relationship found: ['MPAA film rating']\n",
      "2024-12-09 16:02:53,844 - root - INFO - Movie: Weathering with You, Relation: MPAA film rating\n",
      "2024-12-09 16:02:53,846 - root - INFO - Movie: Q59692464, Relation: P1657\n"
     ]
    },
    {
     "data": {
      "text/plain": "Batches:   0%|          | 0/1 [00:00<?, ?it/s]",
      "application/vnd.jupyter.widget-view+json": {
       "version_major": 2,
       "version_minor": 0,
       "model_id": "892297a3c0ab493ea59fcb2364afaaf3"
      }
     },
     "metadata": {},
     "output_type": "display_data"
    },
    {
     "name": "stdout",
     "output_type": "stream",
     "text": [
      "Question type: QuestionCategory.KNOWLEDGE\n",
      "Mutated text: do you know shoplifters? what genre does this movie have\n",
      "Matches after filtering overlapping matches: [{'original_text': 'shoplifters', 'start': 12, 'end': 23}]\n",
      "NLTK matches: [{'original_text': 'shoplifters', 'start': 12, 'end': 23}]\n",
      "Alignment result: None\n",
      "Full word matches: []\n",
      "Fuzzy matches: []\n",
      "NLTK entity found: ['Shoplifters']\n",
      "Mutated text: do you know ? what genre does this movie have\n",
      "Matches after filtering overlapping matches: [{'original_text': 'genre', 'start': 19, 'end': 24}]\n",
      "NLTK matches: [{'original_text': 'genre', 'start': 19, 'end': 24}]\n",
      "Alignment result: None\n",
      "Full word matches: [{'match_text': 'genre', 'original_text': 'genre', 'label': 'relation', 'score': 100.0, 'start': 19, 'end': 24, 'is_full_word': True}]\n",
      "Fuzzy matches: [{'match_text': 'genre', 'original_text': 'genre', 'label': 'relation', 'score': 100.0, 'start': 19, 'end': 24, 'is_full_word': True}]\n",
      "NLTK relationship found: ['genre']\n",
      "2024-12-09 16:02:54,251 - root - INFO - Movie: Shoplifters, Relation: genre\n",
      "2024-12-09 16:02:54,253 - root - INFO - Movie: Q48765577, Relation: P136\n"
     ]
    },
    {
     "data": {
      "text/plain": "Batches:   0%|          | 0/1 [00:00<?, ?it/s]",
      "application/vnd.jupyter.widget-view+json": {
       "version_major": 2,
       "version_minor": 0,
       "model_id": "2ae29c9279964b5cb30b5cb4347675c1"
      }
     },
     "metadata": {},
     "output_type": "display_data"
    },
    {
     "name": "stdout",
     "output_type": "stream",
     "text": [
      "Question type: QuestionCategory.SMALLTALK\n",
      "Use LLM: False\n"
     ]
    },
    {
     "data": {
      "text/plain": "Batches:   0%|          | 0/1 [00:00<?, ?it/s]",
      "application/vnd.jupyter.widget-view+json": {
       "version_major": 2,
       "version_minor": 0,
       "model_id": "08aeaf110cfc4b58b1e31a4e9afaba53"
      }
     },
     "metadata": {},
     "output_type": "display_data"
    },
    {
     "name": "stdout",
     "output_type": "stream",
     "text": [
      "Question type: QuestionCategory.SMALLTALK\n",
      "Use LLM: False\n"
     ]
    },
    {
     "data": {
      "text/plain": "Batches:   0%|          | 0/1 [00:00<?, ?it/s]",
      "application/vnd.jupyter.widget-view+json": {
       "version_major": 2,
       "version_minor": 0,
       "model_id": "70f29bc70c3a4d638755ed8da2b909bd"
      }
     },
     "metadata": {},
     "output_type": "display_data"
    },
    {
     "name": "stdout",
     "output_type": "stream",
     "text": [
      "Question type: QuestionCategory.SMALLTALK\n",
      "Use LLM: False\n"
     ]
    },
    {
     "data": {
      "text/plain": "Batches:   0%|          | 0/1 [00:00<?, ?it/s]",
      "application/vnd.jupyter.widget-view+json": {
       "version_major": 2,
       "version_minor": 0,
       "model_id": "e2b44c16e0e54799b6322c4d0c008987"
      }
     },
     "metadata": {},
     "output_type": "display_data"
    },
    {
     "name": "stdout",
     "output_type": "stream",
     "text": [
      "Question type: QuestionCategory.SMALLTALK\n",
      "Use LLM: False\n"
     ]
    },
    {
     "data": {
      "text/plain": "Batches:   0%|          | 0/1 [00:00<?, ?it/s]",
      "application/vnd.jupyter.widget-view+json": {
       "version_major": 2,
       "version_minor": 0,
       "model_id": "b3057f081f5e45728d605eeea9588d4c"
      }
     },
     "metadata": {},
     "output_type": "display_data"
    },
    {
     "name": "stdout",
     "output_type": "stream",
     "text": [
      "Question type: QuestionCategory.KNOWLEDGE\n",
      "Mutated text: what do you think of the genre of shoplifters\n",
      "Matches after filtering overlapping matches: [{'original_text': 'shoplifters', 'start': 34, 'end': 45}]\n",
      "NLTK matches: [{'original_text': 'shoplifters', 'start': 34, 'end': 45}]\n",
      "Alignment result: None\n",
      "Full word matches: [{'match_text': 'shoplifters', 'original_text': 'shoplifters', 'label': 'movie', 'score': 100.0, 'start': 34, 'end': 45, 'is_full_word': True}]\n",
      "Fuzzy matches: [{'match_text': 'shoplifters', 'original_text': 'shoplifters', 'label': 'movie', 'score': 100.0, 'start': 34, 'end': 45, 'is_full_word': True}]\n",
      "NLTK entity found: ['Shoplifters']\n",
      "Mutated text: what do you think of the genre of \n",
      "Matches after filtering overlapping matches: [{'original_text': 'genre', 'start': 25, 'end': 30}]\n",
      "NLTK matches: [{'original_text': 'genre', 'start': 25, 'end': 30}]\n",
      "Alignment result: None\n",
      "Full word matches: [{'match_text': 'genre', 'original_text': 'genre', 'label': 'relation', 'score': 100.0, 'start': 25, 'end': 30, 'is_full_word': True}]\n",
      "Fuzzy matches: [{'match_text': 'genre', 'original_text': 'genre', 'label': 'relation', 'score': 100.0, 'start': 25, 'end': 30, 'is_full_word': True}]\n",
      "NLTK relationship found: ['genre']\n",
      "2024-12-09 16:02:54,662 - root - INFO - Movie: Shoplifters, Relation: genre\n",
      "2024-12-09 16:02:54,663 - root - INFO - Movie: Q48765577, Relation: P136\n"
     ]
    },
    {
     "data": {
      "text/plain": "Batches:   0%|          | 0/1 [00:00<?, ?it/s]",
      "application/vnd.jupyter.widget-view+json": {
       "version_major": 2,
       "version_minor": 0,
       "model_id": "be3d027aeea04c438dfaeee55202181d"
      }
     },
     "metadata": {},
     "output_type": "display_data"
    },
    {
     "name": "stdout",
     "output_type": "stream",
     "text": [
      "Question type: QuestionCategory.KNOWLEDGE\n",
      "Mutated text: tell me all of the players in avatar\n",
      "Matches after filtering overlapping matches: [{'original_text': 'tell', 'start': 0, 'end': 4}, {'original_text': 'the players', 'start': 15, 'end': 26}, {'original_text': 'avatar', 'start': 30, 'end': 36}]\n",
      "NLTK matches: [{'original_text': 'tell', 'start': 0, 'end': 4}, {'original_text': 'the players', 'start': 15, 'end': 26}, {'original_text': 'avatar', 'start': 30, 'end': 36}]\n",
      "Alignment result: None\n",
      "Full word matches: [{'match_text': 'avatar', 'original_text': 'avatar 3', 'label': 'movie', 'score': 93.33333333333333, 'start': 30, 'end': 37, 'is_full_word': True}, {'match_text': 'the players', 'original_text': 'the players', 'label': 'movie', 'score': 100.0, 'start': 15, 'end': 26, 'is_full_word': True}, {'match_text': 'tell', 'original_text': 'tell', 'label': 'movie', 'score': 100.0, 'start': 0, 'end': 4, 'is_full_word': True}, {'match_text': 'players', 'original_text': 'players', 'label': 'movie', 'score': 100.0, 'start': 19, 'end': 26, 'is_full_word': True}, {'match_text': 'avatar', 'original_text': 'avatar', 'label': 'movie', 'score': 100.0, 'start': 30, 'end': 36, 'is_full_word': True}, {'match_text': 'avatar', 'original_text': 'avatar 2', 'label': 'movie', 'score': 93.33333333333333, 'start': 30, 'end': 37, 'is_full_word': True}]\n",
      "Fuzzy matches: [{'match_text': 'the players', 'original_text': 'the players', 'label': 'movie', 'score': 100.0, 'start': 15, 'end': 26, 'is_full_word': True}, {'match_text': 'tell', 'original_text': 'tell', 'label': 'movie', 'score': 100.0, 'start': 0, 'end': 4, 'is_full_word': True}, {'match_text': 'avatar', 'original_text': 'avatar 3', 'label': 'movie', 'score': 93.33333333333333, 'start': 30, 'end': 37, 'is_full_word': True}]\n",
      "NLTK entity found: ['Tell', 'The Players', 'Avatar 3']\n"
     ]
    },
    {
     "data": {
      "text/plain": "Batches:   0%|          | 0/1 [00:00<?, ?it/s]",
      "application/vnd.jupyter.widget-view+json": {
       "version_major": 2,
       "version_minor": 0,
       "model_id": "243f23446e904de99a44099a690ff37c"
      }
     },
     "metadata": {},
     "output_type": "display_data"
    },
    {
     "name": "stdout",
     "output_type": "stream",
     "text": [
      "Question type: QuestionCategory.KNOWLEDGE\n",
      "Mutated text: who is the gossip girl of directors\n",
      "Matches after filtering overlapping matches: [{'original_text': 'gossip', 'start': 11, 'end': 17}, {'original_text': 'girl', 'start': 18, 'end': 22}]\n",
      "NLTK matches: [{'original_text': 'gossip', 'start': 11, 'end': 17}, {'original_text': 'girl', 'start': 18, 'end': 22}]\n",
      "Alignment result: None\n",
      "Full word matches: [{'match_text': 'gossip', 'original_text': 'gossip', 'label': 'movie', 'score': 100.0, 'start': 11, 'end': 17, 'is_full_word': True}, {'match_text': 'girl', 'original_text': 'girl', 'label': 'movie', 'score': 100.0, 'start': 18, 'end': 22, 'is_full_word': True}]\n",
      "Fuzzy matches: [{'match_text': 'gossip', 'original_text': 'gossip', 'label': 'movie', 'score': 100.0, 'start': 11, 'end': 17, 'is_full_word': True}, {'match_text': 'girl', 'original_text': 'girl', 'label': 'movie', 'score': 100.0, 'start': 18, 'end': 22, 'is_full_word': True}]\n",
      "NLTK entity found: ['Gossip', 'Girl']\n"
     ]
    },
    {
     "data": {
      "text/plain": "Batches:   0%|          | 0/1 [00:00<?, ?it/s]",
      "application/vnd.jupyter.widget-view+json": {
       "version_major": 2,
       "version_minor": 0,
       "model_id": "6c9ea1ac855b45a8a9d874eea934b962"
      }
     },
     "metadata": {},
     "output_type": "display_data"
    },
    {
     "name": "stdout",
     "output_type": "stream",
     "text": [
      "Question type: QuestionCategory.KNOWLEDGE\n",
      "Mutated text: what genres are in good will hunting\n",
      "Matches after filtering overlapping matches: [{'original_text': 'good will hunting', 'start': 19, 'end': 36}]\n",
      "NLTK matches: [{'original_text': 'good will hunting', 'start': 19, 'end': 36}]\n",
      "Alignment result: None\n",
      "Full word matches: [{'match_text': 'good', 'original_text': 'good', 'label': 'movie', 'score': 100.0, 'start': 19, 'end': 23, 'is_full_word': True}, {'match_text': 'good will hunting', 'original_text': 'good will hunting', 'label': 'movie', 'score': 100.0, 'start': 19, 'end': 36, 'is_full_word': True}]\n",
      "Fuzzy matches: [{'match_text': 'good', 'original_text': 'good', 'label': 'movie', 'score': 100.0, 'start': 19, 'end': 23, 'is_full_word': True}]\n",
      "NLTK entity found: ['Good Will Hunting']\n",
      "Mutated text: what genres are in \n",
      "Matches after filtering overlapping matches: []\n",
      "NLTK matches: []\n",
      "Alignment result: None\n",
      "Full word matches: []\n",
      "Fuzzy matches: []\n",
      "Embedding extraction for  What genres are in \n"
     ]
    },
    {
     "data": {
      "text/plain": "Batches:   0%|          | 0/1 [00:00<?, ?it/s]",
      "application/vnd.jupyter.widget-view+json": {
       "version_major": 2,
       "version_minor": 0,
       "model_id": "8b8411710abf4a7db66561aceb74d5d2"
      }
     },
     "metadata": {},
     "output_type": "display_data"
    },
    {
     "name": "stdout",
     "output_type": "stream",
     "text": [
      "Most similar relation: genre with distance: 0.8655864000320435\n",
      "Most similar relation: genre\n",
      "Embedding relationship found: ['genre']\n",
      "2024-12-09 16:02:55,455 - root - INFO - Movie: Good Will Hunting, Relation: genre\n",
      "2024-12-09 16:02:55,457 - root - INFO - Movie: Q193835, Relation: P136\n"
     ]
    },
    {
     "data": {
      "text/plain": "Batches:   0%|          | 0/1 [00:00<?, ?it/s]",
      "application/vnd.jupyter.widget-view+json": {
       "version_major": 2,
       "version_minor": 0,
       "model_id": "c6369091253d4f31811fde3ae256a517"
      }
     },
     "metadata": {},
     "output_type": "display_data"
    },
    {
     "name": "stdout",
     "output_type": "stream",
     "text": [
      "Question type: QuestionCategory.SMALLTALK\n",
      "Use LLM: False\n"
     ]
    },
    {
     "data": {
      "text/plain": "Batches:   0%|          | 0/1 [00:00<?, ?it/s]",
      "application/vnd.jupyter.widget-view+json": {
       "version_major": 2,
       "version_minor": 0,
       "model_id": "0cbe02895fc24cf5b24bf7e09fefa84e"
      }
     },
     "metadata": {},
     "output_type": "display_data"
    },
    {
     "name": "stdout",
     "output_type": "stream",
     "text": [
      "Question type: QuestionCategory.KNOWLEDGE\n",
      "Mutated text: do you know shoplifters? what genre does this movie have\n",
      "Matches after filtering overlapping matches: [{'original_text': 'shoplifters', 'start': 12, 'end': 23}]\n",
      "NLTK matches: [{'original_text': 'shoplifters', 'start': 12, 'end': 23}]\n",
      "Alignment result: None\n",
      "Full word matches: []\n",
      "Fuzzy matches: []\n",
      "NLTK entity found: ['Shoplifters']\n",
      "Mutated text: do you know ? what genre does this movie have\n",
      "Matches after filtering overlapping matches: [{'original_text': 'genre', 'start': 19, 'end': 24}]\n",
      "NLTK matches: [{'original_text': 'genre', 'start': 19, 'end': 24}]\n",
      "Alignment result: None\n",
      "Full word matches: [{'match_text': 'genre', 'original_text': 'genre', 'label': 'relation', 'score': 100.0, 'start': 19, 'end': 24, 'is_full_word': True}]\n",
      "Fuzzy matches: [{'match_text': 'genre', 'original_text': 'genre', 'label': 'relation', 'score': 100.0, 'start': 19, 'end': 24, 'is_full_word': True}]\n",
      "NLTK relationship found: ['genre']\n",
      "2024-12-09 16:02:55,843 - root - INFO - Movie: Shoplifters, Relation: genre\n",
      "2024-12-09 16:02:55,844 - root - INFO - Movie: Q48765577, Relation: P136\n"
     ]
    }
   ],
   "execution_count": 39
  },
  {
   "cell_type": "code",
   "metadata": {
    "ExecuteTime": {
     "end_time": "2024-11-26T21:21:30.112155Z",
     "start_time": "2024-11-26T21:21:29.709115Z"
    }
   },
   "source": [
    "questions_df"
   ],
   "outputs": [
    {
     "data": {
      "text/plain": "                                             Question  \\\n0   Who is the screenwriter of The Masked Gang: Cy...   \n1           Who is the director of Good Will Hunting?   \n2          Who directed The Bridge on the River Kwai?   \n3   Who is the director of Star Wars: Episode VI -...   \n4   Given that I like The Lion King, Pocahontas, a...   \n5                                     The second one.   \n6                                       The last one.   \n7              Who is the screenwriter of 12 Monkeys?   \n8                Who is the director of Forrest Gump?   \n9                What is the genre of Good Neighbors?   \n10                              Who directed Titanic?   \n11                             That's already enough.   \n12                      What is the genre of Titanic?   \n13                                     The third one.   \n14                 What is the genre of Harry Potter?   \n15                     What is the genre of Die Hard?   \n16                            Who directs The Matrix?   \n17                               Who directed 8 Mile?   \n18                  What is the genre of Shoplifters?   \n19                      Who directed The Longest Day?   \n20             What is the IMDb ID of Apocalypse Now?   \n21            Which movie has the lowest user rating?   \n22                    What is the best movie in IMDB?   \n23                 When was 'The Godfather' released?   \n24  What is the MPAA film rating of Weathering wit...   \n25  Do you know Shoplifters? What genre does this ...   \n26                                                 Hi   \n27                                           Hi there   \n28                                             Thanks   \n29                                       How are you?   \n30     What do you think of the genre of Shoplifters?   \n31              Tell me all of the players in Avatar.   \n32               Who is the gossip girl of directors?   \n33              What genres are in Good Will Hunting?   \n34  Hello! Nice to have you here. I can answer mul...   \n35  Do you know Shoplifters? What genre does this ...   \n\n                                               Answer  \n0   I would say that it is Cengiz Küçükayvaz. (Emb...  \n1         I'm almost certain that it is Gus Van Sant.  \n2                 As far as I know, it is David Lean.  \n3   I would say that the director of Star Wars: Ep...  \n4   It seems there are several entries for The Lio...  \n5   Unfortunately, I need more information still. ...  \n6   image:3734/rm2301822976\\nI’d suggest you take ...  \n7   That is a good question, I think that the answ...  \n8   I would say that the director of Forrest Gump ...  \n9   I think that the genre is art film for Good Ne...  \n10  It seems there are several entries for Titanic...  \n11  Okay, on your demand the process has been inte...  \n12  It seems there are several entries for Titanic...  \n13              As far as I know, it is romance film.  \n14                               I think it is drama.  \n15               As far as I know, it is action film.  \n16            As far as I know, it is The Wachowskis.  \n17    According to my knowledge, it is Curtis Hanson.  \n18               I'm almost certain that it is drama.  \n19   The director is Gerd Oswald for The Longest Day.  \n20                 As far as I know, it is tt0078788.  \n21  I found multiple entities in your message, ple...  \n22  image:1102/rm2526678528\\nHave you considered w...  \n23                      As far as I know, it is 1972.  \n24  That is a good question, I think that the answ...  \n25            According to my knowledge, it is drama.  \n26  Hi! Nice to have you here. I can answer multip...  \n27  Hi! Nice to have you here. I can answer multip...  \n28  Goodbye! I hope I was able to help you. Feel f...  \n29  I'm not sure how to answer that. Can you pleas...  \n30   I think that the genre is drama for Shoplifters.  \n31  I found multiple entities in your message, ple...  \n32  I found multiple entities in your message, ple...  \n33                        I think it is romance film.  \n34  I'm not sure how to answer that. Can you pleas...  \n35                     As far as I know, it is drama.  ",
      "text/html": "<div>\n<style scoped>\n    .dataframe tbody tr th:only-of-type {\n        vertical-align: middle;\n    }\n\n    .dataframe tbody tr th {\n        vertical-align: top;\n    }\n\n    .dataframe thead th {\n        text-align: right;\n    }\n</style>\n<table border=\"1\" class=\"dataframe\">\n  <thead>\n    <tr style=\"text-align: right;\">\n      <th></th>\n      <th>Question</th>\n      <th>Answer</th>\n    </tr>\n  </thead>\n  <tbody>\n    <tr>\n      <th>0</th>\n      <td>Who is the screenwriter of The Masked Gang: Cy...</td>\n      <td>I would say that it is Cengiz Küçükayvaz. (Emb...</td>\n    </tr>\n    <tr>\n      <th>1</th>\n      <td>Who is the director of Good Will Hunting?</td>\n      <td>I'm almost certain that it is Gus Van Sant.</td>\n    </tr>\n    <tr>\n      <th>2</th>\n      <td>Who directed The Bridge on the River Kwai?</td>\n      <td>As far as I know, it is David Lean.</td>\n    </tr>\n    <tr>\n      <th>3</th>\n      <td>Who is the director of Star Wars: Episode VI -...</td>\n      <td>I would say that the director of Star Wars: Ep...</td>\n    </tr>\n    <tr>\n      <th>4</th>\n      <td>Given that I like The Lion King, Pocahontas, a...</td>\n      <td>It seems there are several entries for The Lio...</td>\n    </tr>\n    <tr>\n      <th>5</th>\n      <td>The second one.</td>\n      <td>Unfortunately, I need more information still. ...</td>\n    </tr>\n    <tr>\n      <th>6</th>\n      <td>The last one.</td>\n      <td>image:3734/rm2301822976\\nI’d suggest you take ...</td>\n    </tr>\n    <tr>\n      <th>7</th>\n      <td>Who is the screenwriter of 12 Monkeys?</td>\n      <td>That is a good question, I think that the answ...</td>\n    </tr>\n    <tr>\n      <th>8</th>\n      <td>Who is the director of Forrest Gump?</td>\n      <td>I would say that the director of Forrest Gump ...</td>\n    </tr>\n    <tr>\n      <th>9</th>\n      <td>What is the genre of Good Neighbors?</td>\n      <td>I think that the genre is art film for Good Ne...</td>\n    </tr>\n    <tr>\n      <th>10</th>\n      <td>Who directed Titanic?</td>\n      <td>It seems there are several entries for Titanic...</td>\n    </tr>\n    <tr>\n      <th>11</th>\n      <td>That's already enough.</td>\n      <td>Okay, on your demand the process has been inte...</td>\n    </tr>\n    <tr>\n      <th>12</th>\n      <td>What is the genre of Titanic?</td>\n      <td>It seems there are several entries for Titanic...</td>\n    </tr>\n    <tr>\n      <th>13</th>\n      <td>The third one.</td>\n      <td>As far as I know, it is romance film.</td>\n    </tr>\n    <tr>\n      <th>14</th>\n      <td>What is the genre of Harry Potter?</td>\n      <td>I think it is drama.</td>\n    </tr>\n    <tr>\n      <th>15</th>\n      <td>What is the genre of Die Hard?</td>\n      <td>As far as I know, it is action film.</td>\n    </tr>\n    <tr>\n      <th>16</th>\n      <td>Who directs The Matrix?</td>\n      <td>As far as I know, it is The Wachowskis.</td>\n    </tr>\n    <tr>\n      <th>17</th>\n      <td>Who directed 8 Mile?</td>\n      <td>According to my knowledge, it is Curtis Hanson.</td>\n    </tr>\n    <tr>\n      <th>18</th>\n      <td>What is the genre of Shoplifters?</td>\n      <td>I'm almost certain that it is drama.</td>\n    </tr>\n    <tr>\n      <th>19</th>\n      <td>Who directed The Longest Day?</td>\n      <td>The director is Gerd Oswald for The Longest Day.</td>\n    </tr>\n    <tr>\n      <th>20</th>\n      <td>What is the IMDb ID of Apocalypse Now?</td>\n      <td>As far as I know, it is tt0078788.</td>\n    </tr>\n    <tr>\n      <th>21</th>\n      <td>Which movie has the lowest user rating?</td>\n      <td>I found multiple entities in your message, ple...</td>\n    </tr>\n    <tr>\n      <th>22</th>\n      <td>What is the best movie in IMDB?</td>\n      <td>image:1102/rm2526678528\\nHave you considered w...</td>\n    </tr>\n    <tr>\n      <th>23</th>\n      <td>When was 'The Godfather' released?</td>\n      <td>As far as I know, it is 1972.</td>\n    </tr>\n    <tr>\n      <th>24</th>\n      <td>What is the MPAA film rating of Weathering wit...</td>\n      <td>That is a good question, I think that the answ...</td>\n    </tr>\n    <tr>\n      <th>25</th>\n      <td>Do you know Shoplifters? What genre does this ...</td>\n      <td>According to my knowledge, it is drama.</td>\n    </tr>\n    <tr>\n      <th>26</th>\n      <td>Hi</td>\n      <td>Hi! Nice to have you here. I can answer multip...</td>\n    </tr>\n    <tr>\n      <th>27</th>\n      <td>Hi there</td>\n      <td>Hi! Nice to have you here. I can answer multip...</td>\n    </tr>\n    <tr>\n      <th>28</th>\n      <td>Thanks</td>\n      <td>Goodbye! I hope I was able to help you. Feel f...</td>\n    </tr>\n    <tr>\n      <th>29</th>\n      <td>How are you?</td>\n      <td>I'm not sure how to answer that. Can you pleas...</td>\n    </tr>\n    <tr>\n      <th>30</th>\n      <td>What do you think of the genre of Shoplifters?</td>\n      <td>I think that the genre is drama for Shoplifters.</td>\n    </tr>\n    <tr>\n      <th>31</th>\n      <td>Tell me all of the players in Avatar.</td>\n      <td>I found multiple entities in your message, ple...</td>\n    </tr>\n    <tr>\n      <th>32</th>\n      <td>Who is the gossip girl of directors?</td>\n      <td>I found multiple entities in your message, ple...</td>\n    </tr>\n    <tr>\n      <th>33</th>\n      <td>What genres are in Good Will Hunting?</td>\n      <td>I think it is romance film.</td>\n    </tr>\n    <tr>\n      <th>34</th>\n      <td>Hello! Nice to have you here. I can answer mul...</td>\n      <td>I'm not sure how to answer that. Can you pleas...</td>\n    </tr>\n    <tr>\n      <th>35</th>\n      <td>Do you know Shoplifters? What genre does this ...</td>\n      <td>As far as I know, it is drama.</td>\n    </tr>\n  </tbody>\n</table>\n</div>"
     },
     "execution_count": 40,
     "metadata": {},
     "output_type": "execute_result"
    }
   ],
   "execution_count": 40
  },
  {
   "cell_type": "code",
   "metadata": {
    "ExecuteTime": {
     "end_time": "2024-11-26T21:21:30.363243Z",
     "start_time": "2024-11-26T21:21:30.125413Z"
    }
   },
   "source": [
    "#  show all with \"I found multiple e\" or \"I could not find any en\"\n",
    "questions_df[questions_df[\"Answer\"].str.contains(\"I found multiple e|I could not find any en\", regex=True)]"
   ],
   "outputs": [
    {
     "data": {
      "text/plain": "                                   Question  \\\n21  Which movie has the lowest user rating?   \n31    Tell me all of the players in Avatar.   \n32     Who is the gossip girl of directors?   \n\n                                               Answer  \n21  I found multiple entities in your message, ple...  \n31  I found multiple entities in your message, ple...  \n32  I found multiple entities in your message, ple...  ",
      "text/html": "<div>\n<style scoped>\n    .dataframe tbody tr th:only-of-type {\n        vertical-align: middle;\n    }\n\n    .dataframe tbody tr th {\n        vertical-align: top;\n    }\n\n    .dataframe thead th {\n        text-align: right;\n    }\n</style>\n<table border=\"1\" class=\"dataframe\">\n  <thead>\n    <tr style=\"text-align: right;\">\n      <th></th>\n      <th>Question</th>\n      <th>Answer</th>\n    </tr>\n  </thead>\n  <tbody>\n    <tr>\n      <th>21</th>\n      <td>Which movie has the lowest user rating?</td>\n      <td>I found multiple entities in your message, ple...</td>\n    </tr>\n    <tr>\n      <th>31</th>\n      <td>Tell me all of the players in Avatar.</td>\n      <td>I found multiple entities in your message, ple...</td>\n    </tr>\n    <tr>\n      <th>32</th>\n      <td>Who is the gossip girl of directors?</td>\n      <td>I found multiple entities in your message, ple...</td>\n    </tr>\n  </tbody>\n</table>\n</div>"
     },
     "execution_count": 41,
     "metadata": {},
     "output_type": "execute_result"
    }
   ],
   "execution_count": 41
  }
 ],
 "metadata": {
  "kernelspec": {
   "display_name": "atai-bot",
   "language": "python",
   "name": "python3"
  },
  "language_info": {
   "codemirror_mode": {
    "name": "ipython",
    "version": 3
   },
   "file_extension": ".py",
   "mimetype": "text/x-python",
   "name": "python",
   "nbconvert_exporter": "python",
   "pygments_lexer": "ipython3",
   "version": "3.12.5"
  }
 },
 "nbformat": 4,
 "nbformat_minor": 2
}
