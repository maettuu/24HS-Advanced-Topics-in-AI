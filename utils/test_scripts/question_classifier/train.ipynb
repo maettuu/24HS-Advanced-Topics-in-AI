{
 "cells": [
  {
   "cell_type": "code",
   "execution_count": 1,
   "metadata": {},
   "outputs": [
    {
     "name": "stdout",
     "output_type": "stream",
     "text": [
      "Requirement already satisfied: matplotlib in c:\\users\\adam\\anaconda3\\envs\\atai-bot\\lib\\site-packages (3.9.2)\n",
      "Requirement already satisfied: contourpy>=1.0.1 in c:\\users\\adam\\anaconda3\\envs\\atai-bot\\lib\\site-packages (from matplotlib) (1.3.0)\n",
      "Requirement already satisfied: cycler>=0.10 in c:\\users\\adam\\anaconda3\\envs\\atai-bot\\lib\\site-packages (from matplotlib) (0.12.1)\n",
      "Requirement already satisfied: fonttools>=4.22.0 in c:\\users\\adam\\anaconda3\\envs\\atai-bot\\lib\\site-packages (from matplotlib) (4.54.1)\n",
      "Requirement already satisfied: kiwisolver>=1.3.1 in c:\\users\\adam\\anaconda3\\envs\\atai-bot\\lib\\site-packages (from matplotlib) (1.4.7)\n",
      "Requirement already satisfied: numpy>=1.23 in c:\\users\\adam\\anaconda3\\envs\\atai-bot\\lib\\site-packages (from matplotlib) (2.1.2)\n",
      "Requirement already satisfied: packaging>=20.0 in c:\\users\\adam\\anaconda3\\envs\\atai-bot\\lib\\site-packages (from matplotlib) (24.1)\n",
      "Requirement already satisfied: pillow>=8 in c:\\users\\adam\\anaconda3\\envs\\atai-bot\\lib\\site-packages (from matplotlib) (11.0.0)\n",
      "Requirement already satisfied: pyparsing>=2.3.1 in c:\\users\\adam\\anaconda3\\envs\\atai-bot\\lib\\site-packages (from matplotlib) (3.1.4)\n",
      "Requirement already satisfied: python-dateutil>=2.7 in c:\\users\\adam\\anaconda3\\envs\\atai-bot\\lib\\site-packages (from matplotlib) (2.9.0.post0)\n",
      "Requirement already satisfied: six>=1.5 in c:\\users\\adam\\anaconda3\\envs\\atai-bot\\lib\\site-packages (from python-dateutil>=2.7->matplotlib) (1.16.0)\n",
      "Note: you may need to restart the kernel to use updated packages.\n"
     ]
    }
   ],
   "source": [
    "%pip install matplotlib"
   ]
  },
  {
   "cell_type": "code",
   "execution_count": 1,
   "metadata": {},
   "outputs": [
    {
     "name": "stderr",
     "output_type": "stream",
     "text": [
      "c:\\Users\\adam\\anaconda3\\envs\\atai-bot\\Lib\\site-packages\\sentence_transformers\\cross_encoder\\CrossEncoder.py:13: TqdmExperimentalWarning: Using `tqdm.autonotebook.tqdm` in notebook mode. Use `tqdm.tqdm` instead to force console mode (e.g. in jupyter console)\n",
      "  from tqdm.autonotebook import tqdm, trange\n"
     ]
    }
   ],
   "source": [
    "import numpy as np\n",
    "import pandas as pd\n",
    "from sklearn.model_selection import train_test_split\n",
    "from sklearn.linear_model import LogisticRegression\n",
    "from sklearn.metrics import classification_report, accuracy_score\n",
    "from sentence_transformers import SentenceTransformer\n",
    "import matplotlib.pyplot as plt\n",
    "\n",
    "# Load the pre-trained embedding model\n",
    "model = SentenceTransformer('all-MiniLM-L6-v2')"
   ]
  },
  {
   "cell_type": "code",
   "execution_count": 2,
   "metadata": {},
   "outputs": [],
   "source": [
    "# Generate Sample Data\n",
    "knowledge_questions = [\n",
    "    \"Who directed The Godfather?\",\n",
    "    \"What's the release year for Inception?\",\n",
    "    \"Who was the screenwriter for The Mask?\",\n",
    "    \"What's the box office revenue of Titanic?\",\n",
    "    \"Who composed the score for The Lord of the Rings?\",\n",
    "    \"What's the MPAA rating for Jaws?\",\n",
    "    \"Who starred in Pulp Fiction?\",\n",
    "    \"Who edited Jurassic Park?\",\n",
    "    \"What awards did Parasite win?\",\n",
    "    \"What's the runtime of Gladiator?\",\n",
    "    \"Who produced The Godfather Part II?\",\n",
    "    \"Who wrote the screenplay for Schindler's List?\",\n",
    "    \"What is the production budget of Avatar?\",\n",
    "    \"Who won an Oscar for the movie Joker?\",\n",
    "    \"What's the genre of The Silence of the Lambs?\",\n",
    "    \"Who was the director of Titanic?\",\n",
    "    \"How long is the movie The Irishman?\",\n",
    "    \"What's the release date of Forrest Gump?\",\n",
    "    \"Who played the lead role in The Matrix?\",\n",
    "    \"Who is the composer for the soundtrack of Dune?\",\n",
    "    \"How many Academy Awards did La La Land win?\",\n",
    "    \"Who was the cinematographer for Blade Runner 2049?\",\n",
    "    \"What awards did Moonlight receive?\",\n",
    "    \"Who is the executive producer of The Shawshank Redemption?\",\n",
    "    \"Who wrote the book that inspired The Shining?\",\n",
    "    \"What's the budget of Avengers: Endgame?\",\n",
    "    \"Who directed The Grand Budapest Hotel?\",\n",
    "    \"Who was the editor for The Wolf of Wall Street?\",\n",
    "    \"How many Oscars did Parasite win?\",\n",
    "    \"Who played Frodo in The Lord of the Rings?\",\n",
    "    \"Who is the director of 1917?\",\n",
    "    \"What's the age rating for Toy Story 4?\",\n",
    "    \"Who did the visual effects for Inception?\",\n",
    "    \"What studio produced Frozen?\",\n",
    "    \"Who was the lead actress in Gravity?\",\n",
    "    \"What's the box office collection of Black Panther?\",\n",
    "    \"Who wrote the screenplay for Gladiator?\",\n",
    "    \"What year was The Lion King originally released?\",\n",
    "    \"Who directed the movie Interstellar?\",\n",
    "    \"What's the MPAA rating of The Dark Knight?\",\n",
    "]\n",
    "\n",
    "multimedia_questions = [\n",
    "    \"Show me a picture of Leonardo DiCaprio.\",\n",
    "    \"What does Scarlett Johansson look like?\",\n",
    "    \"Can I see an image of Robert De Niro?\",\n",
    "    \"Show me Harrison Ford’s appearance.\",\n",
    "    \"Let me know what Viola Davis looks like.\",\n",
    "    \"Can I see a picture of Emma Stone?\",\n",
    "    \"Show me Robert Downey Jr.'s photo.\",\n",
    "    \"What does Gal Gadot look like?\",\n",
    "    \"Can I see what Tom Cruise looks like?\",\n",
    "    \"Display an image of Gal Gadot.\",\n",
    "    \"Show me a recent photo of Keanu Reeves.\",\n",
    "    \"What does Denzel Washington look like these days?\",\n",
    "    \"Can I see an image of Angelina Jolie?\",\n",
    "    \"What does Matt Damon look like?\",\n",
    "    \"Show me a picture of Natalie Portman.\",\n",
    "    \"What does Morgan Freeman look like now?\",\n",
    "    \"Can you display an image of Hugh Jackman?\",\n",
    "    \"Show me a photo of Charlize Theron.\",\n",
    "    \"What does Johnny Depp look like currently?\",\n",
    "    \"Can I see a picture of Chris Hemsworth?\",\n",
    "    \"Show me what Jennifer Lawrence looks like.\",\n",
    "    \"What does Ryan Gosling look like?\",\n",
    "    \"Can I see an image of Zoe Saldana?\",\n",
    "    \"Show me a photo of Anne Hathaway.\",\n",
    "    \"What does Chris Evans look like?\",\n",
    "    \"Show me a recent image of Brad Pitt.\",\n",
    "    \"Can I see a picture of Emily Blunt?\",\n",
    "    \"Show me what Tom Hardy looks like.\",\n",
    "    \"What does Sandra Bullock look like now?\",\n",
    "    \"Display an image of Will Smith.\",\n",
    "    \"What does Jason Momoa look like?\",\n",
    "    \"Can I see an image of Robert Pattinson?\",\n",
    "    \"Show me a picture of Mila Kunis.\",\n",
    "    \"What does Benedict Cumberbatch look like?\",\n",
    "    \"Can you show me a photo of Kristen Stewart?\",\n",
    "    \"Show me a recent image of Gal Gadot.\",\n",
    "    \"What does Scarlett Johansson look like in her latest movie?\",\n",
    "    \"Can I see a picture of Margot Robbie?\",\n",
    "    \"Show me what Mark Ruffalo looks like.\",\n",
    "    \"What does Idris Elba look like now?\",\n",
    "]\n",
    "\n",
    "recommendation_questions = [\n",
    "    \"Recommend movies like Jurassic Park.\",\n",
    "    \"Suggest films similar to The Matrix.\",\n",
    "    \"Can you recommend dramas like The Godfather?\",\n",
    "    \"Recommend animated films similar to Toy Story.\",\n",
    "    \"What are movies like Casablanca?\",\n",
    "    \"Any horror films like Halloween?\",\n",
    "    \"Suggest romantic comedies like Notting Hill.\",\n",
    "    \"Recommend science fiction movies like Blade Runner.\",\n",
    "    \"Can you suggest musicals like La La Land?\",\n",
    "    \"Suggest family films like Home Alone.\",\n",
    "    \"What are some action movies similar to Die Hard?\",\n",
    "    \"Recommend movies like The Notebook.\",\n",
    "    \"Can you suggest thrillers like Seven?\",\n",
    "    \"Any fantasy films similar to Harry Potter?\",\n",
    "    \"Recommend heist movies like Ocean's Eleven.\",\n",
    "    \"Suggest animated films like Finding Nemo.\",\n",
    "    \"What are some movies similar to The Shawshank Redemption?\",\n",
    "    \"Recommend sci-fi films like Interstellar.\",\n",
    "    \"Can you recommend horror films like The Conjuring?\",\n",
    "    \"Suggest adventure films like Indiana Jones.\",\n",
    "    \"Any films like Pulp Fiction?\",\n",
    "    \"Recommend romantic dramas like Pride and Prejudice.\",\n",
    "    \"Suggest superhero movies like The Avengers.\",\n",
    "    \"Can you recommend biopics like Bohemian Rhapsody?\",\n",
    "    \"What are some comedies like Superbad?\",\n",
    "    \"Suggest movies based on true stories like Spotlight.\",\n",
    "    \"Recommend war films like Saving Private Ryan.\",\n",
    "    \"Any sci-fi films like The Terminator?\",\n",
    "    \"Can you suggest documentaries like Free Solo?\",\n",
    "    \"Recommend courtroom dramas like A Few Good Men.\",\n",
    "    \"What are some musicals like The Greatest Showman?\",\n",
    "    \"Suggest dystopian movies like The Hunger Games.\",\n",
    "    \"Recommend animated movies like Moana.\",\n",
    "    \"Any crime thrillers similar to The Departed?\",\n",
    "    \"Suggest movies with time travel like Back to the Future.\",\n",
    "    \"What are some horror movies like A Nightmare on Elm Street?\",\n",
    "    \"Recommend psychological thrillers like Black Swan.\",\n",
    "    \"Can you suggest classic movies like Gone with the Wind?\",\n",
    "    \"Any adventure films similar to Jumanji?\",\n",
    "    \"Recommend spy movies like James Bond.\",\n",
    "]\n",
    "\n",
    "smalltalk = [\n",
    "    \"Hi, how are you?\",\n",
    "    \"Hello! What's up?\",\n",
    "    \"Good morning!\",\n",
    "    \"Good afternoon!\",\n",
    "    \"Good evening!\",\n",
    "    \"Hey there!\",\n",
    "    \"How's your day going?\",\n",
    "    \"Nice to meet you!\",\n",
    "    \"What's new with you?\",\n",
    "    \"How's it going?\",\n",
    "    \"Thank you!\",\n",
    "    \"You're welcome!\",\n",
    "    \"No problem!\",\n",
    "    \"Have a great day!\",\n",
    "    \"See you later!\",\n",
    "    \"Take care!\",\n",
    "    \"How can I help you?\",\n",
    "    \"What's on your mind?\",\n",
    "    \"Long time no see!\",\n",
    "    \"How have you been?\",\n",
    "    \"Goodbye!\",\n",
    "    \"Catch you later!\",\n",
    "    \"What's happening?\",\n",
    "    \"It's nice to chat with you!\",\n",
    "    \"Hope you're doing well!\",\n",
    "    \"I'm here if you need anything!\",\n",
    "    \"Have a nice weekend!\",\n",
    "    \"Let's talk about something fun!\",\n",
    "    \"You're awesome!\",\n",
    "    \"Thanks for stopping by!\"\n",
    "]\n"
   ]
  },
  {
   "cell_type": "code",
   "execution_count": 3,
   "metadata": {},
   "outputs": [
    {
     "name": "stdout",
     "output_type": "stream",
     "text": [
      "Generating embeddings for the sentences...\n"
     ]
    }
   ],
   "source": [
    "# Prepare Data\n",
    "sentences = knowledge_questions + multimedia_questions + recommendation_questions + smalltalk\n",
    "labels = ( ['knowledge'] * len(knowledge_questions) + \n",
    "            ['multimedia'] * len(multimedia_questions) + \n",
    "            ['recommendation'] * len(recommendation_questions) + \n",
    "            ['smalltalk'] * len(smalltalk)\n",
    ")\n",
    "\n",
    "# Convert labels to numeric\n",
    "label_mapping = {'knowledge': 0, 'multimedia': 1, 'recommendation': 2, 'smalltalk': 3}\n",
    "y = [label_mapping[label] for label in labels]\n",
    "\n",
    "# Embedding the Sentences\n",
    "print(\"Generating embeddings for the sentences...\")\n",
    "X = model.encode(sentences)\n",
    "\n",
    "# Split Data into Train and Test Sets\n",
    "X_train, X_test, y_train, y_test = train_test_split(X, y, test_size=0.2, random_state=42)"
   ]
  },
  {
   "cell_type": "code",
   "execution_count": 4,
   "metadata": {},
   "outputs": [
    {
     "name": "stdout",
     "output_type": "stream",
     "text": [
      "Training the classifier...\n"
     ]
    },
    {
     "data": {
      "text/html": [
       "<style>#sk-container-id-1 {\n",
       "  /* Definition of color scheme common for light and dark mode */\n",
       "  --sklearn-color-text: black;\n",
       "  --sklearn-color-line: gray;\n",
       "  /* Definition of color scheme for unfitted estimators */\n",
       "  --sklearn-color-unfitted-level-0: #fff5e6;\n",
       "  --sklearn-color-unfitted-level-1: #f6e4d2;\n",
       "  --sklearn-color-unfitted-level-2: #ffe0b3;\n",
       "  --sklearn-color-unfitted-level-3: chocolate;\n",
       "  /* Definition of color scheme for fitted estimators */\n",
       "  --sklearn-color-fitted-level-0: #f0f8ff;\n",
       "  --sklearn-color-fitted-level-1: #d4ebff;\n",
       "  --sklearn-color-fitted-level-2: #b3dbfd;\n",
       "  --sklearn-color-fitted-level-3: cornflowerblue;\n",
       "\n",
       "  /* Specific color for light theme */\n",
       "  --sklearn-color-text-on-default-background: var(--sg-text-color, var(--theme-code-foreground, var(--jp-content-font-color1, black)));\n",
       "  --sklearn-color-background: var(--sg-background-color, var(--theme-background, var(--jp-layout-color0, white)));\n",
       "  --sklearn-color-border-box: var(--sg-text-color, var(--theme-code-foreground, var(--jp-content-font-color1, black)));\n",
       "  --sklearn-color-icon: #696969;\n",
       "\n",
       "  @media (prefers-color-scheme: dark) {\n",
       "    /* Redefinition of color scheme for dark theme */\n",
       "    --sklearn-color-text-on-default-background: var(--sg-text-color, var(--theme-code-foreground, var(--jp-content-font-color1, white)));\n",
       "    --sklearn-color-background: var(--sg-background-color, var(--theme-background, var(--jp-layout-color0, #111)));\n",
       "    --sklearn-color-border-box: var(--sg-text-color, var(--theme-code-foreground, var(--jp-content-font-color1, white)));\n",
       "    --sklearn-color-icon: #878787;\n",
       "  }\n",
       "}\n",
       "\n",
       "#sk-container-id-1 {\n",
       "  color: var(--sklearn-color-text);\n",
       "}\n",
       "\n",
       "#sk-container-id-1 pre {\n",
       "  padding: 0;\n",
       "}\n",
       "\n",
       "#sk-container-id-1 input.sk-hidden--visually {\n",
       "  border: 0;\n",
       "  clip: rect(1px 1px 1px 1px);\n",
       "  clip: rect(1px, 1px, 1px, 1px);\n",
       "  height: 1px;\n",
       "  margin: -1px;\n",
       "  overflow: hidden;\n",
       "  padding: 0;\n",
       "  position: absolute;\n",
       "  width: 1px;\n",
       "}\n",
       "\n",
       "#sk-container-id-1 div.sk-dashed-wrapped {\n",
       "  border: 1px dashed var(--sklearn-color-line);\n",
       "  margin: 0 0.4em 0.5em 0.4em;\n",
       "  box-sizing: border-box;\n",
       "  padding-bottom: 0.4em;\n",
       "  background-color: var(--sklearn-color-background);\n",
       "}\n",
       "\n",
       "#sk-container-id-1 div.sk-container {\n",
       "  /* jupyter's `normalize.less` sets `[hidden] { display: none; }`\n",
       "     but bootstrap.min.css set `[hidden] { display: none !important; }`\n",
       "     so we also need the `!important` here to be able to override the\n",
       "     default hidden behavior on the sphinx rendered scikit-learn.org.\n",
       "     See: https://github.com/scikit-learn/scikit-learn/issues/21755 */\n",
       "  display: inline-block !important;\n",
       "  position: relative;\n",
       "}\n",
       "\n",
       "#sk-container-id-1 div.sk-text-repr-fallback {\n",
       "  display: none;\n",
       "}\n",
       "\n",
       "div.sk-parallel-item,\n",
       "div.sk-serial,\n",
       "div.sk-item {\n",
       "  /* draw centered vertical line to link estimators */\n",
       "  background-image: linear-gradient(var(--sklearn-color-text-on-default-background), var(--sklearn-color-text-on-default-background));\n",
       "  background-size: 2px 100%;\n",
       "  background-repeat: no-repeat;\n",
       "  background-position: center center;\n",
       "}\n",
       "\n",
       "/* Parallel-specific style estimator block */\n",
       "\n",
       "#sk-container-id-1 div.sk-parallel-item::after {\n",
       "  content: \"\";\n",
       "  width: 100%;\n",
       "  border-bottom: 2px solid var(--sklearn-color-text-on-default-background);\n",
       "  flex-grow: 1;\n",
       "}\n",
       "\n",
       "#sk-container-id-1 div.sk-parallel {\n",
       "  display: flex;\n",
       "  align-items: stretch;\n",
       "  justify-content: center;\n",
       "  background-color: var(--sklearn-color-background);\n",
       "  position: relative;\n",
       "}\n",
       "\n",
       "#sk-container-id-1 div.sk-parallel-item {\n",
       "  display: flex;\n",
       "  flex-direction: column;\n",
       "}\n",
       "\n",
       "#sk-container-id-1 div.sk-parallel-item:first-child::after {\n",
       "  align-self: flex-end;\n",
       "  width: 50%;\n",
       "}\n",
       "\n",
       "#sk-container-id-1 div.sk-parallel-item:last-child::after {\n",
       "  align-self: flex-start;\n",
       "  width: 50%;\n",
       "}\n",
       "\n",
       "#sk-container-id-1 div.sk-parallel-item:only-child::after {\n",
       "  width: 0;\n",
       "}\n",
       "\n",
       "/* Serial-specific style estimator block */\n",
       "\n",
       "#sk-container-id-1 div.sk-serial {\n",
       "  display: flex;\n",
       "  flex-direction: column;\n",
       "  align-items: center;\n",
       "  background-color: var(--sklearn-color-background);\n",
       "  padding-right: 1em;\n",
       "  padding-left: 1em;\n",
       "}\n",
       "\n",
       "\n",
       "/* Toggleable style: style used for estimator/Pipeline/ColumnTransformer box that is\n",
       "clickable and can be expanded/collapsed.\n",
       "- Pipeline and ColumnTransformer use this feature and define the default style\n",
       "- Estimators will overwrite some part of the style using the `sk-estimator` class\n",
       "*/\n",
       "\n",
       "/* Pipeline and ColumnTransformer style (default) */\n",
       "\n",
       "#sk-container-id-1 div.sk-toggleable {\n",
       "  /* Default theme specific background. It is overwritten whether we have a\n",
       "  specific estimator or a Pipeline/ColumnTransformer */\n",
       "  background-color: var(--sklearn-color-background);\n",
       "}\n",
       "\n",
       "/* Toggleable label */\n",
       "#sk-container-id-1 label.sk-toggleable__label {\n",
       "  cursor: pointer;\n",
       "  display: block;\n",
       "  width: 100%;\n",
       "  margin-bottom: 0;\n",
       "  padding: 0.5em;\n",
       "  box-sizing: border-box;\n",
       "  text-align: center;\n",
       "}\n",
       "\n",
       "#sk-container-id-1 label.sk-toggleable__label-arrow:before {\n",
       "  /* Arrow on the left of the label */\n",
       "  content: \"▸\";\n",
       "  float: left;\n",
       "  margin-right: 0.25em;\n",
       "  color: var(--sklearn-color-icon);\n",
       "}\n",
       "\n",
       "#sk-container-id-1 label.sk-toggleable__label-arrow:hover:before {\n",
       "  color: var(--sklearn-color-text);\n",
       "}\n",
       "\n",
       "/* Toggleable content - dropdown */\n",
       "\n",
       "#sk-container-id-1 div.sk-toggleable__content {\n",
       "  max-height: 0;\n",
       "  max-width: 0;\n",
       "  overflow: hidden;\n",
       "  text-align: left;\n",
       "  /* unfitted */\n",
       "  background-color: var(--sklearn-color-unfitted-level-0);\n",
       "}\n",
       "\n",
       "#sk-container-id-1 div.sk-toggleable__content.fitted {\n",
       "  /* fitted */\n",
       "  background-color: var(--sklearn-color-fitted-level-0);\n",
       "}\n",
       "\n",
       "#sk-container-id-1 div.sk-toggleable__content pre {\n",
       "  margin: 0.2em;\n",
       "  border-radius: 0.25em;\n",
       "  color: var(--sklearn-color-text);\n",
       "  /* unfitted */\n",
       "  background-color: var(--sklearn-color-unfitted-level-0);\n",
       "}\n",
       "\n",
       "#sk-container-id-1 div.sk-toggleable__content.fitted pre {\n",
       "  /* unfitted */\n",
       "  background-color: var(--sklearn-color-fitted-level-0);\n",
       "}\n",
       "\n",
       "#sk-container-id-1 input.sk-toggleable__control:checked~div.sk-toggleable__content {\n",
       "  /* Expand drop-down */\n",
       "  max-height: 200px;\n",
       "  max-width: 100%;\n",
       "  overflow: auto;\n",
       "}\n",
       "\n",
       "#sk-container-id-1 input.sk-toggleable__control:checked~label.sk-toggleable__label-arrow:before {\n",
       "  content: \"▾\";\n",
       "}\n",
       "\n",
       "/* Pipeline/ColumnTransformer-specific style */\n",
       "\n",
       "#sk-container-id-1 div.sk-label input.sk-toggleable__control:checked~label.sk-toggleable__label {\n",
       "  color: var(--sklearn-color-text);\n",
       "  background-color: var(--sklearn-color-unfitted-level-2);\n",
       "}\n",
       "\n",
       "#sk-container-id-1 div.sk-label.fitted input.sk-toggleable__control:checked~label.sk-toggleable__label {\n",
       "  background-color: var(--sklearn-color-fitted-level-2);\n",
       "}\n",
       "\n",
       "/* Estimator-specific style */\n",
       "\n",
       "/* Colorize estimator box */\n",
       "#sk-container-id-1 div.sk-estimator input.sk-toggleable__control:checked~label.sk-toggleable__label {\n",
       "  /* unfitted */\n",
       "  background-color: var(--sklearn-color-unfitted-level-2);\n",
       "}\n",
       "\n",
       "#sk-container-id-1 div.sk-estimator.fitted input.sk-toggleable__control:checked~label.sk-toggleable__label {\n",
       "  /* fitted */\n",
       "  background-color: var(--sklearn-color-fitted-level-2);\n",
       "}\n",
       "\n",
       "#sk-container-id-1 div.sk-label label.sk-toggleable__label,\n",
       "#sk-container-id-1 div.sk-label label {\n",
       "  /* The background is the default theme color */\n",
       "  color: var(--sklearn-color-text-on-default-background);\n",
       "}\n",
       "\n",
       "/* On hover, darken the color of the background */\n",
       "#sk-container-id-1 div.sk-label:hover label.sk-toggleable__label {\n",
       "  color: var(--sklearn-color-text);\n",
       "  background-color: var(--sklearn-color-unfitted-level-2);\n",
       "}\n",
       "\n",
       "/* Label box, darken color on hover, fitted */\n",
       "#sk-container-id-1 div.sk-label.fitted:hover label.sk-toggleable__label.fitted {\n",
       "  color: var(--sklearn-color-text);\n",
       "  background-color: var(--sklearn-color-fitted-level-2);\n",
       "}\n",
       "\n",
       "/* Estimator label */\n",
       "\n",
       "#sk-container-id-1 div.sk-label label {\n",
       "  font-family: monospace;\n",
       "  font-weight: bold;\n",
       "  display: inline-block;\n",
       "  line-height: 1.2em;\n",
       "}\n",
       "\n",
       "#sk-container-id-1 div.sk-label-container {\n",
       "  text-align: center;\n",
       "}\n",
       "\n",
       "/* Estimator-specific */\n",
       "#sk-container-id-1 div.sk-estimator {\n",
       "  font-family: monospace;\n",
       "  border: 1px dotted var(--sklearn-color-border-box);\n",
       "  border-radius: 0.25em;\n",
       "  box-sizing: border-box;\n",
       "  margin-bottom: 0.5em;\n",
       "  /* unfitted */\n",
       "  background-color: var(--sklearn-color-unfitted-level-0);\n",
       "}\n",
       "\n",
       "#sk-container-id-1 div.sk-estimator.fitted {\n",
       "  /* fitted */\n",
       "  background-color: var(--sklearn-color-fitted-level-0);\n",
       "}\n",
       "\n",
       "/* on hover */\n",
       "#sk-container-id-1 div.sk-estimator:hover {\n",
       "  /* unfitted */\n",
       "  background-color: var(--sklearn-color-unfitted-level-2);\n",
       "}\n",
       "\n",
       "#sk-container-id-1 div.sk-estimator.fitted:hover {\n",
       "  /* fitted */\n",
       "  background-color: var(--sklearn-color-fitted-level-2);\n",
       "}\n",
       "\n",
       "/* Specification for estimator info (e.g. \"i\" and \"?\") */\n",
       "\n",
       "/* Common style for \"i\" and \"?\" */\n",
       "\n",
       ".sk-estimator-doc-link,\n",
       "a:link.sk-estimator-doc-link,\n",
       "a:visited.sk-estimator-doc-link {\n",
       "  float: right;\n",
       "  font-size: smaller;\n",
       "  line-height: 1em;\n",
       "  font-family: monospace;\n",
       "  background-color: var(--sklearn-color-background);\n",
       "  border-radius: 1em;\n",
       "  height: 1em;\n",
       "  width: 1em;\n",
       "  text-decoration: none !important;\n",
       "  margin-left: 1ex;\n",
       "  /* unfitted */\n",
       "  border: var(--sklearn-color-unfitted-level-1) 1pt solid;\n",
       "  color: var(--sklearn-color-unfitted-level-1);\n",
       "}\n",
       "\n",
       ".sk-estimator-doc-link.fitted,\n",
       "a:link.sk-estimator-doc-link.fitted,\n",
       "a:visited.sk-estimator-doc-link.fitted {\n",
       "  /* fitted */\n",
       "  border: var(--sklearn-color-fitted-level-1) 1pt solid;\n",
       "  color: var(--sklearn-color-fitted-level-1);\n",
       "}\n",
       "\n",
       "/* On hover */\n",
       "div.sk-estimator:hover .sk-estimator-doc-link:hover,\n",
       ".sk-estimator-doc-link:hover,\n",
       "div.sk-label-container:hover .sk-estimator-doc-link:hover,\n",
       ".sk-estimator-doc-link:hover {\n",
       "  /* unfitted */\n",
       "  background-color: var(--sklearn-color-unfitted-level-3);\n",
       "  color: var(--sklearn-color-background);\n",
       "  text-decoration: none;\n",
       "}\n",
       "\n",
       "div.sk-estimator.fitted:hover .sk-estimator-doc-link.fitted:hover,\n",
       ".sk-estimator-doc-link.fitted:hover,\n",
       "div.sk-label-container:hover .sk-estimator-doc-link.fitted:hover,\n",
       ".sk-estimator-doc-link.fitted:hover {\n",
       "  /* fitted */\n",
       "  background-color: var(--sklearn-color-fitted-level-3);\n",
       "  color: var(--sklearn-color-background);\n",
       "  text-decoration: none;\n",
       "}\n",
       "\n",
       "/* Span, style for the box shown on hovering the info icon */\n",
       ".sk-estimator-doc-link span {\n",
       "  display: none;\n",
       "  z-index: 9999;\n",
       "  position: relative;\n",
       "  font-weight: normal;\n",
       "  right: .2ex;\n",
       "  padding: .5ex;\n",
       "  margin: .5ex;\n",
       "  width: min-content;\n",
       "  min-width: 20ex;\n",
       "  max-width: 50ex;\n",
       "  color: var(--sklearn-color-text);\n",
       "  box-shadow: 2pt 2pt 4pt #999;\n",
       "  /* unfitted */\n",
       "  background: var(--sklearn-color-unfitted-level-0);\n",
       "  border: .5pt solid var(--sklearn-color-unfitted-level-3);\n",
       "}\n",
       "\n",
       ".sk-estimator-doc-link.fitted span {\n",
       "  /* fitted */\n",
       "  background: var(--sklearn-color-fitted-level-0);\n",
       "  border: var(--sklearn-color-fitted-level-3);\n",
       "}\n",
       "\n",
       ".sk-estimator-doc-link:hover span {\n",
       "  display: block;\n",
       "}\n",
       "\n",
       "/* \"?\"-specific style due to the `<a>` HTML tag */\n",
       "\n",
       "#sk-container-id-1 a.estimator_doc_link {\n",
       "  float: right;\n",
       "  font-size: 1rem;\n",
       "  line-height: 1em;\n",
       "  font-family: monospace;\n",
       "  background-color: var(--sklearn-color-background);\n",
       "  border-radius: 1rem;\n",
       "  height: 1rem;\n",
       "  width: 1rem;\n",
       "  text-decoration: none;\n",
       "  /* unfitted */\n",
       "  color: var(--sklearn-color-unfitted-level-1);\n",
       "  border: var(--sklearn-color-unfitted-level-1) 1pt solid;\n",
       "}\n",
       "\n",
       "#sk-container-id-1 a.estimator_doc_link.fitted {\n",
       "  /* fitted */\n",
       "  border: var(--sklearn-color-fitted-level-1) 1pt solid;\n",
       "  color: var(--sklearn-color-fitted-level-1);\n",
       "}\n",
       "\n",
       "/* On hover */\n",
       "#sk-container-id-1 a.estimator_doc_link:hover {\n",
       "  /* unfitted */\n",
       "  background-color: var(--sklearn-color-unfitted-level-3);\n",
       "  color: var(--sklearn-color-background);\n",
       "  text-decoration: none;\n",
       "}\n",
       "\n",
       "#sk-container-id-1 a.estimator_doc_link.fitted:hover {\n",
       "  /* fitted */\n",
       "  background-color: var(--sklearn-color-fitted-level-3);\n",
       "}\n",
       "</style><div id=\"sk-container-id-1\" class=\"sk-top-container\"><div class=\"sk-text-repr-fallback\"><pre>LogisticRegression(max_iter=1000)</pre><b>In a Jupyter environment, please rerun this cell to show the HTML representation or trust the notebook. <br />On GitHub, the HTML representation is unable to render, please try loading this page with nbviewer.org.</b></div><div class=\"sk-container\" hidden><div class=\"sk-item\"><div class=\"sk-estimator fitted sk-toggleable\"><input class=\"sk-toggleable__control sk-hidden--visually\" id=\"sk-estimator-id-1\" type=\"checkbox\" checked><label for=\"sk-estimator-id-1\" class=\"sk-toggleable__label fitted sk-toggleable__label-arrow fitted\">&nbsp;&nbsp;LogisticRegression<a class=\"sk-estimator-doc-link fitted\" rel=\"noreferrer\" target=\"_blank\" href=\"https://scikit-learn.org/1.5/modules/generated/sklearn.linear_model.LogisticRegression.html\">?<span>Documentation for LogisticRegression</span></a><span class=\"sk-estimator-doc-link fitted\">i<span>Fitted</span></span></label><div class=\"sk-toggleable__content fitted\"><pre>LogisticRegression(max_iter=1000)</pre></div> </div></div></div></div>"
      ],
      "text/plain": [
       "LogisticRegression(max_iter=1000)"
      ]
     },
     "execution_count": 4,
     "metadata": {},
     "output_type": "execute_result"
    }
   ],
   "source": [
    "# Train a Simple Classifier (Logistic Regression)\n",
    "classifier = LogisticRegression(max_iter=1000)\n",
    "print(\"Training the classifier...\")\n",
    "classifier.fit(X_train, y_train)"
   ]
  },
  {
   "cell_type": "code",
   "execution_count": 5,
   "metadata": {},
   "outputs": [
    {
     "name": "stdout",
     "output_type": "stream",
     "text": [
      "Accuracy: 100.00%\n",
      "\n",
      "Classification Report:\n",
      "\n",
      "                precision    recall  f1-score   support\n",
      "\n",
      "     knowledge       1.00      1.00      1.00         9\n",
      "    multimedia       1.00      1.00      1.00         9\n",
      "recommendation       1.00      1.00      1.00         5\n",
      "     smalltalk       1.00      1.00      1.00         7\n",
      "\n",
      "      accuracy                           1.00        30\n",
      "     macro avg       1.00      1.00      1.00        30\n",
      "  weighted avg       1.00      1.00      1.00        30\n",
      "\n"
     ]
    }
   ],
   "source": [
    "\n",
    "# Make Predictions\n",
    "y_pred = classifier.predict(X_test)\n",
    "\n",
    "# Evaluate the Classifier\n",
    "accuracy = accuracy_score(y_test, y_pred)\n",
    "print(f\"Accuracy: {accuracy * 100:.2f}%\")\n",
    "print(\"\\nClassification Report:\\n\")\n",
    "print(classification_report(y_test, y_pred, target_names=label_mapping.keys()))\n"
   ]
  },
  {
   "cell_type": "code",
   "execution_count": 6,
   "metadata": {},
   "outputs": [],
   "source": [
    "# Function to Classify a New Sentence\n",
    "def classify_sentence(sentence):\n",
    "    # Embed the sentence\n",
    "    embedding = model.encode([sentence])\n",
    "    # Predict the category\n",
    "    prediction = classifier.predict(embedding)[0]\n",
    "    # Get the category name\n",
    "    category = [key for key, value in label_mapping.items() if value == prediction][0]\n",
    "    return category"
   ]
  },
  {
   "cell_type": "code",
   "execution_count": 7,
   "metadata": {},
   "outputs": [
    {
     "name": "stdout",
     "output_type": "stream",
     "text": [
      "                                             Sentence        Category\n",
      "0               What is the release date for Titanic?       knowledge\n",
      "1            Can you show me an image of Emma Watson?      multimedia\n",
      "2           Suggest a movie similar to The Godfather.  recommendation\n",
      "3                     Who was the director of Avatar?       knowledge\n",
      "4                       Show me a photo of Tom Hanks.      multimedia\n",
      "5           Recommend horror films like The Exorcist.  recommendation\n",
      "6                       What's the budget of Titanic?       knowledge\n",
      "7                      Display an image of Brad Pitt.      multimedia\n",
      "8   Suggest science fiction movies like Interstellar.  recommendation\n",
      "9                  Who won an Oscar for The Revenant?       knowledge\n",
      "10               Can I see a picture of Ryan Gosling?      multimedia\n",
      "11                    What is the genre of Inception?       knowledge\n",
      "12           Show me what Natalie Portman looks like.      multimedia\n",
      "13  Suggest romantic movies like Pride and Prejudice.  recommendation\n",
      "14                        Who produced The Godfather?       knowledge\n",
      "15                  What does Keanu Reeves look like?      multimedia\n",
      "16         Recommend animated films similar to Shrek.  recommendation\n",
      "17            Can you show me a photo of Johnny Depp?      multimedia\n",
      "18            What is the runtime of The Dark Knight?       knowledge\n",
      "19  Recommend family-friendly movies like Finding ...  recommendation\n",
      "20              Who composed the music for Star Wars?       knowledge\n",
      "21               Show me a picture of Angelina Jolie.      multimedia\n",
      "22  What is the box office revenue of Avengers: En...       knowledge\n",
      "23            Suggest comedy films like The Hangover.  recommendation\n",
      "24    Can I see what Benedict Cumberbatch looks like?      multimedia\n",
      "25      Recommend dramas similar to Schindler's List.  recommendation\n",
      "26                    Who edited the movie Gladiator?       knowledge\n",
      "27                Show me a photo of Chris Hemsworth.      multimedia\n",
      "28                       What is the rating for Jaws?       knowledge\n",
      "29        Suggest musicals like The Greatest Showman.  recommendation\n",
      "30    Can you show me a picture of Jennifer Lawrence?      multimedia\n",
      "31            What awards did The Shape of Water win?       knowledge\n",
      "32               Recommend movies like The Lion King.  recommendation\n",
      "33                     What does Brad Pitt look like?      multimedia\n",
      "34            Who wrote the screenplay for Inception?       knowledge\n",
      "35            Suggest thriller movies like Gone Girl.  recommendation\n",
      "36        Show me what Scarlett Johansson looks like.      multimedia\n",
      "37                   What is the genre of The Matrix?  recommendation\n",
      "38              Recommend action films like Die Hard.  recommendation\n",
      "39            Can I see a picture of Charlize Theron?      multimedia\n",
      "40          What is the MPAA rating for Finding Nemo?       knowledge\n",
      "41             Suggest animated films like Toy Story.  recommendation\n",
      "42        Who was the executive producer for Titanic?       knowledge\n",
      "43               Show me a picture of Morgan Freeman.      multimedia\n",
      "44             Recommend horror films from the 1980s.  recommendation\n",
      "45                What does Robert De Niro look like?      multimedia\n",
      "46           Who starred in The Shawshank Redemption?       knowledge\n",
      "47  Can Suggest adventure movies like Indiana Jone...  recommendation\n",
      "48              Heyo, Show me an image of Matt Damon.      multimedia\n",
      "49     Hi, What is the release year of The Godfather?       knowledge\n",
      "50        Thank you have recommended be good answers!  recommendation\n"
     ]
    }
   ],
   "source": [
    "# Example Usage with Multiple Sentences\n",
    "new_sentences = [\n",
    "    \"What is the release date for Titanic?\",\n",
    "    \"Can you show me an image of Emma Watson?\",\n",
    "    \"Suggest a movie similar to The Godfather.\",\n",
    "    \"Who was the director of Avatar?\",\n",
    "    \"Show me a photo of Tom Hanks.\",\n",
    "    \"Recommend horror films like The Exorcist.\",\n",
    "    \"What's the budget of Titanic?\",\n",
    "    \"Display an image of Brad Pitt.\",\n",
    "    \"Suggest science fiction movies like Interstellar.\",\n",
    "    \"Who won an Oscar for The Revenant?\",\n",
    "    \"Can I see a picture of Ryan Gosling?\",\n",
    "    \"What is the genre of Inception?\",\n",
    "    \"Show me what Natalie Portman looks like.\",\n",
    "    \"Suggest romantic movies like Pride and Prejudice.\",\n",
    "    \"Who produced The Godfather?\",\n",
    "    \"What does Keanu Reeves look like?\",\n",
    "    \"Recommend animated films similar to Shrek.\",\n",
    "    \"Can you show me a photo of Johnny Depp?\",\n",
    "    \"What is the runtime of The Dark Knight?\",\n",
    "    \"Recommend family-friendly movies like Finding Nemo.\",\n",
    "    \"Who composed the music for Star Wars?\",\n",
    "    \"Show me a picture of Angelina Jolie.\",\n",
    "    \"What is the box office revenue of Avengers: Endgame?\",\n",
    "    \"Suggest comedy films like The Hangover.\",\n",
    "    \"Can I see what Benedict Cumberbatch looks like?\",\n",
    "    \"Recommend dramas similar to Schindler's List.\",\n",
    "    \"Who edited the movie Gladiator?\",\n",
    "    \"Show me a photo of Chris Hemsworth.\",\n",
    "    \"What is the rating for Jaws?\",\n",
    "    \"Suggest musicals like The Greatest Showman.\",\n",
    "    \"Can you show me a picture of Jennifer Lawrence?\",\n",
    "    \"What awards did The Shape of Water win?\",\n",
    "    \"Recommend movies like The Lion King.\",\n",
    "    \"What does Brad Pitt look like?\",\n",
    "    \"Who wrote the screenplay for Inception?\",\n",
    "    \"Suggest thriller movies like Gone Girl.\",\n",
    "    \"Show me what Scarlett Johansson looks like.\",\n",
    "    \"What is the genre of The Matrix?\",\n",
    "    \"Recommend action films like Die Hard.\",\n",
    "    \"Can I see a picture of Charlize Theron?\",\n",
    "    \"What is the MPAA rating for Finding Nemo?\",\n",
    "    \"Suggest animated films like Toy Story.\",\n",
    "    \"Who was the executive producer for Titanic?\",\n",
    "    \"Show me a picture of Morgan Freeman.\",\n",
    "    \"Recommend horror films from the 1980s.\",\n",
    "    \"What does Robert De Niro look like?\",\n",
    "    \"Who starred in The Shawshank Redemption?\",\n",
    "    \"Can Suggest adventure movies like Indiana Jones, thank you!\",\n",
    "    \"Heyo, Show me an image of Matt Damon.\",\n",
    "    \"Hi, What is the release year of The Godfather?\",\n",
    "    \"Thank you have recommended be good answers!\"\n",
    "]\n",
    "# Classify and Display Results in a DataFrame\n",
    "results = []\n",
    "\n",
    "for sentence in new_sentences:\n",
    "    category = classify_sentence(sentence)\n",
    "    results.append({'Sentence': sentence, 'Category': category})\n",
    "\n",
    "# Create a DataFrame to display the results\n",
    "results_df = pd.DataFrame(results)\n",
    "print(results_df)\n"
   ]
  },
  {
   "cell_type": "code",
   "execution_count": 9,
   "metadata": {},
   "outputs": [
    {
     "name": "stdout",
     "output_type": "stream",
     "text": [
      "Note: you may need to restart the kernel to use updated packages.\n"
     ]
    }
   ],
   "source": [
    "%pip install plotly nbformat>=4.2.0"
   ]
  },
  {
   "cell_type": "code",
   "execution_count": 9,
   "metadata": {},
   "outputs": [
    {
     "name": "stdout",
     "output_type": "stream",
     "text": [
      "Applying PCA for 2D visualization...\n"
     ]
    },
    {
     "data": {
      "application/vnd.plotly.v1+json": {
       "config": {
        "plotlyServerURL": "https://plot.ly"
       },
       "data": [
        {
         "customdata": [
          [
           "Who directed The Godfather?"
          ],
          [
           "What's the release year for Inception?"
          ],
          [
           "Who was the screenwriter for The Mask?"
          ],
          [
           "What's the box office revenue of Titanic?"
          ],
          [
           "Who composed the score for The Lord of the Rings?"
          ],
          [
           "What's the MPAA rating for Jaws?"
          ],
          [
           "Who starred in Pulp Fiction?"
          ],
          [
           "Who edited Jurassic Park?"
          ],
          [
           "What awards did Parasite win?"
          ],
          [
           "What's the runtime of Gladiator?"
          ],
          [
           "Who produced The Godfather Part II?"
          ],
          [
           "Who wrote the screenplay for Schindler's List?"
          ],
          [
           "What is the production budget of Avatar?"
          ],
          [
           "Who won an Oscar for the movie Joker?"
          ],
          [
           "What's the genre of The Silence of the Lambs?"
          ],
          [
           "Who was the director of Titanic?"
          ],
          [
           "How long is the movie The Irishman?"
          ],
          [
           "What's the release date of Forrest Gump?"
          ],
          [
           "Who played the lead role in The Matrix?"
          ],
          [
           "Who is the composer for the soundtrack of Dune?"
          ],
          [
           "How many Academy Awards did La La Land win?"
          ],
          [
           "Who was the cinematographer for Blade Runner 2049?"
          ],
          [
           "What awards did Moonlight receive?"
          ],
          [
           "Who is the executive producer of The Shawshank Redemption?"
          ],
          [
           "Who wrote the book that inspired The Shining?"
          ],
          [
           "What's the budget of Avengers: Endgame?"
          ],
          [
           "Who directed The Grand Budapest Hotel?"
          ],
          [
           "Who was the editor for The Wolf of Wall Street?"
          ],
          [
           "How many Oscars did Parasite win?"
          ],
          [
           "Who played Frodo in The Lord of the Rings?"
          ],
          [
           "Who is the director of 1917?"
          ],
          [
           "What's the age rating for Toy Story 4?"
          ],
          [
           "Who did the visual effects for Inception?"
          ],
          [
           "What studio produced Frozen?"
          ],
          [
           "Who was the lead actress in Gravity?"
          ],
          [
           "What's the box office collection of Black Panther?"
          ],
          [
           "Who wrote the screenplay for Gladiator?"
          ],
          [
           "What year was The Lion King originally released?"
          ],
          [
           "Who directed the movie Interstellar?"
          ],
          [
           "What's the MPAA rating of The Dark Knight?"
          ]
         ],
         "hovertemplate": "Category=knowledge<br>PC1=%{x}<br>PC2=%{y}<br>Sentence=%{customdata[0]}<extra></extra>",
         "legendgroup": "knowledge",
         "marker": {
          "color": "#636efa",
          "symbol": "circle"
         },
         "mode": "markers",
         "name": "knowledge",
         "orientation": "v",
         "showlegend": true,
         "type": "scatter",
         "x": [
          -0.12074337154626846,
          -0.05100735276937485,
          -0.02083991840481758,
          0.062385402619838715,
          -0.08070917427539825,
          -0.0552699938416481,
          -0.13704782724380493,
          -0.13105493783950806,
          -0.00827530212700367,
          0.059731122106313705,
          -0.08708146214485168,
          -0.22686783969402313,
          0.10967644304037094,
          -0.0714448019862175,
          -0.2749469578266144,
          -0.03672236576676369,
          -0.06529562920331955,
          -0.07018067687749863,
          -0.056410789489746094,
          -0.06247526779770851,
          0.03484862670302391,
          -0.06451781839132309,
          -0.08332863450050354,
          -0.10096713155508041,
          -0.10005828738212585,
          -0.019139960408210754,
          -0.10251211374998093,
          0.03159625455737114,
          -0.12467499822378159,
          0.03825535625219345,
          -0.0026612647343426943,
          -0.0500149205327034,
          0.06376286596059799,
          -0.06392701715230942,
          0.042118873447179794,
          -0.11805779486894608,
          -0.11269982904195786,
          -0.10908600687980652,
          -0.18955110013484955,
          -0.02022504061460495
         ],
         "xaxis": "x",
         "y": [
          0.21522589027881622,
          0.06698478013277054,
          0.2751716077327728,
          0.06475108116865158,
          -0.040155187249183655,
          -0.04400646686553955,
          0.2314767986536026,
          0.10324277728796005,
          0.00734299048781395,
          -0.06770695000886917,
          0.1683289259672165,
          0.19390808045864105,
          0.08125442266464233,
          0.17202849686145782,
          0.01853944920003414,
          0.25134819746017456,
          0.11492333561182022,
          0.04345595836639404,
          0.22240899503231049,
          0.07622850686311722,
          0.09802058339118958,
          0.21813181042671204,
          0.0947888046503067,
          0.17196328938007355,
          0.09219485521316528,
          -0.010826527141034603,
          0.09070432186126709,
          0.15085411071777344,
          0.1338374763727188,
          0.15037649869918823,
          0.16554635763168335,
          0.08335272967815399,
          0.23524323105812073,
          0.07864398509263992,
          0.22612003982067108,
          0.07526421546936035,
          0.0931616872549057,
          0.03468288853764534,
          0.2265554964542389,
          0.04282251372933388
         ],
         "yaxis": "y"
        },
        {
         "customdata": [
          [
           "Show me a picture of Leonardo DiCaprio."
          ],
          [
           "What does Scarlett Johansson look like?"
          ],
          [
           "Can I see an image of Robert De Niro?"
          ],
          [
           "Show me Harrison Ford’s appearance."
          ],
          [
           "Let me know what Viola Davis looks like."
          ],
          [
           "Can I see a picture of Emma Stone?"
          ],
          [
           "Show me Robert Downey Jr.'s photo."
          ],
          [
           "What does Gal Gadot look like?"
          ],
          [
           "Can I see what Tom Cruise looks like?"
          ],
          [
           "Display an image of Gal Gadot."
          ],
          [
           "Show me a recent photo of Keanu Reeves."
          ],
          [
           "What does Denzel Washington look like these days?"
          ],
          [
           "Can I see an image of Angelina Jolie?"
          ],
          [
           "What does Matt Damon look like?"
          ],
          [
           "Show me a picture of Natalie Portman."
          ],
          [
           "What does Morgan Freeman look like now?"
          ],
          [
           "Can you display an image of Hugh Jackman?"
          ],
          [
           "Show me a photo of Charlize Theron."
          ],
          [
           "What does Johnny Depp look like currently?"
          ],
          [
           "Can I see a picture of Chris Hemsworth?"
          ],
          [
           "Show me what Jennifer Lawrence looks like."
          ],
          [
           "What does Ryan Gosling look like?"
          ],
          [
           "Can I see an image of Zoe Saldana?"
          ],
          [
           "Show me a photo of Anne Hathaway."
          ],
          [
           "What does Chris Evans look like?"
          ],
          [
           "Show me a recent image of Brad Pitt."
          ],
          [
           "Can I see a picture of Emily Blunt?"
          ],
          [
           "Show me what Tom Hardy looks like."
          ],
          [
           "What does Sandra Bullock look like now?"
          ],
          [
           "Display an image of Will Smith."
          ],
          [
           "What does Jason Momoa look like?"
          ],
          [
           "Can I see an image of Robert Pattinson?"
          ],
          [
           "Show me a picture of Mila Kunis."
          ],
          [
           "What does Benedict Cumberbatch look like?"
          ],
          [
           "Can you show me a photo of Kristen Stewart?"
          ],
          [
           "Show me a recent image of Gal Gadot."
          ],
          [
           "What does Scarlett Johansson look like in her latest movie?"
          ],
          [
           "Can I see a picture of Margot Robbie?"
          ],
          [
           "Show me what Mark Ruffalo looks like."
          ],
          [
           "What does Idris Elba look like now?"
          ]
         ],
         "hovertemplate": "Category=multimedia<br>PC1=%{x}<br>PC2=%{y}<br>Sentence=%{customdata[0]}<extra></extra>",
         "legendgroup": "multimedia",
         "marker": {
          "color": "#EF553B",
          "symbol": "circle"
         },
         "mode": "markers",
         "name": "multimedia",
         "orientation": "v",
         "showlegend": true,
         "type": "scatter",
         "x": [
          0.31369122862815857,
          0.39414867758750916,
          0.35201695561408997,
          0.2299513965845108,
          0.36575740575790405,
          0.47347941994667053,
          0.32577624917030334,
          0.4224960505962372,
          0.4042564928531647,
          0.4138413369655609,
          0.3110095262527466,
          0.1785578429698944,
          0.506501317024231,
          0.31344711780548096,
          0.2909659445285797,
          0.2756366729736328,
          0.34008461236953735,
          0.3871479332447052,
          0.3288000226020813,
          0.41564956307411194,
          0.3614887595176697,
          0.2528524696826935,
          0.41640251874923706,
          0.3276044726371765,
          0.4088141620159149,
          0.3859683573246002,
          0.46106529235839844,
          0.31535059213638306,
          0.3132012188434601,
          0.31518930196762085,
          0.3509114682674408,
          0.33777812123298645,
          0.4038013517856598,
          0.2848651707172394,
          0.42580080032348633,
          0.41904059052467346,
          0.28510570526123047,
          0.43959686160087585,
          0.3323276937007904,
          0.3996867835521698
         ],
         "xaxis": "x",
         "y": [
          0.2625221014022827,
          0.3216269016265869,
          0.18671555817127228,
          0.21091172099113464,
          0.13457134366035461,
          0.22696784138679504,
          0.11819193512201309,
          0.14582207798957825,
          0.3514290153980255,
          -0.02623182162642479,
          0.22014370560646057,
          0.3930787742137909,
          0.2782973349094391,
          0.3741576075553894,
          0.2200891077518463,
          0.3096890449523926,
          0.2101578712463379,
          0.13474412262439728,
          0.3424423635005951,
          0.26587975025177,
          0.23580686748027802,
          0.3608247935771942,
          0.16926057636737823,
          0.15000475943088531,
          0.30119362473487854,
          0.24962696433067322,
          0.22143156826496124,
          0.2750979959964752,
          0.3181069791316986,
          0.17154526710510254,
          0.31398603320121765,
          0.2872762680053711,
          0.15896819531917572,
          0.25526782870292664,
          0.23092032968997955,
          0.06492068618535995,
          0.3025408685207367,
          0.2283492386341095,
          0.27073243260383606,
          0.25019681453704834
         ],
         "yaxis": "y"
        },
        {
         "customdata": [
          [
           "Recommend movies like Jurassic Park."
          ],
          [
           "Suggest films similar to The Matrix."
          ],
          [
           "Can you recommend dramas like The Godfather?"
          ],
          [
           "Recommend animated films similar to Toy Story."
          ],
          [
           "What are movies like Casablanca?"
          ],
          [
           "Any horror films like Halloween?"
          ],
          [
           "Suggest romantic comedies like Notting Hill."
          ],
          [
           "Recommend science fiction movies like Blade Runner."
          ],
          [
           "Can you suggest musicals like La La Land?"
          ],
          [
           "Suggest family films like Home Alone."
          ],
          [
           "What are some action movies similar to Die Hard?"
          ],
          [
           "Recommend movies like The Notebook."
          ],
          [
           "Can you suggest thrillers like Seven?"
          ],
          [
           "Any fantasy films similar to Harry Potter?"
          ],
          [
           "Recommend heist movies like Ocean's Eleven."
          ],
          [
           "Suggest animated films like Finding Nemo."
          ],
          [
           "What are some movies similar to The Shawshank Redemption?"
          ],
          [
           "Recommend sci-fi films like Interstellar."
          ],
          [
           "Can you recommend horror films like The Conjuring?"
          ],
          [
           "Suggest adventure films like Indiana Jones."
          ],
          [
           "Any films like Pulp Fiction?"
          ],
          [
           "Recommend romantic dramas like Pride and Prejudice."
          ],
          [
           "Suggest superhero movies like The Avengers."
          ],
          [
           "Can you recommend biopics like Bohemian Rhapsody?"
          ],
          [
           "What are some comedies like Superbad?"
          ],
          [
           "Suggest movies based on true stories like Spotlight."
          ],
          [
           "Recommend war films like Saving Private Ryan."
          ],
          [
           "Any sci-fi films like The Terminator?"
          ],
          [
           "Can you suggest documentaries like Free Solo?"
          ],
          [
           "Recommend courtroom dramas like A Few Good Men."
          ],
          [
           "What are some musicals like The Greatest Showman?"
          ],
          [
           "Suggest dystopian movies like The Hunger Games."
          ],
          [
           "Recommend animated movies like Moana."
          ],
          [
           "Any crime thrillers similar to The Departed?"
          ],
          [
           "Suggest movies with time travel like Back to the Future."
          ],
          [
           "What are some horror movies like A Nightmare on Elm Street?"
          ],
          [
           "Recommend psychological thrillers like Black Swan."
          ],
          [
           "Can you suggest classic movies like Gone with the Wind?"
          ],
          [
           "Any adventure films similar to Jumanji?"
          ],
          [
           "Recommend spy movies like James Bond."
          ]
         ],
         "hovertemplate": "Category=recommendation<br>PC1=%{x}<br>PC2=%{y}<br>Sentence=%{customdata[0]}<extra></extra>",
         "legendgroup": "recommendation",
         "marker": {
          "color": "#00cc96",
          "symbol": "circle"
         },
         "mode": "markers",
         "name": "recommendation",
         "orientation": "v",
         "showlegend": true,
         "type": "scatter",
         "x": [
          -0.5503237843513489,
          -0.4083574414253235,
          -0.485916405916214,
          -0.48806214332580566,
          -0.35008254647254944,
          -0.36675456166267395,
          -0.4215424656867981,
          -0.5320302248001099,
          -0.30185288190841675,
          -0.47896966338157654,
          -0.4528426229953766,
          -0.4879254400730133,
          -0.4916078448295593,
          -0.42533305287361145,
          -0.4527614414691925,
          -0.44421905279159546,
          -0.4491436779499054,
          -0.4719345271587372,
          -0.4848744571208954,
          -0.5264537334442139,
          -0.42921966314315796,
          -0.44806352257728577,
          -0.40346404910087585,
          -0.40098899602890015,
          -0.34426963329315186,
          -0.5450417399406433,
          -0.5039911270141602,
          -0.3876197934150696,
          -0.3450123071670532,
          -0.34888359904289246,
          -0.26313185691833496,
          -0.5270043015480042,
          -0.46540552377700806,
          -0.4303184151649475,
          -0.4844413101673126,
          -0.3353968858718872,
          -0.4443713128566742,
          -0.49281737208366394,
          -0.3815324306488037,
          -0.4805903732776642
         ],
         "xaxis": "x",
         "y": [
          -0.04062802344560623,
          0.08772806078195572,
          0.003234975039958954,
          -0.007977072149515152,
          0.1571534425020218,
          0.04349738359451294,
          -0.09182022511959076,
          -0.017706269398331642,
          -0.03284616768360138,
          -0.03994470462203026,
          0.12634260952472687,
          -0.05843513086438179,
          -0.05667061731219292,
          0.03905734792351723,
          0.04159078374505043,
          0.03251911699771881,
          0.08430338650941849,
          -0.000452187581686303,
          0.026946697384119034,
          0.008294331841170788,
          0.12560144066810608,
          -0.09970401227474213,
          0.018254095688462257,
          0.017633840441703796,
          0.03936726972460747,
          0.008367580361664295,
          0.004015444312244654,
          0.1376143842935562,
          -0.050882354378700256,
          -0.15794742107391357,
          0.04697676748037338,
          0.025129353627562523,
          -0.016269268468022346,
          0.08386386930942535,
          0.0018115104176104069,
          0.0744360014796257,
          -0.09140944480895996,
          0.006055160891264677,
          0.02095065824687481,
          0.008113432675600052
         ],
         "yaxis": "y"
        },
        {
         "customdata": [
          [
           "Hi, how are you?"
          ],
          [
           "Hello! What's up?"
          ],
          [
           "Good morning!"
          ],
          [
           "Good afternoon!"
          ],
          [
           "Good evening!"
          ],
          [
           "Hey there!"
          ],
          [
           "How's your day going?"
          ],
          [
           "Nice to meet you!"
          ],
          [
           "What's new with you?"
          ],
          [
           "How's it going?"
          ],
          [
           "Thank you!"
          ],
          [
           "You're welcome!"
          ],
          [
           "No problem!"
          ],
          [
           "Have a great day!"
          ],
          [
           "See you later!"
          ],
          [
           "Take care!"
          ],
          [
           "How can I help you?"
          ],
          [
           "What's on your mind?"
          ],
          [
           "Long time no see!"
          ],
          [
           "How have you been?"
          ],
          [
           "Goodbye!"
          ],
          [
           "Catch you later!"
          ],
          [
           "What's happening?"
          ],
          [
           "It's nice to chat with you!"
          ],
          [
           "Hope you're doing well!"
          ],
          [
           "I'm here if you need anything!"
          ],
          [
           "Have a nice weekend!"
          ],
          [
           "Let's talk about something fun!"
          ],
          [
           "You're awesome!"
          ],
          [
           "Thanks for stopping by!"
          ]
         ],
         "hovertemplate": "Category=smalltalk<br>PC1=%{x}<br>PC2=%{y}<br>Sentence=%{customdata[0]}<extra></extra>",
         "legendgroup": "smalltalk",
         "marker": {
          "color": "#ab63fa",
          "symbol": "circle"
         },
         "mode": "markers",
         "name": "smalltalk",
         "orientation": "v",
         "showlegend": true,
         "type": "scatter",
         "x": [
          0.2749893367290497,
          0.24721501767635345,
          0.24237187206745148,
          0.21254755556583405,
          0.2373071014881134,
          0.18434761464595795,
          0.2708936929702759,
          0.22829768061637878,
          0.1672528088092804,
          0.22907260060310364,
          0.21744437515735626,
          0.0996924564242363,
          0.05872192606329918,
          0.22880145907402039,
          0.22017981112003326,
          0.19858033955097198,
          0.2323751598596573,
          0.08691277354955673,
          0.2129146307706833,
          0.20001493394374847,
          0.16119502484798431,
          0.16837060451507568,
          0.17930057644844055,
          0.20049577951431274,
          0.2295714169740677,
          0.11834561824798584,
          0.1350679248571396,
          0.00536104803904891,
          0.2675057649612427,
          0.11275819689035416
         ],
         "xaxis": "x",
         "y": [
          -0.5109732747077942,
          -0.5380361080169678,
          -0.6251996159553528,
          -0.6185516119003296,
          -0.6356770992279053,
          -0.480379581451416,
          -0.5989004373550415,
          -0.6058911085128784,
          -0.36115941405296326,
          -0.5494374632835388,
          -0.4610934257507324,
          -0.4228508472442627,
          -0.3642469048500061,
          -0.6303325295448303,
          -0.457332044839859,
          -0.5075789093971252,
          -0.34691551327705383,
          -0.3093794286251068,
          -0.2727457582950592,
          -0.4091450572013855,
          -0.483193963766098,
          -0.438486784696579,
          -0.3316781520843506,
          -0.5944235324859619,
          -0.6166577935218811,
          -0.4634409248828888,
          -0.6331996321678162,
          -0.38233682513237,
          -0.4232146739959717,
          -0.5371630191802979
         ],
         "yaxis": "y"
        }
       ],
       "layout": {
        "legend": {
         "title": {
          "text": "Category"
         },
         "tracegroupgap": 0
        },
        "template": {
         "data": {
          "bar": [
           {
            "error_x": {
             "color": "#2a3f5f"
            },
            "error_y": {
             "color": "#2a3f5f"
            },
            "marker": {
             "line": {
              "color": "#E5ECF6",
              "width": 0.5
             },
             "pattern": {
              "fillmode": "overlay",
              "size": 10,
              "solidity": 0.2
             }
            },
            "type": "bar"
           }
          ],
          "barpolar": [
           {
            "marker": {
             "line": {
              "color": "#E5ECF6",
              "width": 0.5
             },
             "pattern": {
              "fillmode": "overlay",
              "size": 10,
              "solidity": 0.2
             }
            },
            "type": "barpolar"
           }
          ],
          "carpet": [
           {
            "aaxis": {
             "endlinecolor": "#2a3f5f",
             "gridcolor": "white",
             "linecolor": "white",
             "minorgridcolor": "white",
             "startlinecolor": "#2a3f5f"
            },
            "baxis": {
             "endlinecolor": "#2a3f5f",
             "gridcolor": "white",
             "linecolor": "white",
             "minorgridcolor": "white",
             "startlinecolor": "#2a3f5f"
            },
            "type": "carpet"
           }
          ],
          "choropleth": [
           {
            "colorbar": {
             "outlinewidth": 0,
             "ticks": ""
            },
            "type": "choropleth"
           }
          ],
          "contour": [
           {
            "colorbar": {
             "outlinewidth": 0,
             "ticks": ""
            },
            "colorscale": [
             [
              0,
              "#0d0887"
             ],
             [
              0.1111111111111111,
              "#46039f"
             ],
             [
              0.2222222222222222,
              "#7201a8"
             ],
             [
              0.3333333333333333,
              "#9c179e"
             ],
             [
              0.4444444444444444,
              "#bd3786"
             ],
             [
              0.5555555555555556,
              "#d8576b"
             ],
             [
              0.6666666666666666,
              "#ed7953"
             ],
             [
              0.7777777777777778,
              "#fb9f3a"
             ],
             [
              0.8888888888888888,
              "#fdca26"
             ],
             [
              1,
              "#f0f921"
             ]
            ],
            "type": "contour"
           }
          ],
          "contourcarpet": [
           {
            "colorbar": {
             "outlinewidth": 0,
             "ticks": ""
            },
            "type": "contourcarpet"
           }
          ],
          "heatmap": [
           {
            "colorbar": {
             "outlinewidth": 0,
             "ticks": ""
            },
            "colorscale": [
             [
              0,
              "#0d0887"
             ],
             [
              0.1111111111111111,
              "#46039f"
             ],
             [
              0.2222222222222222,
              "#7201a8"
             ],
             [
              0.3333333333333333,
              "#9c179e"
             ],
             [
              0.4444444444444444,
              "#bd3786"
             ],
             [
              0.5555555555555556,
              "#d8576b"
             ],
             [
              0.6666666666666666,
              "#ed7953"
             ],
             [
              0.7777777777777778,
              "#fb9f3a"
             ],
             [
              0.8888888888888888,
              "#fdca26"
             ],
             [
              1,
              "#f0f921"
             ]
            ],
            "type": "heatmap"
           }
          ],
          "heatmapgl": [
           {
            "colorbar": {
             "outlinewidth": 0,
             "ticks": ""
            },
            "colorscale": [
             [
              0,
              "#0d0887"
             ],
             [
              0.1111111111111111,
              "#46039f"
             ],
             [
              0.2222222222222222,
              "#7201a8"
             ],
             [
              0.3333333333333333,
              "#9c179e"
             ],
             [
              0.4444444444444444,
              "#bd3786"
             ],
             [
              0.5555555555555556,
              "#d8576b"
             ],
             [
              0.6666666666666666,
              "#ed7953"
             ],
             [
              0.7777777777777778,
              "#fb9f3a"
             ],
             [
              0.8888888888888888,
              "#fdca26"
             ],
             [
              1,
              "#f0f921"
             ]
            ],
            "type": "heatmapgl"
           }
          ],
          "histogram": [
           {
            "marker": {
             "pattern": {
              "fillmode": "overlay",
              "size": 10,
              "solidity": 0.2
             }
            },
            "type": "histogram"
           }
          ],
          "histogram2d": [
           {
            "colorbar": {
             "outlinewidth": 0,
             "ticks": ""
            },
            "colorscale": [
             [
              0,
              "#0d0887"
             ],
             [
              0.1111111111111111,
              "#46039f"
             ],
             [
              0.2222222222222222,
              "#7201a8"
             ],
             [
              0.3333333333333333,
              "#9c179e"
             ],
             [
              0.4444444444444444,
              "#bd3786"
             ],
             [
              0.5555555555555556,
              "#d8576b"
             ],
             [
              0.6666666666666666,
              "#ed7953"
             ],
             [
              0.7777777777777778,
              "#fb9f3a"
             ],
             [
              0.8888888888888888,
              "#fdca26"
             ],
             [
              1,
              "#f0f921"
             ]
            ],
            "type": "histogram2d"
           }
          ],
          "histogram2dcontour": [
           {
            "colorbar": {
             "outlinewidth": 0,
             "ticks": ""
            },
            "colorscale": [
             [
              0,
              "#0d0887"
             ],
             [
              0.1111111111111111,
              "#46039f"
             ],
             [
              0.2222222222222222,
              "#7201a8"
             ],
             [
              0.3333333333333333,
              "#9c179e"
             ],
             [
              0.4444444444444444,
              "#bd3786"
             ],
             [
              0.5555555555555556,
              "#d8576b"
             ],
             [
              0.6666666666666666,
              "#ed7953"
             ],
             [
              0.7777777777777778,
              "#fb9f3a"
             ],
             [
              0.8888888888888888,
              "#fdca26"
             ],
             [
              1,
              "#f0f921"
             ]
            ],
            "type": "histogram2dcontour"
           }
          ],
          "mesh3d": [
           {
            "colorbar": {
             "outlinewidth": 0,
             "ticks": ""
            },
            "type": "mesh3d"
           }
          ],
          "parcoords": [
           {
            "line": {
             "colorbar": {
              "outlinewidth": 0,
              "ticks": ""
             }
            },
            "type": "parcoords"
           }
          ],
          "pie": [
           {
            "automargin": true,
            "type": "pie"
           }
          ],
          "scatter": [
           {
            "fillpattern": {
             "fillmode": "overlay",
             "size": 10,
             "solidity": 0.2
            },
            "type": "scatter"
           }
          ],
          "scatter3d": [
           {
            "line": {
             "colorbar": {
              "outlinewidth": 0,
              "ticks": ""
             }
            },
            "marker": {
             "colorbar": {
              "outlinewidth": 0,
              "ticks": ""
             }
            },
            "type": "scatter3d"
           }
          ],
          "scattercarpet": [
           {
            "marker": {
             "colorbar": {
              "outlinewidth": 0,
              "ticks": ""
             }
            },
            "type": "scattercarpet"
           }
          ],
          "scattergeo": [
           {
            "marker": {
             "colorbar": {
              "outlinewidth": 0,
              "ticks": ""
             }
            },
            "type": "scattergeo"
           }
          ],
          "scattergl": [
           {
            "marker": {
             "colorbar": {
              "outlinewidth": 0,
              "ticks": ""
             }
            },
            "type": "scattergl"
           }
          ],
          "scattermapbox": [
           {
            "marker": {
             "colorbar": {
              "outlinewidth": 0,
              "ticks": ""
             }
            },
            "type": "scattermapbox"
           }
          ],
          "scatterpolar": [
           {
            "marker": {
             "colorbar": {
              "outlinewidth": 0,
              "ticks": ""
             }
            },
            "type": "scatterpolar"
           }
          ],
          "scatterpolargl": [
           {
            "marker": {
             "colorbar": {
              "outlinewidth": 0,
              "ticks": ""
             }
            },
            "type": "scatterpolargl"
           }
          ],
          "scatterternary": [
           {
            "marker": {
             "colorbar": {
              "outlinewidth": 0,
              "ticks": ""
             }
            },
            "type": "scatterternary"
           }
          ],
          "surface": [
           {
            "colorbar": {
             "outlinewidth": 0,
             "ticks": ""
            },
            "colorscale": [
             [
              0,
              "#0d0887"
             ],
             [
              0.1111111111111111,
              "#46039f"
             ],
             [
              0.2222222222222222,
              "#7201a8"
             ],
             [
              0.3333333333333333,
              "#9c179e"
             ],
             [
              0.4444444444444444,
              "#bd3786"
             ],
             [
              0.5555555555555556,
              "#d8576b"
             ],
             [
              0.6666666666666666,
              "#ed7953"
             ],
             [
              0.7777777777777778,
              "#fb9f3a"
             ],
             [
              0.8888888888888888,
              "#fdca26"
             ],
             [
              1,
              "#f0f921"
             ]
            ],
            "type": "surface"
           }
          ],
          "table": [
           {
            "cells": {
             "fill": {
              "color": "#EBF0F8"
             },
             "line": {
              "color": "white"
             }
            },
            "header": {
             "fill": {
              "color": "#C8D4E3"
             },
             "line": {
              "color": "white"
             }
            },
            "type": "table"
           }
          ]
         },
         "layout": {
          "annotationdefaults": {
           "arrowcolor": "#2a3f5f",
           "arrowhead": 0,
           "arrowwidth": 1
          },
          "autotypenumbers": "strict",
          "coloraxis": {
           "colorbar": {
            "outlinewidth": 0,
            "ticks": ""
           }
          },
          "colorscale": {
           "diverging": [
            [
             0,
             "#8e0152"
            ],
            [
             0.1,
             "#c51b7d"
            ],
            [
             0.2,
             "#de77ae"
            ],
            [
             0.3,
             "#f1b6da"
            ],
            [
             0.4,
             "#fde0ef"
            ],
            [
             0.5,
             "#f7f7f7"
            ],
            [
             0.6,
             "#e6f5d0"
            ],
            [
             0.7,
             "#b8e186"
            ],
            [
             0.8,
             "#7fbc41"
            ],
            [
             0.9,
             "#4d9221"
            ],
            [
             1,
             "#276419"
            ]
           ],
           "sequential": [
            [
             0,
             "#0d0887"
            ],
            [
             0.1111111111111111,
             "#46039f"
            ],
            [
             0.2222222222222222,
             "#7201a8"
            ],
            [
             0.3333333333333333,
             "#9c179e"
            ],
            [
             0.4444444444444444,
             "#bd3786"
            ],
            [
             0.5555555555555556,
             "#d8576b"
            ],
            [
             0.6666666666666666,
             "#ed7953"
            ],
            [
             0.7777777777777778,
             "#fb9f3a"
            ],
            [
             0.8888888888888888,
             "#fdca26"
            ],
            [
             1,
             "#f0f921"
            ]
           ],
           "sequentialminus": [
            [
             0,
             "#0d0887"
            ],
            [
             0.1111111111111111,
             "#46039f"
            ],
            [
             0.2222222222222222,
             "#7201a8"
            ],
            [
             0.3333333333333333,
             "#9c179e"
            ],
            [
             0.4444444444444444,
             "#bd3786"
            ],
            [
             0.5555555555555556,
             "#d8576b"
            ],
            [
             0.6666666666666666,
             "#ed7953"
            ],
            [
             0.7777777777777778,
             "#fb9f3a"
            ],
            [
             0.8888888888888888,
             "#fdca26"
            ],
            [
             1,
             "#f0f921"
            ]
           ]
          },
          "colorway": [
           "#636efa",
           "#EF553B",
           "#00cc96",
           "#ab63fa",
           "#FFA15A",
           "#19d3f3",
           "#FF6692",
           "#B6E880",
           "#FF97FF",
           "#FECB52"
          ],
          "font": {
           "color": "#2a3f5f"
          },
          "geo": {
           "bgcolor": "white",
           "lakecolor": "white",
           "landcolor": "#E5ECF6",
           "showlakes": true,
           "showland": true,
           "subunitcolor": "white"
          },
          "hoverlabel": {
           "align": "left"
          },
          "hovermode": "closest",
          "mapbox": {
           "style": "light"
          },
          "paper_bgcolor": "white",
          "plot_bgcolor": "#E5ECF6",
          "polar": {
           "angularaxis": {
            "gridcolor": "white",
            "linecolor": "white",
            "ticks": ""
           },
           "bgcolor": "#E5ECF6",
           "radialaxis": {
            "gridcolor": "white",
            "linecolor": "white",
            "ticks": ""
           }
          },
          "scene": {
           "xaxis": {
            "backgroundcolor": "#E5ECF6",
            "gridcolor": "white",
            "gridwidth": 2,
            "linecolor": "white",
            "showbackground": true,
            "ticks": "",
            "zerolinecolor": "white"
           },
           "yaxis": {
            "backgroundcolor": "#E5ECF6",
            "gridcolor": "white",
            "gridwidth": 2,
            "linecolor": "white",
            "showbackground": true,
            "ticks": "",
            "zerolinecolor": "white"
           },
           "zaxis": {
            "backgroundcolor": "#E5ECF6",
            "gridcolor": "white",
            "gridwidth": 2,
            "linecolor": "white",
            "showbackground": true,
            "ticks": "",
            "zerolinecolor": "white"
           }
          },
          "shapedefaults": {
           "line": {
            "color": "#2a3f5f"
           }
          },
          "ternary": {
           "aaxis": {
            "gridcolor": "white",
            "linecolor": "white",
            "ticks": ""
           },
           "baxis": {
            "gridcolor": "white",
            "linecolor": "white",
            "ticks": ""
           },
           "bgcolor": "#E5ECF6",
           "caxis": {
            "gridcolor": "white",
            "linecolor": "white",
            "ticks": ""
           }
          },
          "title": {
           "x": 0.05
          },
          "xaxis": {
           "automargin": true,
           "gridcolor": "white",
           "linecolor": "white",
           "ticks": "",
           "title": {
            "standoff": 15
           },
           "zerolinecolor": "white",
           "zerolinewidth": 2
          },
          "yaxis": {
           "automargin": true,
           "gridcolor": "white",
           "linecolor": "white",
           "ticks": "",
           "title": {
            "standoff": 15
           },
           "zerolinecolor": "white",
           "zerolinewidth": 2
          }
         }
        },
        "title": {
         "text": "PCA Visualization of Question Categories"
        },
        "xaxis": {
         "anchor": "y",
         "domain": [
          0,
          1
         ],
         "title": {
          "text": "Principal Component 1"
         }
        },
        "yaxis": {
         "anchor": "x",
         "domain": [
          0,
          1
         ],
         "title": {
          "text": "Principal Component 2"
         }
        }
       }
      }
     },
     "metadata": {},
     "output_type": "display_data"
    }
   ],
   "source": [
    "from sklearn.decomposition import PCA\n",
    "import plotly.express as px\n",
    "import numpy as np\n",
    "\n",
    "# Apply PCA to Reduce Embedding Dimensions to 2D\n",
    "print(\"Applying PCA for 2D visualization...\")\n",
    "pca = PCA(n_components=2)\n",
    "X_pca = pca.fit_transform(X)\n",
    "\n",
    "# Prepare Data for Plotly Visualization\n",
    "category_names = list(label_mapping.keys())\n",
    "sentences = knowledge_questions + multimedia_questions + recommendation_questions + smalltalk\n",
    "\n",
    "# Create a DataFrame for easy plotting\n",
    "import pandas as pd\n",
    "pca_df = pd.DataFrame({\n",
    "    'PC1': X_pca[:, 0],\n",
    "    'PC2': X_pca[:, 1],\n",
    "    'Category': [category_names[label] for label in y],\n",
    "    'Sentence': sentences\n",
    "})\n",
    "\n",
    "# Plot using Plotly\n",
    "fig = px.scatter(\n",
    "    pca_df, x='PC1', y='PC2', color='Category', hover_data=['Sentence'],\n",
    "    title=\"PCA Visualization of Question Categories\"\n",
    ")\n",
    "fig.update_layout(\n",
    "    xaxis_title=\"Principal Component 1\",\n",
    "    yaxis_title=\"Principal Component 2\",\n",
    "    legend_title=\"Category\"\n",
    ")\n",
    "fig.show()\n"
   ]
  },
  {
   "cell_type": "markdown",
   "metadata": {},
   "source": [
    "# save the model"
   ]
  },
  {
   "cell_type": "code",
   "execution_count": 10,
   "metadata": {},
   "outputs": [
    {
     "data": {
      "text/plain": [
       "['question_classifier_model.joblib']"
      ]
     },
     "execution_count": 10,
     "metadata": {},
     "output_type": "execute_result"
    }
   ],
   "source": [
    "import joblib   \n",
    "\n",
    "# Save the model to disk\n",
    "filename = 'question_classifier_model.joblib'\n",
    "joblib.dump(classifier, filename)\n"
   ]
  }
 ],
 "metadata": {
  "kernelspec": {
   "display_name": "atai-bot",
   "language": "python",
   "name": "python3"
  },
  "language_info": {
   "codemirror_mode": {
    "name": "ipython",
    "version": 3
   },
   "file_extension": ".py",
   "mimetype": "text/x-python",
   "name": "python",
   "nbconvert_exporter": "python",
   "pygments_lexer": "ipython3",
   "version": "3.12.5"
  }
 },
 "nbformat": 4,
 "nbformat_minor": 2
}
