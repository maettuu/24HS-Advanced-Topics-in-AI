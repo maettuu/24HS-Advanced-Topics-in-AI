{
 "cells": [
  {
   "cell_type": "code",
   "execution_count": 5,
   "metadata": {
    "ExecuteTime": {
     "end_time": "2024-10-19T11:44:28.235130Z",
     "start_time": "2024-10-19T11:44:28.231027Z"
    }
   },
   "outputs": [],
   "source": [
    "# %pip install transformers[torch] datasets torch accelerate>=0.26.0"
   ]
  },
  {
   "cell_type": "code",
   "execution_count": 6,
   "metadata": {
    "ExecuteTime": {
     "end_time": "2024-10-19T11:44:39.406742Z",
     "start_time": "2024-10-19T11:44:28.240139Z"
    }
   },
   "outputs": [],
   "source": [
    "import torch\n",
    "from transformers import DistilBertTokenizerFast, DistilBertForTokenClassification"
   ]
  },
  {
   "cell_type": "code",
   "execution_count": 7,
   "metadata": {
    "ExecuteTime": {
     "end_time": "2024-10-19T11:44:39.710158Z",
     "start_time": "2024-10-19T11:44:39.662109Z"
    }
   },
   "outputs": [],
   "source": [
    "# Load the fine-tuned tokenizer and model\n",
    "def load_model_and_tokenizer(model_path):\n",
    "    tokenizer = DistilBertTokenizerFast.from_pretrained(model_path)\n",
    "    model = DistilBertForTokenClassification.from_pretrained(model_path)\n",
    "    return tokenizer, model\n",
    "\n",
    "# Define the label list (same as the training script)\n",
    "label_list = [\"O\",\"B-MOVIE\", \"I-MOVIE\", ]\n",
    "\n",
    "# Load tokenizer and model\n",
    "model_path = \"./custom_ner_model\"\n",
    "tokenizer, model = load_model_and_tokenizer(model_path)\n",
    "\n",
    "# Define the prediction function\n",
    "def predict(input_text, tokenizer, model, label_list):\n",
    "    # Tokenize the input\n",
    "    inputs = tokenizer(input_text, return_tensors=\"pt\", truncation=True, is_split_into_words=False)\n",
    "\n",
    "    # Run the model and get predictions\n",
    "    with torch.no_grad():  # Turn off gradient calculation for inference\n",
    "        outputs = model(**inputs)\n",
    "        logits = outputs.logits\n",
    "\n",
    "    # Get the predicted label for each token\n",
    "    predictions = torch.argmax(logits, dim=2)\n",
    "\n",
    "    # Convert token IDs to tokens\n",
    "    tokens = tokenizer.convert_ids_to_tokens(inputs['input_ids'][0])\n",
    "\n",
    "    # Map the predictions to labels\n",
    "    predicted_labels = [label_list[pred.item()] for pred in predictions[0]]\n",
    "\n",
    "    # Display the results\n",
    "    results = []\n",
    "    for token, label in zip(tokens, predicted_labels):\n",
    "        # Ignore special tokens such as [CLS] and [SEP]\n",
    "        if token.startswith(\"▁\") or token not in [\"[CLS]\", \"[SEP]\", \"[PAD]\"]:\n",
    "            results.append((token, label))\n",
    "\n",
    "    # Example formatted output\n",
    "    output_text = \"\"\n",
    "    for token, label in zip(tokens, predicted_labels):\n",
    "        # Skip special tokens\n",
    "        if token in [\"[CLS]\", \"[SEP]\", \"[PAD]\"]:\n",
    "            continue\n",
    "\n",
    "        if label != \"O\":\n",
    "            output_text += f\"[{token} ({label})] \"\n",
    "        else:\n",
    "            output_text += f\"{token} \"\n",
    "\n",
    "    return results, output_text"
   ]
  },
  {
   "cell_type": "code",
   "execution_count": 8,
   "metadata": {
    "ExecuteTime": {
     "end_time": "2024-10-19T11:44:39.906972Z",
     "start_time": "2024-10-19T11:44:39.735675Z"
    }
   },
   "outputs": [
    {
     "name": "stdout",
     "output_type": "stream",
     "text": [
      "who is the director of [star (B-MOVIE)] [wars (I-MOVIE)] \n",
      "who directed [star (B-MOVIE)] [wars (I-MOVIE)] \n",
      "who is the screenwriter of [the (B-MOVIE)] [movie (I-MOVIE)] [inception (I-MOVIE)] \n",
      "who wrote the screenplay for [inception (B-MOVIE)] \n",
      "who is [the (I-MOVIE)] director [of (I-MOVIE)] [star (B-MOVIE)] [wars (I-MOVIE)] [: (I-MOVIE)] [episode (I-MOVIE)] [vi (I-MOVIE)] [- (I-MOVIE)] [return (I-MOVIE)] [of (I-MOVIE)] [the (I-MOVIE)] [jedi (I-MOVIE)] \n",
      "who is the screenwriter of [the (B-MOVIE)] [masked (I-MOVIE)] [gang (I-MOVIE)] [: (I-MOVIE)] [cyprus (I-MOVIE)] \n",
      "when was [' (B-MOVIE)] [the (B-MOVIE)] [godfather (I-MOVIE)] [' (I-MOVIE)] released \n",
      "recommend movies like [nightmare (B-MOVIE)] [on (I-MOVIE)] [elm (I-MOVIE)] [street (I-MOVIE)] [, (I-MOVIE)] [friday (B-MOVIE)] [the (I-MOVIE)] [13th (I-MOVIE)] [, (I-MOVIE)] and [halloween (B-MOVIE)] \n"
     ]
    }
   ],
   "source": [
    "sentences = [\n",
    "    \"Who is the director of STAR WARS\",\n",
    "    \"Who directed star wars\",\n",
    "    \"Who is the screenwriter of the movie Inception\",\n",
    "    \"Who wrote the screenplay for Inception\",\n",
    "    # given\n",
    "    \"Who is the director of Star Wars: Episode VI - Return of the Jedi \",\n",
    "    \"Who is the screenwriter of The Masked Gang: Cyprus \",\n",
    "    \"When was 'The Godfather' released \",\n",
    "    \"Recommend movies like Nightmare on Elm Street, Friday the 13th, and Halloween\"\n",
    "]\n",
    "\n",
    "for sentence in sentences:\n",
    "    results, formatted_output = predict(sentence, tokenizer, model, label_list)\n",
    "    # print(\"\\nResults:\")\n",
    "    # for token, label in results:\n",
    "        # print(f\"{token}: {label}\")\n",
    "    print(formatted_output)\n"
   ]
  }
 ],
 "metadata": {
  "kernelspec": {
   "display_name": "atai-bot",
   "language": "python",
   "name": "python3"
  },
  "language_info": {
   "codemirror_mode": {
    "name": "ipython",
    "version": 3
   },
   "file_extension": ".py",
   "mimetype": "text/x-python",
   "name": "python",
   "nbconvert_exporter": "python",
   "pygments_lexer": "ipython3",
   "version": "3.12.5"
  }
 },
 "nbformat": 4,
 "nbformat_minor": 2
}
