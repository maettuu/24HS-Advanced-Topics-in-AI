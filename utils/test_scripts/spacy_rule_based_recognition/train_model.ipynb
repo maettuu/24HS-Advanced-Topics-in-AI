{
 "cells": [
  {
   "cell_type": "code",
   "execution_count": 8,
   "metadata": {},
   "outputs": [
    {
     "name": "stdout",
     "output_type": "stream",
     "text": [
      "Collecting thefuzz\n",
      "  Downloading thefuzz-0.22.1-py3-none-any.whl.metadata (3.9 kB)\n",
      "Collecting rapidfuzz<4.0.0,>=3.0.0 (from thefuzz)\n",
      "  Downloading rapidfuzz-3.10.0-cp312-cp312-win_amd64.whl.metadata (11 kB)\n",
      "Downloading thefuzz-0.22.1-py3-none-any.whl (8.2 kB)\n",
      "Downloading rapidfuzz-3.10.0-cp312-cp312-win_amd64.whl (1.6 MB)\n",
      "   ---------------------------------------- 0.0/1.6 MB ? eta -:--:--\n",
      "   ---------------------------------------- 0.0/1.6 MB ? eta -:--:--\n",
      "   ------ --------------------------------- 0.3/1.6 MB ? eta -:--:--\n",
      "   ------------- -------------------------- 0.5/1.6 MB 985.5 kB/s eta 0:00:02\n",
      "   ------------- -------------------------- 0.5/1.6 MB 985.5 kB/s eta 0:00:02\n",
      "   ------------------- -------------------- 0.8/1.6 MB 907.1 kB/s eta 0:00:01\n",
      "   -------------------------------- ------- 1.3/1.6 MB 1.1 MB/s eta 0:00:01\n",
      "   ---------------------------------------- 1.6/1.6 MB 1.2 MB/s eta 0:00:00\n",
      "Installing collected packages: rapidfuzz, thefuzz\n",
      "Successfully installed rapidfuzz-3.10.0 thefuzz-0.22.1\n",
      "Note: you may need to restart the kernel to use updated packages.\n"
     ]
    }
   ],
   "source": [
    "%pip install thefuzz"
   ]
  },
  {
   "cell_type": "code",
   "execution_count": 1,
   "metadata": {},
   "outputs": [],
   "source": [
    "# import labels and relationships from the json files\n",
    "import json\n",
    "with open('./../../useful_dataset/graph/unique_movies.json') as f:\n",
    "    file = json.load(f)\n",
    "    entities = file\n",
    "    # convert to lowercase\n",
    "    entities = [entity.lower() for entity in entities]\n",
    "\n",
    "with open('./../../useful_dataset/graph/unique_relationships.json.') as f:\n",
    "    file = json.load(f)\n",
    "    relations = file\n",
    "    # convert to lowercase\n",
    "    relations = [relation.lower() for relation in relations]\n",
    "\n",
    "with open('./../../useful_dataset/graph/unique_persons.json') as f:\n",
    "    file = json.load(f)\n",
    "    persons = file\n",
    "    # convert to lowercase\n",
    "    persons = [person.lower() for person in persons]"
   ]
  },
  {
   "cell_type": "code",
   "execution_count": 2,
   "metadata": {},
   "outputs": [],
   "source": [
    "import spacy\n",
    "from thefuzz import process\n",
    "\n",
    "# Step 2: Create the spaCy model and add the EntityRuler\n",
    "nlp = spacy.blank(\"en\")  # create an empty spaCy model\n",
    "ruler = nlp.add_pipe(\"entity_ruler\")  # add EntityRuler to the pipeline\n",
    "\n",
    "# Step 3: Create patterns for movies and relationships\n",
    "patterns = []\n",
    "\n",
    "# Add movie entities\n",
    "for movie in entities:\n",
    "    patterns.append({\"label\": \"movie\", \"pattern\": movie})\n",
    "\n",
    "# Add relationships (you could have relationships as separate labels)\n",
    "for relation in relations:\n",
    "    patterns.append({\"label\": \"relation\", \"pattern\": relation})\n",
    "\n",
    "for relation in persons:\n",
    "    patterns.append({\"label\": \"person\", \"pattern\": relation})\n",
    "\n",
    "# Step 4: Add the patterns to the ruler\n",
    "ruler.add_patterns(patterns)"
   ]
  },
  {
   "cell_type": "code",
   "execution_count": 3,
   "metadata": {},
   "outputs": [
    {
     "name": "stdout",
     "output_type": "stream",
     "text": [
      "Sentence: Who is the director of Inception\n",
      "{'movies': ['inception'], 'relations': ['director'], 'persons': []}\n",
      "\n",
      "Sentence: When was 'The Godfather' released\n",
      "{'movies': ['the godfather'], 'relations': [], 'persons': []}\n",
      "\n",
      "Sentence: Who is the director of 'The Godfather'\n",
      "{'movies': ['the godfather'], 'relations': ['director'], 'persons': []}\n",
      "\n",
      "Sentence: What is the genre of Inception\n",
      "{'movies': ['inception'], 'relations': ['genre'], 'persons': []}\n",
      "\n",
      "Sentence: Show me an Picture of Leonardo Di Cesare\n",
      "{'movies': ['lilies of the field'], 'relations': [], 'persons': ['leonardo di cesare']}\n",
      "\n"
     ]
    }
   ],
   "source": [
    "# Fallback Fuzzy Search if no entity is found by exact match\n",
    "def fuzzy_match_entity(input_text, labels):\n",
    "    # Use fuzzy matching to find the closest match to the input text from a list of labels\n",
    "    result = process.extractOne(input_text, labels)\n",
    "\n",
    "    if result is None:\n",
    "        return None\n",
    "    \n",
    "    match, score = result\n",
    "    return match if score > 10 else None  # Set a score threshold for matching (75 is common for good matches)\n",
    "\n",
    "# Function to get entities using spaCy and fallback to fuzzy search\n",
    "def get_entities_with_fuzzy_matching(text):\n",
    "    text = text.lower()\n",
    "    doc = nlp(text)\n",
    "    movies = []\n",
    "    relations = []\n",
    "    persons = []\n",
    "    \n",
    "    # Exact matching via spaCy\n",
    "    for ent in doc.ents:\n",
    "        if ent.label_ == \"movie\":\n",
    "            movies.append(ent.text)\n",
    "        elif ent.label_ == \"relation\":\n",
    "            relations.append(ent.text)\n",
    "        elif ent.label_ == \"person\":\n",
    "            persons.append(ent.text)\n",
    "        \n",
    "    \n",
    "    # Fallback to fuzzy matching if no exact matches are found\n",
    "    if not movies:  # If no movies were found\n",
    "        fuzzy_movie = fuzzy_match_entity(text, entities)\n",
    "        if fuzzy_movie:\n",
    "            movies.append(fuzzy_movie)\n",
    "    \n",
    "    if not relations:  # If no relations were found\n",
    "        fuzzy_relation = fuzzy_match_entity(text, relations)\n",
    "        if fuzzy_relation:\n",
    "            relations.append(fuzzy_relation)\n",
    "    \n",
    "    return {\"movies\": movies, \"relations\": relations, \"persons\": persons}\n",
    "\n",
    "# Test cases with fuzzy matching\n",
    "sentences = [\n",
    "    \"Who is the director of Inception\", \n",
    "    \"When was 'The Godfather' released\", \n",
    "    \"Who is the director of 'The Godfather'\" ,\n",
    "    \"What is the genre of Inception\",\n",
    "    \"Show me an Picture of Leonardo Di Cesare\"\n",
    "]\n",
    "\n",
    "for sentence in sentences:\n",
    "    print(f\"Sentence: {sentence}\")\n",
    "    found_entities = get_entities_with_fuzzy_matching(sentence)\n",
    "    print(found_entities)\n",
    "    print()"
   ]
  },
  {
   "cell_type": "code",
   "execution_count": 4,
   "metadata": {},
   "outputs": [],
   "source": [
    "# Save the model to disk so it can be reused\n",
    "nlp.to_disk(\"movie_relation_ner_model\")"
   ]
  }
 ],
 "metadata": {
  "kernelspec": {
   "display_name": "atai-bot",
   "language": "python",
   "name": "python3"
  },
  "language_info": {
   "codemirror_mode": {
    "name": "ipython",
    "version": 3
   },
   "file_extension": ".py",
   "mimetype": "text/x-python",
   "name": "python",
   "nbconvert_exporter": "python",
   "pygments_lexer": "ipython3",
   "version": "3.12.5"
  }
 },
 "nbformat": 4,
 "nbformat_minor": 2
}
