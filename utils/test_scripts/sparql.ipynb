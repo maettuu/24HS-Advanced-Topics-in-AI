{
 "cells": [
  {
   "cell_type": "code",
   "execution_count": 1,
   "metadata": {},
   "outputs": [],
   "source": [
    "# set app as default directory to address imports\n",
    "import os\n",
    "import sys\n",
    "sys.path.append(os.path.join(os.getcwd(), './../../'))\n",
    "\n",
    "#activate autoreload to easier test classes\n",
    "%load_ext autoreload\n",
    "%autoreload 2"
   ]
  },
  {
   "cell_type": "code",
   "execution_count": 2,
   "metadata": {},
   "outputs": [
    {
     "name": "stdout",
     "output_type": "stream",
     "text": [
      "Metadata loaded successfully from JSON files.\n",
      "Initializing SPARQLGraph\n",
      "Graph loaded with 94107 triples after 0:00:09.303158\n"
     ]
    }
   ],
   "source": [
    "from app.services.sparql_graph import SPARQLGraph\n",
    "from app.config.enums import Environment\n",
    "graph = SPARQLGraph(Environment.DEV, False)"
   ]
  },
  {
   "cell_type": "code",
   "execution_count": 6,
   "metadata": {},
   "outputs": [
    {
     "data": {
      "text/plain": [
       "'http://www.wikidata.org/prop/direct/P57'"
      ]
     },
     "execution_count": 6,
     "metadata": {},
     "output_type": "execute_result"
    }
   ],
   "source": [
    "graph.get_rel_for_lbl(\"director\")"
   ]
  },
  {
   "cell_type": "code",
   "execution_count": 7,
   "metadata": {},
   "outputs": [
    {
     "data": {
      "text/plain": [
       "'director'"
      ]
     },
     "execution_count": 7,
     "metadata": {},
     "output_type": "execute_result"
    }
   ],
   "source": [
    "graph.get_lbl_for_rel(\"http://www.wikidata.org/prop/direct/P57\")"
   ]
  },
  {
   "cell_type": "code",
   "execution_count": 8,
   "metadata": {},
   "outputs": [
    {
     "data": {
      "text/plain": [
       "'http://www.wikidata.org/entity/Q1001943'"
      ]
     },
     "execution_count": 8,
     "metadata": {},
     "output_type": "execute_result"
    }
   ],
   "source": [
    "graph.get_ent_for_lbl(\"Buffalo Bill and the Indians, or Sitting Bull's History Lesson\")"
   ]
  },
  {
   "cell_type": "code",
   "execution_count": 37,
   "metadata": {},
   "outputs": [],
   "source": [
    "queries = ['''\n",
    "PREFIX ddis: <http://ddis.ch/atai/>   \n",
    "\n",
    "PREFIX wd: <http://www.wikidata.org/entity/>   \n",
    "\n",
    "PREFIX wdt: <http://www.wikidata.org/prop/direct/>   \n",
    "\n",
    "PREFIX schema: <http://schema.org/>   \n",
    "\n",
    "  \n",
    "\n",
    "SELECT ?lbl WHERE {  \n",
    "\n",
    "    ?movie wdt:P31 wd:Q11424 .  \n",
    "\n",
    "    ?movie ddis:rating ?rating .  \n",
    "\n",
    "    ?movie rdfs:label ?lbl .  \n",
    "\n",
    "}  \n",
    "\n",
    "ORDER BY DESC(?rating)   \n",
    "\n",
    " LIMIT 10000 ''',\n",
    "'''\n",
    "PREFIX ddis: <http://ddis.ch/atai/>   \n",
    "\n",
    "PREFIX wd: <http://www.wikidata.org/entity/>   \n",
    "\n",
    "PREFIX wdt: <http://www.wikidata.org/prop/direct/>   \n",
    "\n",
    "PREFIX schema: <http://schema.org/>   \n",
    "\n",
    "  \n",
    "\n",
    "SELECT ?lbl WHERE {  \n",
    "\n",
    "    ?movie wdt:P31 wd:Q11424 .  \n",
    "\n",
    "    ?movie ddis:rating ?rating .  \n",
    "\n",
    "    ?movie rdfs:label ?lbl .  \n",
    "\n",
    "}  \n",
    "\n",
    "ORDER BY ASC(?rating)   \n",
    "\n",
    "LIMIT 5000\n",
    "''',\n",
    "'''\n",
    "PREFIX ddis: <http://ddis.ch/atai/>   \n",
    "\n",
    "PREFIX wd: <http://www.wikidata.org/entity/>   \n",
    "\n",
    "PREFIX wdt: <http://www.wikidata.org/prop/direct/>   \n",
    "\n",
    "PREFIX schema: <http://schema.org/>   \n",
    "\n",
    "  \n",
    "\n",
    "SELECT ?director WHERE {  \n",
    "\n",
    "    ?movie rdfs:label \"Apocalypse Now\" .  \n",
    "\n",
    "        ?movie wdt:P57 ?directorItem . \n",
    "\n",
    "    ?directorItem rdfs:label ?director . \n",
    "\n",
    "}  \n",
    "\n",
    "LIMIT 5000\n",
    "'''\n",
    "]"
   ]
  },
  {
   "cell_type": "code",
   "execution_count": 41,
   "metadata": {},
   "outputs": [
    {
     "data": {
      "text/plain": [
       "''"
      ]
     },
     "execution_count": 41,
     "metadata": {},
     "output_type": "execute_result"
    }
   ],
   "source": [
    "answering_service.get_response(queries[2])"
   ]
  }
 ],
 "metadata": {
  "kernelspec": {
   "display_name": "atai-bot",
   "language": "python",
   "name": "python3"
  },
  "language_info": {
   "codemirror_mode": {
    "name": "ipython",
    "version": 3
   },
   "file_extension": ".py",
   "mimetype": "text/x-python",
   "name": "python",
   "nbconvert_exporter": "python",
   "pygments_lexer": "ipython3",
   "version": "3.12.5"
  }
 },
 "nbformat": 4,
 "nbformat_minor": 2
}
