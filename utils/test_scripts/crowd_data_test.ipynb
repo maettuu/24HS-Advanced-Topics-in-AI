{
 "cells": [
  {
   "cell_type": "markdown",
   "metadata": {},
   "source": [
    "# Olat examples\n",
    "Q1410031 (Tom Meets Zizou) - The publication date of Tom Meets Zizou is 2011-01-01. \n",
    "[Crowd, inter-rater agreement 0.040, The answer distribution for this specific task was 3 reject votes, 0 support votes] \n",
    "- in dataset 5 times\n",
    "these 2 workers must go away: LPQMUDT6729 (approval rate is 40%) and ZZHL098SA43 (20 mal for 10s)\\\n",
    "\n",
    "Q171300 (The Princess and the Frog)\n",
    "The box office of The Princess and the Frog is 267000000. \n",
    "[Crowd, inter-rater agreement 0.236, The answer distribution for this specific task was 2 support votes, 1 reject vote] \n",
    "- in dataset 5 times\n",
    "- 2 reject votes (2134U7HKDMM and 1726JMZQW) - one must away (most likely 2134U7HKDMM - worktime 2s 21 times)\n",
    "- 3 support votes (one must away): 2133ICYWE97, 928UJANWZ12, 2133U7HKDLO (this has only 40% approval rate)\n",
    "\n",
    "\n",
    "Q223596 X-Men: First Class? \n",
    "The executive producer is Sheryl Lee Ralph. \n",
    "[Crowd, inter-rater agreement 0.199, The answer distribution for this specific task was 2 support votes, 1 reject votes] \n",
    "- in dataset 5 times\n",
    "- 2 reject votes: HHCKW1111 and WWHL098SA43 (WWHL098SA43 - 2s 10 times)\n",
    "- 3 support votes: AALKMII97, GGUI83657S and QZAHIFT8263 (only 40% approval on another tasks)"
   ]
  },
  {
   "cell_type": "code",
   "execution_count": 1,
   "metadata": {},
   "outputs": [
    {
     "name": "stdout",
     "output_type": "stream",
     "text": [
      "(305, 16)\n"
     ]
    },
    {
     "data": {
      "text/html": [
       "<div>\n",
       "<style scoped>\n",
       "    .dataframe tbody tr th:only-of-type {\n",
       "        vertical-align: middle;\n",
       "    }\n",
       "\n",
       "    .dataframe tbody tr th {\n",
       "        vertical-align: top;\n",
       "    }\n",
       "\n",
       "    .dataframe thead th {\n",
       "        text-align: right;\n",
       "    }\n",
       "</style>\n",
       "<table border=\"1\" class=\"dataframe\">\n",
       "  <thead>\n",
       "    <tr style=\"text-align: right;\">\n",
       "      <th></th>\n",
       "      <th>HITId</th>\n",
       "      <th>HITTypeId</th>\n",
       "      <th>Title</th>\n",
       "      <th>Reward</th>\n",
       "      <th>AssignmentId</th>\n",
       "      <th>WorkerId</th>\n",
       "      <th>AssignmentStatus</th>\n",
       "      <th>WorkTimeInSeconds</th>\n",
       "      <th>LifetimeApprovalRate</th>\n",
       "      <th>Input1ID</th>\n",
       "      <th>Input2ID</th>\n",
       "      <th>Input3ID</th>\n",
       "      <th>AnswerID</th>\n",
       "      <th>AnswerLabel</th>\n",
       "      <th>FixPosition</th>\n",
       "      <th>FixValue</th>\n",
       "    </tr>\n",
       "  </thead>\n",
       "  <tbody>\n",
       "    <tr>\n",
       "      <th>0</th>\n",
       "      <td>1</td>\n",
       "      <td>7QT</td>\n",
       "      <td>Is this triple correct or incorrect?</td>\n",
       "      <td>$0.50</td>\n",
       "      <td>1</td>\n",
       "      <td>2133ICYWE97</td>\n",
       "      <td>Submitted</td>\n",
       "      <td>60</td>\n",
       "      <td>99%</td>\n",
       "      <td>wd:Q11621</td>\n",
       "      <td>wdt:P2142</td>\n",
       "      <td>792910554</td>\n",
       "      <td>1.0</td>\n",
       "      <td>CORRECT</td>\n",
       "      <td>NaN</td>\n",
       "      <td>NaN</td>\n",
       "    </tr>\n",
       "    <tr>\n",
       "      <th>1</th>\n",
       "      <td>1</td>\n",
       "      <td>7QT</td>\n",
       "      <td>Is this triple correct or incorrect?</td>\n",
       "      <td>$0.50</td>\n",
       "      <td>2</td>\n",
       "      <td>2133U7HKDLO</td>\n",
       "      <td>Submitted</td>\n",
       "      <td>40</td>\n",
       "      <td>40%</td>\n",
       "      <td>wd:Q11621</td>\n",
       "      <td>wdt:P2142</td>\n",
       "      <td>792910554</td>\n",
       "      <td>1.0</td>\n",
       "      <td>CORRECT</td>\n",
       "      <td>yes</td>\n",
       "      <td>yes</td>\n",
       "    </tr>\n",
       "    <tr>\n",
       "      <th>2</th>\n",
       "      <td>1</td>\n",
       "      <td>7QT</td>\n",
       "      <td>Is this triple correct or incorrect?</td>\n",
       "      <td>$0.50</td>\n",
       "      <td>3</td>\n",
       "      <td>928UJANWZ12</td>\n",
       "      <td>Submitted</td>\n",
       "      <td>50</td>\n",
       "      <td>98%</td>\n",
       "      <td>wd:Q11621</td>\n",
       "      <td>wdt:P2142</td>\n",
       "      <td>792910554</td>\n",
       "      <td>2.0</td>\n",
       "      <td>INCORRECT</td>\n",
       "      <td>NaN</td>\n",
       "      <td>NaN</td>\n",
       "    </tr>\n",
       "    <tr>\n",
       "      <th>3</th>\n",
       "      <td>1</td>\n",
       "      <td>7QT</td>\n",
       "      <td>Is this triple correct or incorrect?</td>\n",
       "      <td>$0.50</td>\n",
       "      <td>4</td>\n",
       "      <td>1726JMZQW</td>\n",
       "      <td>Submitted</td>\n",
       "      <td>80</td>\n",
       "      <td>70%</td>\n",
       "      <td>wd:Q11621</td>\n",
       "      <td>wdt:P2142</td>\n",
       "      <td>792910554</td>\n",
       "      <td>1.0</td>\n",
       "      <td>CORRECT</td>\n",
       "      <td>NaN</td>\n",
       "      <td>NaN</td>\n",
       "    </tr>\n",
       "    <tr>\n",
       "      <th>4</th>\n",
       "      <td>1</td>\n",
       "      <td>7QT</td>\n",
       "      <td>Is this triple correct or incorrect?</td>\n",
       "      <td>$0.50</td>\n",
       "      <td>5</td>\n",
       "      <td>2134U7HKDMM</td>\n",
       "      <td>Submitted</td>\n",
       "      <td>2</td>\n",
       "      <td>70%</td>\n",
       "      <td>wd:Q11621</td>\n",
       "      <td>wdt:P2142</td>\n",
       "      <td>792910554</td>\n",
       "      <td>1.0</td>\n",
       "      <td>CORRECT</td>\n",
       "      <td>NaN</td>\n",
       "      <td>NaN</td>\n",
       "    </tr>\n",
       "  </tbody>\n",
       "</table>\n",
       "</div>"
      ],
      "text/plain": [
       "   HITId HITTypeId                                 Title Reward  AssignmentId  \\\n",
       "0      1       7QT  Is this triple correct or incorrect?  $0.50             1   \n",
       "1      1       7QT  Is this triple correct or incorrect?  $0.50             2   \n",
       "2      1       7QT  Is this triple correct or incorrect?  $0.50             3   \n",
       "3      1       7QT  Is this triple correct or incorrect?  $0.50             4   \n",
       "4      1       7QT  Is this triple correct or incorrect?  $0.50             5   \n",
       "\n",
       "      WorkerId AssignmentStatus  WorkTimeInSeconds LifetimeApprovalRate  \\\n",
       "0  2133ICYWE97        Submitted                 60                  99%   \n",
       "1  2133U7HKDLO        Submitted                 40                  40%   \n",
       "2  928UJANWZ12        Submitted                 50                  98%   \n",
       "3    1726JMZQW        Submitted                 80                  70%   \n",
       "4  2134U7HKDMM        Submitted                  2                  70%   \n",
       "\n",
       "    Input1ID   Input2ID   Input3ID  AnswerID AnswerLabel FixPosition FixValue  \n",
       "0  wd:Q11621  wdt:P2142  792910554       1.0     CORRECT         NaN      NaN  \n",
       "1  wd:Q11621  wdt:P2142  792910554       1.0     CORRECT         yes      yes  \n",
       "2  wd:Q11621  wdt:P2142  792910554       2.0   INCORRECT         NaN      NaN  \n",
       "3  wd:Q11621  wdt:P2142  792910554       1.0     CORRECT         NaN      NaN  \n",
       "4  wd:Q11621  wdt:P2142  792910554       1.0     CORRECT         NaN      NaN  "
      ]
     },
     "execution_count": 1,
     "metadata": {},
     "output_type": "execute_result"
    }
   ],
   "source": [
    "import pandas as pd\n",
    "\n",
    "# Load the TSV file into a DataFrame\n",
    "path = './../too_large_dataset/crowd_data/crowd_data_olat_P344FullstopCorrected.tsv'\n",
    "data = pd.read_csv(path, sep='\\t')\n",
    "\n",
    "# Display the first few rows to understand the structure and content of the file\n",
    "# print the size\n",
    "print(data.shape)\n",
    "data.head()"
   ]
  },
  {
   "cell_type": "markdown",
   "metadata": {},
   "source": [
    "# Cleaning"
   ]
  },
  {
   "cell_type": "code",
   "execution_count": 2,
   "metadata": {},
   "outputs": [
    {
     "name": "stdout",
     "output_type": "stream",
     "text": [
      "(244, 16)\n"
     ]
    }
   ],
   "source": [
    "# remove all where the Lifetime approval rate is > 50%\n",
    "# you need to convert 50% in the value into a float or int\n",
    "without_good_approval_rate = data.copy()\n",
    "without_good_approval_rate['LifetimeApprovalRate'] = without_good_approval_rate['LifetimeApprovalRate'].str.rstrip('%').astype('float')\n",
    "without_good_approval_rate = without_good_approval_rate[without_good_approval_rate['LifetimeApprovalRate'] >= 50]\n",
    "print(without_good_approval_rate.shape)"
   ]
  },
  {
   "cell_type": "code",
   "execution_count": 3,
   "metadata": {},
   "outputs": [
    {
     "name": "stdout",
     "output_type": "stream",
     "text": [
      "Index([], dtype='object', name='WorkerId')\n",
      "(244, 16)\n"
     ]
    },
    {
     "data": {
      "text/html": [
       "<div>\n",
       "<style scoped>\n",
       "    .dataframe tbody tr th:only-of-type {\n",
       "        vertical-align: middle;\n",
       "    }\n",
       "\n",
       "    .dataframe tbody tr th {\n",
       "        vertical-align: top;\n",
       "    }\n",
       "\n",
       "    .dataframe thead th {\n",
       "        text-align: right;\n",
       "    }\n",
       "</style>\n",
       "<table border=\"1\" class=\"dataframe\">\n",
       "  <thead>\n",
       "    <tr style=\"text-align: right;\">\n",
       "      <th></th>\n",
       "      <th>HITId</th>\n",
       "      <th>HITTypeId</th>\n",
       "      <th>Title</th>\n",
       "      <th>Reward</th>\n",
       "      <th>AssignmentId</th>\n",
       "      <th>WorkerId</th>\n",
       "      <th>AssignmentStatus</th>\n",
       "      <th>WorkTimeInSeconds</th>\n",
       "      <th>LifetimeApprovalRate</th>\n",
       "      <th>Input1ID</th>\n",
       "      <th>Input2ID</th>\n",
       "      <th>Input3ID</th>\n",
       "      <th>AnswerID</th>\n",
       "      <th>AnswerLabel</th>\n",
       "      <th>FixPosition</th>\n",
       "      <th>FixValue</th>\n",
       "    </tr>\n",
       "  </thead>\n",
       "  <tbody>\n",
       "    <tr>\n",
       "      <th>0</th>\n",
       "      <td>1</td>\n",
       "      <td>7QT</td>\n",
       "      <td>Is this triple correct or incorrect?</td>\n",
       "      <td>$0.50</td>\n",
       "      <td>1</td>\n",
       "      <td>2133ICYWE97</td>\n",
       "      <td>Submitted</td>\n",
       "      <td>60</td>\n",
       "      <td>99.0</td>\n",
       "      <td>wd:Q11621</td>\n",
       "      <td>wdt:P2142</td>\n",
       "      <td>792910554</td>\n",
       "      <td>1.0</td>\n",
       "      <td>CORRECT</td>\n",
       "      <td>NaN</td>\n",
       "      <td>NaN</td>\n",
       "    </tr>\n",
       "    <tr>\n",
       "      <th>2</th>\n",
       "      <td>1</td>\n",
       "      <td>7QT</td>\n",
       "      <td>Is this triple correct or incorrect?</td>\n",
       "      <td>$0.50</td>\n",
       "      <td>3</td>\n",
       "      <td>928UJANWZ12</td>\n",
       "      <td>Submitted</td>\n",
       "      <td>50</td>\n",
       "      <td>98.0</td>\n",
       "      <td>wd:Q11621</td>\n",
       "      <td>wdt:P2142</td>\n",
       "      <td>792910554</td>\n",
       "      <td>2.0</td>\n",
       "      <td>INCORRECT</td>\n",
       "      <td>NaN</td>\n",
       "      <td>NaN</td>\n",
       "    </tr>\n",
       "    <tr>\n",
       "      <th>3</th>\n",
       "      <td>1</td>\n",
       "      <td>7QT</td>\n",
       "      <td>Is this triple correct or incorrect?</td>\n",
       "      <td>$0.50</td>\n",
       "      <td>4</td>\n",
       "      <td>1726JMZQW</td>\n",
       "      <td>Submitted</td>\n",
       "      <td>80</td>\n",
       "      <td>70.0</td>\n",
       "      <td>wd:Q11621</td>\n",
       "      <td>wdt:P2142</td>\n",
       "      <td>792910554</td>\n",
       "      <td>1.0</td>\n",
       "      <td>CORRECT</td>\n",
       "      <td>NaN</td>\n",
       "      <td>NaN</td>\n",
       "    </tr>\n",
       "    <tr>\n",
       "      <th>4</th>\n",
       "      <td>1</td>\n",
       "      <td>7QT</td>\n",
       "      <td>Is this triple correct or incorrect?</td>\n",
       "      <td>$0.50</td>\n",
       "      <td>5</td>\n",
       "      <td>2134U7HKDMM</td>\n",
       "      <td>Submitted</td>\n",
       "      <td>2</td>\n",
       "      <td>70.0</td>\n",
       "      <td>wd:Q11621</td>\n",
       "      <td>wdt:P2142</td>\n",
       "      <td>792910554</td>\n",
       "      <td>1.0</td>\n",
       "      <td>CORRECT</td>\n",
       "      <td>NaN</td>\n",
       "      <td>NaN</td>\n",
       "    </tr>\n",
       "    <tr>\n",
       "      <th>5</th>\n",
       "      <td>2</td>\n",
       "      <td>7QT</td>\n",
       "      <td>Is this triple correct or incorrect?</td>\n",
       "      <td>$0.50</td>\n",
       "      <td>6</td>\n",
       "      <td>2134U7HKDMM</td>\n",
       "      <td>Submitted</td>\n",
       "      <td>2</td>\n",
       "      <td>70.0</td>\n",
       "      <td>wd:Q603545</td>\n",
       "      <td>wdt:P2142</td>\n",
       "      <td>4300000</td>\n",
       "      <td>2.0</td>\n",
       "      <td>INCORRECT</td>\n",
       "      <td>NaN</td>\n",
       "      <td>NaN</td>\n",
       "    </tr>\n",
       "  </tbody>\n",
       "</table>\n",
       "</div>"
      ],
      "text/plain": [
       "   HITId HITTypeId                                 Title Reward  AssignmentId  \\\n",
       "0      1       7QT  Is this triple correct or incorrect?  $0.50             1   \n",
       "2      1       7QT  Is this triple correct or incorrect?  $0.50             3   \n",
       "3      1       7QT  Is this triple correct or incorrect?  $0.50             4   \n",
       "4      1       7QT  Is this triple correct or incorrect?  $0.50             5   \n",
       "5      2       7QT  Is this triple correct or incorrect?  $0.50             6   \n",
       "\n",
       "      WorkerId AssignmentStatus  WorkTimeInSeconds  LifetimeApprovalRate  \\\n",
       "0  2133ICYWE97        Submitted                 60                  99.0   \n",
       "2  928UJANWZ12        Submitted                 50                  98.0   \n",
       "3    1726JMZQW        Submitted                 80                  70.0   \n",
       "4  2134U7HKDMM        Submitted                  2                  70.0   \n",
       "5  2134U7HKDMM        Submitted                  2                  70.0   \n",
       "\n",
       "     Input1ID   Input2ID   Input3ID  AnswerID AnswerLabel FixPosition FixValue  \n",
       "0   wd:Q11621  wdt:P2142  792910554       1.0     CORRECT         NaN      NaN  \n",
       "2   wd:Q11621  wdt:P2142  792910554       2.0   INCORRECT         NaN      NaN  \n",
       "3   wd:Q11621  wdt:P2142  792910554       1.0     CORRECT         NaN      NaN  \n",
       "4   wd:Q11621  wdt:P2142  792910554       1.0     CORRECT         NaN      NaN  \n",
       "5  wd:Q603545  wdt:P2142    4300000       2.0   INCORRECT         NaN      NaN  "
      ]
     },
     "execution_count": 3,
     "metadata": {},
     "output_type": "execute_result"
    }
   ],
   "source": [
    "# remove all of that return consistent data\n",
    "consistent_workers = without_good_approval_rate.groupby('WorkerId')['AnswerLabel'].nunique()\n",
    "malicious_workers = consistent_workers[consistent_workers == 1].index\n",
    "print(malicious_workers)\n",
    "filtered_data = without_good_approval_rate[~without_good_approval_rate['WorkerId'].isin(malicious_workers)]\n",
    "print(filtered_data.shape)\n",
    "filtered_data.head(5)"
   ]
  },
  {
   "cell_type": "code",
   "execution_count": 4,
   "metadata": {},
   "outputs": [
    {
     "data": {
      "application/vnd.plotly.v1+json": {
       "config": {
        "plotlyServerURL": "https://plot.ly"
       },
       "data": [
        {
         "hovertemplate": "Worker ID=%{x}<br>Work Time (Seconds)=%{y}<br>Number of Points=%{marker.size}<extra></extra>",
         "legendgroup": "",
         "marker": {
          "color": "#636efa",
          "size": [
           5,
           3,
           1,
           9,
           3,
           5,
           13,
           3,
           21,
           5,
           3,
           3,
           1,
           9,
           20,
           1,
           1,
           2,
           1,
           13,
           1,
           1,
           40,
           1,
           1,
           1,
           1,
           1,
           32,
           1,
           1,
           1,
           20,
           20
          ],
          "sizemode": "area",
          "sizeref": 0.1,
          "symbol": "circle"
         },
         "mode": "markers",
         "name": "",
         "orientation": "v",
         "showlegend": false,
         "type": "scatter",
         "x": [
          "1726JMZQW",
          "1726JMZQW",
          "1726JMZQW",
          "1726JMZQW",
          "1726JMZQW",
          "2133ICYWE97",
          "2133ICYWE97",
          "2133ICYWE97",
          "2134U7HKDMM",
          "928UJANWZ12",
          "928UJANWZ12",
          "928UJANWZ12",
          "928UJANWZ12",
          "928UJANWZ12",
          "AALKMII97",
          "AALKMII98",
          "AALKMII98",
          "AALKMII98",
          "AALKMII98",
          "AALKMII98",
          "AALKMII98",
          "AALKMII98",
          "GGUI83657S",
          "HHCKW1111",
          "HHCKW1111",
          "HHCKW1111",
          "HHCKW1111",
          "HHCKW1111",
          "HHCKW1111",
          "HHCKW1111",
          "HHCKW1111",
          "HHCKW1111",
          "WWHL098SA43",
          "ZZHL098SA43"
         ],
         "xaxis": "x",
         "y": [
          80,
          90,
          229,
          240,
          300,
          60,
          120,
          140,
          2,
          50,
          60,
          80,
          236,
          240,
          240,
          235,
          236,
          237,
          238,
          240,
          241,
          337,
          120,
          188,
          189,
          191,
          198,
          199,
          200,
          202,
          203,
          298,
          10,
          2
         ],
         "yaxis": "y"
        }
       ],
       "layout": {
        "legend": {
         "itemsizing": "constant",
         "tracegroupgap": 0
        },
        "template": {
         "data": {
          "bar": [
           {
            "error_x": {
             "color": "#2a3f5f"
            },
            "error_y": {
             "color": "#2a3f5f"
            },
            "marker": {
             "line": {
              "color": "white",
              "width": 0.5
             },
             "pattern": {
              "fillmode": "overlay",
              "size": 10,
              "solidity": 0.2
             }
            },
            "type": "bar"
           }
          ],
          "barpolar": [
           {
            "marker": {
             "line": {
              "color": "white",
              "width": 0.5
             },
             "pattern": {
              "fillmode": "overlay",
              "size": 10,
              "solidity": 0.2
             }
            },
            "type": "barpolar"
           }
          ],
          "carpet": [
           {
            "aaxis": {
             "endlinecolor": "#2a3f5f",
             "gridcolor": "#C8D4E3",
             "linecolor": "#C8D4E3",
             "minorgridcolor": "#C8D4E3",
             "startlinecolor": "#2a3f5f"
            },
            "baxis": {
             "endlinecolor": "#2a3f5f",
             "gridcolor": "#C8D4E3",
             "linecolor": "#C8D4E3",
             "minorgridcolor": "#C8D4E3",
             "startlinecolor": "#2a3f5f"
            },
            "type": "carpet"
           }
          ],
          "choropleth": [
           {
            "colorbar": {
             "outlinewidth": 0,
             "ticks": ""
            },
            "type": "choropleth"
           }
          ],
          "contour": [
           {
            "colorbar": {
             "outlinewidth": 0,
             "ticks": ""
            },
            "colorscale": [
             [
              0,
              "#0d0887"
             ],
             [
              0.1111111111111111,
              "#46039f"
             ],
             [
              0.2222222222222222,
              "#7201a8"
             ],
             [
              0.3333333333333333,
              "#9c179e"
             ],
             [
              0.4444444444444444,
              "#bd3786"
             ],
             [
              0.5555555555555556,
              "#d8576b"
             ],
             [
              0.6666666666666666,
              "#ed7953"
             ],
             [
              0.7777777777777778,
              "#fb9f3a"
             ],
             [
              0.8888888888888888,
              "#fdca26"
             ],
             [
              1,
              "#f0f921"
             ]
            ],
            "type": "contour"
           }
          ],
          "contourcarpet": [
           {
            "colorbar": {
             "outlinewidth": 0,
             "ticks": ""
            },
            "type": "contourcarpet"
           }
          ],
          "heatmap": [
           {
            "colorbar": {
             "outlinewidth": 0,
             "ticks": ""
            },
            "colorscale": [
             [
              0,
              "#0d0887"
             ],
             [
              0.1111111111111111,
              "#46039f"
             ],
             [
              0.2222222222222222,
              "#7201a8"
             ],
             [
              0.3333333333333333,
              "#9c179e"
             ],
             [
              0.4444444444444444,
              "#bd3786"
             ],
             [
              0.5555555555555556,
              "#d8576b"
             ],
             [
              0.6666666666666666,
              "#ed7953"
             ],
             [
              0.7777777777777778,
              "#fb9f3a"
             ],
             [
              0.8888888888888888,
              "#fdca26"
             ],
             [
              1,
              "#f0f921"
             ]
            ],
            "type": "heatmap"
           }
          ],
          "heatmapgl": [
           {
            "colorbar": {
             "outlinewidth": 0,
             "ticks": ""
            },
            "colorscale": [
             [
              0,
              "#0d0887"
             ],
             [
              0.1111111111111111,
              "#46039f"
             ],
             [
              0.2222222222222222,
              "#7201a8"
             ],
             [
              0.3333333333333333,
              "#9c179e"
             ],
             [
              0.4444444444444444,
              "#bd3786"
             ],
             [
              0.5555555555555556,
              "#d8576b"
             ],
             [
              0.6666666666666666,
              "#ed7953"
             ],
             [
              0.7777777777777778,
              "#fb9f3a"
             ],
             [
              0.8888888888888888,
              "#fdca26"
             ],
             [
              1,
              "#f0f921"
             ]
            ],
            "type": "heatmapgl"
           }
          ],
          "histogram": [
           {
            "marker": {
             "pattern": {
              "fillmode": "overlay",
              "size": 10,
              "solidity": 0.2
             }
            },
            "type": "histogram"
           }
          ],
          "histogram2d": [
           {
            "colorbar": {
             "outlinewidth": 0,
             "ticks": ""
            },
            "colorscale": [
             [
              0,
              "#0d0887"
             ],
             [
              0.1111111111111111,
              "#46039f"
             ],
             [
              0.2222222222222222,
              "#7201a8"
             ],
             [
              0.3333333333333333,
              "#9c179e"
             ],
             [
              0.4444444444444444,
              "#bd3786"
             ],
             [
              0.5555555555555556,
              "#d8576b"
             ],
             [
              0.6666666666666666,
              "#ed7953"
             ],
             [
              0.7777777777777778,
              "#fb9f3a"
             ],
             [
              0.8888888888888888,
              "#fdca26"
             ],
             [
              1,
              "#f0f921"
             ]
            ],
            "type": "histogram2d"
           }
          ],
          "histogram2dcontour": [
           {
            "colorbar": {
             "outlinewidth": 0,
             "ticks": ""
            },
            "colorscale": [
             [
              0,
              "#0d0887"
             ],
             [
              0.1111111111111111,
              "#46039f"
             ],
             [
              0.2222222222222222,
              "#7201a8"
             ],
             [
              0.3333333333333333,
              "#9c179e"
             ],
             [
              0.4444444444444444,
              "#bd3786"
             ],
             [
              0.5555555555555556,
              "#d8576b"
             ],
             [
              0.6666666666666666,
              "#ed7953"
             ],
             [
              0.7777777777777778,
              "#fb9f3a"
             ],
             [
              0.8888888888888888,
              "#fdca26"
             ],
             [
              1,
              "#f0f921"
             ]
            ],
            "type": "histogram2dcontour"
           }
          ],
          "mesh3d": [
           {
            "colorbar": {
             "outlinewidth": 0,
             "ticks": ""
            },
            "type": "mesh3d"
           }
          ],
          "parcoords": [
           {
            "line": {
             "colorbar": {
              "outlinewidth": 0,
              "ticks": ""
             }
            },
            "type": "parcoords"
           }
          ],
          "pie": [
           {
            "automargin": true,
            "type": "pie"
           }
          ],
          "scatter": [
           {
            "fillpattern": {
             "fillmode": "overlay",
             "size": 10,
             "solidity": 0.2
            },
            "type": "scatter"
           }
          ],
          "scatter3d": [
           {
            "line": {
             "colorbar": {
              "outlinewidth": 0,
              "ticks": ""
             }
            },
            "marker": {
             "colorbar": {
              "outlinewidth": 0,
              "ticks": ""
             }
            },
            "type": "scatter3d"
           }
          ],
          "scattercarpet": [
           {
            "marker": {
             "colorbar": {
              "outlinewidth": 0,
              "ticks": ""
             }
            },
            "type": "scattercarpet"
           }
          ],
          "scattergeo": [
           {
            "marker": {
             "colorbar": {
              "outlinewidth": 0,
              "ticks": ""
             }
            },
            "type": "scattergeo"
           }
          ],
          "scattergl": [
           {
            "marker": {
             "colorbar": {
              "outlinewidth": 0,
              "ticks": ""
             }
            },
            "type": "scattergl"
           }
          ],
          "scattermapbox": [
           {
            "marker": {
             "colorbar": {
              "outlinewidth": 0,
              "ticks": ""
             }
            },
            "type": "scattermapbox"
           }
          ],
          "scatterpolar": [
           {
            "marker": {
             "colorbar": {
              "outlinewidth": 0,
              "ticks": ""
             }
            },
            "type": "scatterpolar"
           }
          ],
          "scatterpolargl": [
           {
            "marker": {
             "colorbar": {
              "outlinewidth": 0,
              "ticks": ""
             }
            },
            "type": "scatterpolargl"
           }
          ],
          "scatterternary": [
           {
            "marker": {
             "colorbar": {
              "outlinewidth": 0,
              "ticks": ""
             }
            },
            "type": "scatterternary"
           }
          ],
          "surface": [
           {
            "colorbar": {
             "outlinewidth": 0,
             "ticks": ""
            },
            "colorscale": [
             [
              0,
              "#0d0887"
             ],
             [
              0.1111111111111111,
              "#46039f"
             ],
             [
              0.2222222222222222,
              "#7201a8"
             ],
             [
              0.3333333333333333,
              "#9c179e"
             ],
             [
              0.4444444444444444,
              "#bd3786"
             ],
             [
              0.5555555555555556,
              "#d8576b"
             ],
             [
              0.6666666666666666,
              "#ed7953"
             ],
             [
              0.7777777777777778,
              "#fb9f3a"
             ],
             [
              0.8888888888888888,
              "#fdca26"
             ],
             [
              1,
              "#f0f921"
             ]
            ],
            "type": "surface"
           }
          ],
          "table": [
           {
            "cells": {
             "fill": {
              "color": "#EBF0F8"
             },
             "line": {
              "color": "white"
             }
            },
            "header": {
             "fill": {
              "color": "#C8D4E3"
             },
             "line": {
              "color": "white"
             }
            },
            "type": "table"
           }
          ]
         },
         "layout": {
          "annotationdefaults": {
           "arrowcolor": "#2a3f5f",
           "arrowhead": 0,
           "arrowwidth": 1
          },
          "autotypenumbers": "strict",
          "coloraxis": {
           "colorbar": {
            "outlinewidth": 0,
            "ticks": ""
           }
          },
          "colorscale": {
           "diverging": [
            [
             0,
             "#8e0152"
            ],
            [
             0.1,
             "#c51b7d"
            ],
            [
             0.2,
             "#de77ae"
            ],
            [
             0.3,
             "#f1b6da"
            ],
            [
             0.4,
             "#fde0ef"
            ],
            [
             0.5,
             "#f7f7f7"
            ],
            [
             0.6,
             "#e6f5d0"
            ],
            [
             0.7,
             "#b8e186"
            ],
            [
             0.8,
             "#7fbc41"
            ],
            [
             0.9,
             "#4d9221"
            ],
            [
             1,
             "#276419"
            ]
           ],
           "sequential": [
            [
             0,
             "#0d0887"
            ],
            [
             0.1111111111111111,
             "#46039f"
            ],
            [
             0.2222222222222222,
             "#7201a8"
            ],
            [
             0.3333333333333333,
             "#9c179e"
            ],
            [
             0.4444444444444444,
             "#bd3786"
            ],
            [
             0.5555555555555556,
             "#d8576b"
            ],
            [
             0.6666666666666666,
             "#ed7953"
            ],
            [
             0.7777777777777778,
             "#fb9f3a"
            ],
            [
             0.8888888888888888,
             "#fdca26"
            ],
            [
             1,
             "#f0f921"
            ]
           ],
           "sequentialminus": [
            [
             0,
             "#0d0887"
            ],
            [
             0.1111111111111111,
             "#46039f"
            ],
            [
             0.2222222222222222,
             "#7201a8"
            ],
            [
             0.3333333333333333,
             "#9c179e"
            ],
            [
             0.4444444444444444,
             "#bd3786"
            ],
            [
             0.5555555555555556,
             "#d8576b"
            ],
            [
             0.6666666666666666,
             "#ed7953"
            ],
            [
             0.7777777777777778,
             "#fb9f3a"
            ],
            [
             0.8888888888888888,
             "#fdca26"
            ],
            [
             1,
             "#f0f921"
            ]
           ]
          },
          "colorway": [
           "#636efa",
           "#EF553B",
           "#00cc96",
           "#ab63fa",
           "#FFA15A",
           "#19d3f3",
           "#FF6692",
           "#B6E880",
           "#FF97FF",
           "#FECB52"
          ],
          "font": {
           "color": "#2a3f5f"
          },
          "geo": {
           "bgcolor": "white",
           "lakecolor": "white",
           "landcolor": "white",
           "showlakes": true,
           "showland": true,
           "subunitcolor": "#C8D4E3"
          },
          "hoverlabel": {
           "align": "left"
          },
          "hovermode": "closest",
          "mapbox": {
           "style": "light"
          },
          "paper_bgcolor": "white",
          "plot_bgcolor": "white",
          "polar": {
           "angularaxis": {
            "gridcolor": "#EBF0F8",
            "linecolor": "#EBF0F8",
            "ticks": ""
           },
           "bgcolor": "white",
           "radialaxis": {
            "gridcolor": "#EBF0F8",
            "linecolor": "#EBF0F8",
            "ticks": ""
           }
          },
          "scene": {
           "xaxis": {
            "backgroundcolor": "white",
            "gridcolor": "#DFE8F3",
            "gridwidth": 2,
            "linecolor": "#EBF0F8",
            "showbackground": true,
            "ticks": "",
            "zerolinecolor": "#EBF0F8"
           },
           "yaxis": {
            "backgroundcolor": "white",
            "gridcolor": "#DFE8F3",
            "gridwidth": 2,
            "linecolor": "#EBF0F8",
            "showbackground": true,
            "ticks": "",
            "zerolinecolor": "#EBF0F8"
           },
           "zaxis": {
            "backgroundcolor": "white",
            "gridcolor": "#DFE8F3",
            "gridwidth": 2,
            "linecolor": "#EBF0F8",
            "showbackground": true,
            "ticks": "",
            "zerolinecolor": "#EBF0F8"
           }
          },
          "shapedefaults": {
           "line": {
            "color": "#2a3f5f"
           }
          },
          "ternary": {
           "aaxis": {
            "gridcolor": "#DFE8F3",
            "linecolor": "#A2B1C6",
            "ticks": ""
           },
           "baxis": {
            "gridcolor": "#DFE8F3",
            "linecolor": "#A2B1C6",
            "ticks": ""
           },
           "bgcolor": "white",
           "caxis": {
            "gridcolor": "#DFE8F3",
            "linecolor": "#A2B1C6",
            "ticks": ""
           }
          },
          "title": {
           "x": 0.05
          },
          "xaxis": {
           "automargin": true,
           "gridcolor": "#EBF0F8",
           "linecolor": "#EBF0F8",
           "ticks": "",
           "title": {
            "standoff": 15
           },
           "zerolinecolor": "#EBF0F8",
           "zerolinewidth": 2
          },
          "yaxis": {
           "automargin": true,
           "gridcolor": "#EBF0F8",
           "linecolor": "#EBF0F8",
           "ticks": "",
           "title": {
            "standoff": 15
           },
           "zerolinecolor": "#EBF0F8",
           "zerolinewidth": 2
          }
         }
        },
        "title": {
         "text": "Work Time Distribution per Worker (Bubble Size Reflects Count)"
        },
        "xaxis": {
         "anchor": "y",
         "domain": [
          0,
          1
         ],
         "tickangle": 90,
         "title": {
          "text": "Worker ID"
         }
        },
        "yaxis": {
         "anchor": "x",
         "domain": [
          0,
          1
         ],
         "title": {
          "text": "Work Time (Seconds)"
         }
        }
       }
      }
     },
     "metadata": {},
     "output_type": "display_data"
    }
   ],
   "source": [
    "import plotly.express as px\n",
    "import pandas as pd\n",
    "\n",
    "# Count the occurrences of each (WorkerId, WorkTimeInSeconds) pair\n",
    "aggregated_data = filtered_data.groupby(['WorkerId', 'WorkTimeInSeconds']).size().reset_index(name='Count')\n",
    "\n",
    "# Create a scatter plot with bubble size based on the count\n",
    "fig = px.scatter(aggregated_data, \n",
    "                 x='WorkerId', \n",
    "                 y='WorkTimeInSeconds', \n",
    "                 size='Count',\n",
    "                 title=\"Work Time Distribution per Worker (Bubble Size Reflects Count)\",\n",
    "                 labels={'WorkerId': 'Worker ID', 'WorkTimeInSeconds': 'Work Time (Seconds)', 'Count': 'Number of Points'},\n",
    "                 template='plotly_white')\n",
    "\n",
    "fig.update_xaxes(tickangle=90)\n",
    "fig.show()\n"
   ]
  },
  {
   "cell_type": "code",
   "execution_count": 5,
   "metadata": {},
   "outputs": [],
   "source": [
    "# # remove all which have no variance in the WorkTimeInSeconds\n",
    "# consistent_workers = filtered_data.groupby('WorkerId')['WorkTimeInSeconds'].nunique()\n",
    "\n",
    "# consistent_workers = consistent_workers[consistent_workers == 1].index\n",
    "# # print count of consistent workers\n",
    "# print(len(consistent_workers))\n",
    "# without_cw = filtered_data[~filtered_data['WorkerId'].isin(consistent_workers)]\n",
    "# print(without_cw.shape)\n",
    "# without_cw.head(3)"
   ]
  },
  {
   "cell_type": "code",
   "execution_count": null,
   "metadata": {},
   "outputs": [
    {
     "ename": "NameError",
     "evalue": "name 'without_cw' is not defined",
     "output_type": "error",
     "traceback": [
      "\u001b[1;31m---------------------------------------------------------------------------\u001b[0m",
      "\u001b[1;31mNameError\u001b[0m                                 Traceback (most recent call last)",
      "Cell \u001b[1;32mIn[6], line 5\u001b[0m\n\u001b[0;32m      2\u001b[0m \u001b[38;5;28;01mimport\u001b[39;00m \u001b[38;5;21;01mpandas\u001b[39;00m \u001b[38;5;28;01mas\u001b[39;00m \u001b[38;5;21;01mpd\u001b[39;00m\n\u001b[0;32m      4\u001b[0m \u001b[38;5;66;03m# Count the occurrences of each (WorkerId, WorkTimeInSeconds) pair\u001b[39;00m\n\u001b[1;32m----> 5\u001b[0m aggregated_data \u001b[38;5;241m=\u001b[39m \u001b[43mwithout_cw\u001b[49m\u001b[38;5;241m.\u001b[39mgroupby([\u001b[38;5;124m'\u001b[39m\u001b[38;5;124mWorkerId\u001b[39m\u001b[38;5;124m'\u001b[39m, \u001b[38;5;124m'\u001b[39m\u001b[38;5;124mWorkTimeInSeconds\u001b[39m\u001b[38;5;124m'\u001b[39m])\u001b[38;5;241m.\u001b[39msize()\u001b[38;5;241m.\u001b[39mreset_index(name\u001b[38;5;241m=\u001b[39m\u001b[38;5;124m'\u001b[39m\u001b[38;5;124mCount\u001b[39m\u001b[38;5;124m'\u001b[39m)\n\u001b[0;32m      7\u001b[0m \u001b[38;5;66;03m# Create a scatter plot with bubble size based on the count\u001b[39;00m\n\u001b[0;32m      8\u001b[0m fig \u001b[38;5;241m=\u001b[39m px\u001b[38;5;241m.\u001b[39mscatter(aggregated_data, \n\u001b[0;32m      9\u001b[0m                  x\u001b[38;5;241m=\u001b[39m\u001b[38;5;124m'\u001b[39m\u001b[38;5;124mWorkerId\u001b[39m\u001b[38;5;124m'\u001b[39m, \n\u001b[0;32m     10\u001b[0m                  y\u001b[38;5;241m=\u001b[39m\u001b[38;5;124m'\u001b[39m\u001b[38;5;124mWorkTimeInSeconds\u001b[39m\u001b[38;5;124m'\u001b[39m, \n\u001b[1;32m   (...)\u001b[0m\n\u001b[0;32m     13\u001b[0m                  labels\u001b[38;5;241m=\u001b[39m{\u001b[38;5;124m'\u001b[39m\u001b[38;5;124mWorkerId\u001b[39m\u001b[38;5;124m'\u001b[39m: \u001b[38;5;124m'\u001b[39m\u001b[38;5;124mWorker ID\u001b[39m\u001b[38;5;124m'\u001b[39m, \u001b[38;5;124m'\u001b[39m\u001b[38;5;124mWorkTimeInSeconds\u001b[39m\u001b[38;5;124m'\u001b[39m: \u001b[38;5;124m'\u001b[39m\u001b[38;5;124mWork Time (Seconds)\u001b[39m\u001b[38;5;124m'\u001b[39m, \u001b[38;5;124m'\u001b[39m\u001b[38;5;124mCount\u001b[39m\u001b[38;5;124m'\u001b[39m: \u001b[38;5;124m'\u001b[39m\u001b[38;5;124mNumber of Points\u001b[39m\u001b[38;5;124m'\u001b[39m},\n\u001b[0;32m     14\u001b[0m                  template\u001b[38;5;241m=\u001b[39m\u001b[38;5;124m'\u001b[39m\u001b[38;5;124mplotly_white\u001b[39m\u001b[38;5;124m'\u001b[39m)\n",
      "\u001b[1;31mNameError\u001b[0m: name 'without_cw' is not defined"
     ]
    }
   ],
   "source": [
    "# import plotly.express as px\n",
    "# import pandas as pd\n",
    "\n",
    "# # Count the occurrences of each (WorkerId, WorkTimeInSeconds) pair\n",
    "# aggregated_data = without_cw.groupby(['WorkerId', 'WorkTimeInSeconds']).size().reset_index(name='Count')\n",
    "\n",
    "# # Create a scatter plot with bubble size based on the count\n",
    "# fig = px.scatter(aggregated_data, a\n",
    "#                  x='WorkerId', \n",
    "#                  y='WorkTimeInSeconds', \n",
    "#                  size='Count',\n",
    "#                  title=\"Work Time Distribution per Worker (Bubble Size Reflects Count)\",\n",
    "#                  labels={'WorkerId': 'Worker ID', 'WorkTimeInSeconds': 'Work Time (Seconds)', 'Count': 'Number of Points'},\n",
    "#                  template='plotly_white')\n",
    "\n",
    "# fig.update_xaxes(tickangle=90)\n",
    "# fig.show()\n"
   ]
  },
  {
   "cell_type": "code",
   "execution_count": 8,
   "metadata": {},
   "outputs": [
    {
     "name": "stdout",
     "output_type": "stream",
     "text": [
      "(183, 16)\n"
     ]
    }
   ],
   "source": [
    "# remove all from filtered data where the seconds is > 10s\n",
    "more_than10s = filtered_data[filtered_data['WorkTimeInSeconds'] > 10]\n",
    "print(more_than10s.shape)"
   ]
  },
  {
   "cell_type": "markdown",
   "metadata": {},
   "source": [
    "# Kappa and similar"
   ]
  },
  {
   "cell_type": "code",
   "execution_count": 9,
   "metadata": {},
   "outputs": [],
   "source": [
    "# %pip install statsmodels"
   ]
  },
  {
   "cell_type": "code",
   "execution_count": 10,
   "metadata": {},
   "outputs": [
    {
     "name": "stdout",
     "output_type": "stream",
     "text": [
      "HITTypeId\n",
      "7QT    0.236364\n",
      "8QT    0.040000\n",
      "9QT    0.199110\n",
      "dtype: float64\n"
     ]
    },
    {
     "name": "stderr",
     "output_type": "stream",
     "text": [
      "C:\\Users\\adam\\AppData\\Local\\Temp\\ipykernel_3036\\28423049.py:19: DeprecationWarning:\n",
      "\n",
      "DataFrameGroupBy.apply operated on the grouping columns. This behavior is deprecated, and in a future version of pandas the grouping columns will be excluded from the operation. Either pass `include_groups=False` to exclude the groupings or explicitly select the grouping columns after groupby to silence this warning.\n",
      "\n"
     ]
    },
    {
     "data": {
      "text/html": [
       "<div>\n",
       "<style scoped>\n",
       "    .dataframe tbody tr th:only-of-type {\n",
       "        vertical-align: middle;\n",
       "    }\n",
       "\n",
       "    .dataframe tbody tr th {\n",
       "        vertical-align: top;\n",
       "    }\n",
       "\n",
       "    .dataframe thead th {\n",
       "        text-align: right;\n",
       "    }\n",
       "</style>\n",
       "<table border=\"1\" class=\"dataframe\">\n",
       "  <thead>\n",
       "    <tr style=\"text-align: right;\">\n",
       "      <th></th>\n",
       "      <th>HITId</th>\n",
       "      <th>nr_correct</th>\n",
       "      <th>nr_incorrect</th>\n",
       "      <th>Input1ID</th>\n",
       "      <th>Input2ID</th>\n",
       "      <th>Input3ID</th>\n",
       "      <th>Fleiss Kappa</th>\n",
       "    </tr>\n",
       "  </thead>\n",
       "  <tbody>\n",
       "    <tr>\n",
       "      <th>0</th>\n",
       "      <td>1</td>\n",
       "      <td>2</td>\n",
       "      <td>1</td>\n",
       "      <td>wd:Q11621</td>\n",
       "      <td>wdt:P2142</td>\n",
       "      <td>792910554</td>\n",
       "      <td>0.236364</td>\n",
       "    </tr>\n",
       "    <tr>\n",
       "      <th>1</th>\n",
       "      <td>2</td>\n",
       "      <td>3</td>\n",
       "      <td>0</td>\n",
       "      <td>wd:Q603545</td>\n",
       "      <td>wdt:P2142</td>\n",
       "      <td>4300000</td>\n",
       "      <td>0.236364</td>\n",
       "    </tr>\n",
       "    <tr>\n",
       "      <th>2</th>\n",
       "      <td>3</td>\n",
       "      <td>2</td>\n",
       "      <td>1</td>\n",
       "      <td>wd:Q16911843</td>\n",
       "      <td>wdt:P577</td>\n",
       "      <td>2014-01-18</td>\n",
       "      <td>0.236364</td>\n",
       "    </tr>\n",
       "    <tr>\n",
       "      <th>3</th>\n",
       "      <td>4</td>\n",
       "      <td>0</td>\n",
       "      <td>3</td>\n",
       "      <td>wd:Q132863</td>\n",
       "      <td>wdt:P2142</td>\n",
       "      <td>969023261</td>\n",
       "      <td>0.236364</td>\n",
       "    </tr>\n",
       "    <tr>\n",
       "      <th>4</th>\n",
       "      <td>5</td>\n",
       "      <td>3</td>\n",
       "      <td>0</td>\n",
       "      <td>wd:Q1628022</td>\n",
       "      <td>wdt:P577</td>\n",
       "      <td>1951-01-01</td>\n",
       "      <td>0.236364</td>\n",
       "    </tr>\n",
       "    <tr>\n",
       "      <th>...</th>\n",
       "      <td>...</td>\n",
       "      <td>...</td>\n",
       "      <td>...</td>\n",
       "      <td>...</td>\n",
       "      <td>...</td>\n",
       "      <td>...</td>\n",
       "      <td>...</td>\n",
       "    </tr>\n",
       "    <tr>\n",
       "      <th>56</th>\n",
       "      <td>57</td>\n",
       "      <td>2</td>\n",
       "      <td>1</td>\n",
       "      <td>wd:Q223596</td>\n",
       "      <td>wdt:P1431</td>\n",
       "      <td>wd:Q457180</td>\n",
       "      <td>0.199110</td>\n",
       "    </tr>\n",
       "    <tr>\n",
       "      <th>57</th>\n",
       "      <td>58</td>\n",
       "      <td>0</td>\n",
       "      <td>3</td>\n",
       "      <td>wd:Q943992</td>\n",
       "      <td>wdt:P161</td>\n",
       "      <td>wd:Q160432</td>\n",
       "      <td>0.199110</td>\n",
       "    </tr>\n",
       "    <tr>\n",
       "      <th>58</th>\n",
       "      <td>59</td>\n",
       "      <td>2</td>\n",
       "      <td>1</td>\n",
       "      <td>wd:Q1893555</td>\n",
       "      <td>wdt:P272</td>\n",
       "      <td>wd:Q48784114</td>\n",
       "      <td>0.199110</td>\n",
       "    </tr>\n",
       "    <tr>\n",
       "      <th>59</th>\n",
       "      <td>60</td>\n",
       "      <td>2</td>\n",
       "      <td>1</td>\n",
       "      <td>wd:Q21060270</td>\n",
       "      <td>wdt:P27</td>\n",
       "      <td>wd:Q916</td>\n",
       "      <td>0.199110</td>\n",
       "    </tr>\n",
       "    <tr>\n",
       "      <th>60</th>\n",
       "      <td>61</td>\n",
       "      <td>2</td>\n",
       "      <td>1</td>\n",
       "      <td>wd:Q1288004</td>\n",
       "      <td>wdt:P1412</td>\n",
       "      <td>wd:Q13330</td>\n",
       "      <td>0.199110</td>\n",
       "    </tr>\n",
       "  </tbody>\n",
       "</table>\n",
       "<p>61 rows × 7 columns</p>\n",
       "</div>"
      ],
      "text/plain": [
       "    HITId  nr_correct  nr_incorrect      Input1ID   Input2ID      Input3ID  \\\n",
       "0       1           2             1     wd:Q11621  wdt:P2142     792910554   \n",
       "1       2           3             0    wd:Q603545  wdt:P2142       4300000   \n",
       "2       3           2             1  wd:Q16911843   wdt:P577    2014-01-18   \n",
       "3       4           0             3    wd:Q132863  wdt:P2142     969023261   \n",
       "4       5           3             0   wd:Q1628022   wdt:P577    1951-01-01   \n",
       "..    ...         ...           ...           ...        ...           ...   \n",
       "56     57           2             1    wd:Q223596  wdt:P1431    wd:Q457180   \n",
       "57     58           0             3    wd:Q943992   wdt:P161    wd:Q160432   \n",
       "58     59           2             1   wd:Q1893555   wdt:P272  wd:Q48784114   \n",
       "59     60           2             1  wd:Q21060270    wdt:P27       wd:Q916   \n",
       "60     61           2             1   wd:Q1288004  wdt:P1412     wd:Q13330   \n",
       "\n",
       "    Fleiss Kappa  \n",
       "0       0.236364  \n",
       "1       0.236364  \n",
       "2       0.236364  \n",
       "3       0.236364  \n",
       "4       0.236364  \n",
       "..           ...  \n",
       "56      0.199110  \n",
       "57      0.199110  \n",
       "58      0.199110  \n",
       "59      0.199110  \n",
       "60      0.199110  \n",
       "\n",
       "[61 rows x 7 columns]"
      ]
     },
     "execution_count": 10,
     "metadata": {},
     "output_type": "execute_result"
    }
   ],
   "source": [
    "from statsmodels.stats.inter_rater import fleiss_kappa\n",
    "\n",
    "df_to_use = more_than10s\n",
    "\n",
    "summary = df_to_use.groupby(['HITId', 'AnswerLabel']).size().unstack(fill_value=0)\n",
    "\n",
    "# Include the RDF triple components\n",
    "triplet_info = df_to_use.groupby('HITId').agg({\n",
    "    'Input1ID': 'first',\n",
    "    'Input2ID': 'first',\n",
    "    'Input3ID': 'first'\n",
    "})\n",
    "\n",
    "# Merge triplet information into the summary\n",
    "summary = summary.merge(triplet_info, left_index=True, right_index=True)\n",
    "\n",
    "# Add Fleiss' Kappa per HIT batch (HITTypeId)\n",
    "fleiss_data = df_to_use.pivot_table(index='HITId', columns='AnswerLabel', aggfunc='size', fill_value=0)\n",
    "fleiss_kappas = df_to_use.groupby('HITTypeId').apply(\n",
    "    lambda group: fleiss_kappa(fleiss_data.loc[group['HITId'].unique()].values, method='fleiss')\n",
    ")\n",
    "print(fleiss_kappas)\n",
    "\n",
    "# Map Fleiss' Kappa to each HITId's batch\n",
    "hit_to_batch = df_to_use.set_index('HITId')['HITTypeId'].to_dict()\n",
    "summary['Fleiss Kappa'] = summary.index.map(lambda hit_id: fleiss_kappas.get(hit_to_batch.get(hit_id), None))\n",
    "\n",
    "# Reset index for a clean table\n",
    "summary = summary.reset_index().rename(columns={'CORRECT': 'nr_correct', 'INCORRECT': 'nr_incorrect'})\n",
    "\n",
    "# Display the final summary table\n",
    "summary"
   ]
  },
  {
   "cell_type": "code",
   "execution_count": 11,
   "metadata": {},
   "outputs": [],
   "source": [
    "# export the data to processed_crows.csv\n",
    "summary.to_csv('processed_crowd.csv', index=False)"
   ]
  }
 ],
 "metadata": {
  "kernelspec": {
   "display_name": "atai-bot",
   "language": "python",
   "name": "python3"
  },
  "language_info": {
   "codemirror_mode": {
    "name": "ipython",
    "version": 3
   },
   "file_extension": ".py",
   "mimetype": "text/x-python",
   "name": "python",
   "nbconvert_exporter": "python",
   "pygments_lexer": "ipython3",
   "version": "3.12.5"
  }
 },
 "nbformat": 4,
 "nbformat_minor": 2
}
