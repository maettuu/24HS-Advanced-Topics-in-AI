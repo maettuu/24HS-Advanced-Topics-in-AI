{
 "cells": [
  {
   "cell_type": "code",
   "execution_count": 19,
   "metadata": {},
   "outputs": [
    {
     "name": "stderr",
     "output_type": "stream",
     "text": [
      "Some weights of the model checkpoint at dbmdz/bert-large-cased-finetuned-conll03-english were not used when initializing BertForTokenClassification: ['bert.pooler.dense.bias', 'bert.pooler.dense.weight']\n",
      "- This IS expected if you are initializing BertForTokenClassification from the checkpoint of a model trained on another task or with another architecture (e.g. initializing a BertForSequenceClassification model from a BertForPreTraining model).\n",
      "- This IS NOT expected if you are initializing BertForTokenClassification from the checkpoint of a model that you expect to be exactly identical (initializing a BertForSequenceClassification model from a BertForSequenceClassification model).\n"
     ]
    }
   ],
   "source": [
    "# Required imports\n",
    "from transformers import AutoTokenizer, AutoModelForTokenClassification, pipeline\n",
    "\n",
    "# Model name for NER\n",
    "ner_model_name = \"dbmdz/bert-large-cased-finetuned-conll03-english\"\n",
    "\n",
    "# Load tokenizer and model\n",
    "tokenizer = AutoTokenizer.from_pretrained(ner_model_name)\n",
    "ner_model = AutoModelForTokenClassification.from_pretrained(ner_model_name)\n",
    "\n",
    "# Initialize the NER pipeline with the model and tokenizer\n",
    "nlp = pipeline(\"ner\", model=ner_model, tokenizer=tokenizer, aggregation_strategy=\"simple\")\n"
   ]
  },
  {
   "cell_type": "code",
   "execution_count": 7,
   "metadata": {},
   "outputs": [
    {
     "name": "stdout",
     "output_type": "stream",
     "text": [
      "Candidate Entities: ['The Lion King', 'Green Street 2 Stand Your Ground', 'Pochontas', 'The Beauty and the Beast']\n"
     ]
    }
   ],
   "source": [
    "# Define a function or direct usage to get candidate entities\n",
    "def get_candidate_entities(message):\n",
    "    ner_results = nlp(message)\n",
    "    candidate_entities = [result[\"word\"] for result in ner_results]\n",
    "    return candidate_entities\n",
    "\n",
    "# Example usage\n",
    "message = \"Given that I like The Lion King, Green Street 2 Stand Your Ground, Pochontas, and The Beauty and the Beast, can you recommend some movies\"\n",
    "entities = get_candidate_entities(message)\n",
    "print(\"Candidate Entities:\", entities)"
   ]
  },
  {
   "cell_type": "code",
   "execution_count": 21,
   "metadata": {},
   "outputs": [
    {
     "name": "stdout",
     "output_type": "stream",
     "text": [
      "Candidate Entities: ['cyprus']\n"
     ]
    }
   ],
   "source": [
    "message = \"Who is the screenwriter of movie the masked gang: cyprus\"\n",
    "entities = get_candidate_entities(message)\n",
    "print(\"Candidate Entities:\", entities)"
   ]
  }
 ],
 "metadata": {
  "kernelspec": {
   "display_name": "atai-bot",
   "language": "python",
   "name": "python3"
  },
  "language_info": {
   "codemirror_mode": {
    "name": "ipython",
    "version": 3
   },
   "file_extension": ".py",
   "mimetype": "text/x-python",
   "name": "python",
   "nbconvert_exporter": "python",
   "pygments_lexer": "ipython3",
   "version": "3.12.5"
  }
 },
 "nbformat": 4,
 "nbformat_minor": 2
}
