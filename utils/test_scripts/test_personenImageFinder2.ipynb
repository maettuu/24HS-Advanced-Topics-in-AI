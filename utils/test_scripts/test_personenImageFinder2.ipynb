{
 "cells": [
  {
   "cell_type": "code",
   "execution_count": 1,
   "metadata": {},
   "outputs": [],
   "source": [
    "# set app as default directory to address imports\n",
    "import os\n",
    "import sys\n",
    "sys.path.append(os.path.join(os.getcwd(), './../../'))\n",
    "\n",
    "#activate autoreload to easier test classes\n",
    "%load_ext autoreload\n",
    "%autoreload 2"
   ]
  },
  {
   "cell_type": "code",
   "execution_count": 2,
   "metadata": {},
   "outputs": [
    {
     "name": "stdout",
     "output_type": "stream",
     "text": [
      "Metadata loaded successfully from JSON files.\n",
      "Initializing SPARQLGraph\n",
      "Graph loaded with 94107 triples after 0:00:20.026638\n"
     ]
    }
   ],
   "source": [
    "from app.services.sparql_graph import SPARQLGraph\n",
    "from app.config.enums import Environment\n",
    "graph = SPARQLGraph(Environment.DEV, False)"
   ]
  },
  {
   "cell_type": "code",
   "execution_count": null,
   "metadata": {},
   "outputs": [],
   "source": [
    "query = \"\"\"PREFIX wd: <http://www.wikidata.org/entity/>\n",
    "PREFIX wdt: <http://www.wikidata.org/prop/direct/>\n",
    "PREFIX rdfs: <http://www.w3.org/2000/01/rdf-schema#>\n",
    "\n",
    "SELECT ?imdb_id WHERE {\n",
    "  wd:Q107356085 wdt:P345 ?imdb_id .\n",
    "}\n",
    "\n",
    "\"\"\""
   ]
  },
  {
   "cell_type": "code",
   "execution_count": 6,
   "metadata": {},
   "outputs": [
    {
     "data": {
      "text/plain": [
       "''"
      ]
     },
     "execution_count": 6,
     "metadata": {},
     "output_type": "execute_result"
    }
   ],
   "source": [
    "graph.execute_query(query)"
   ]
  },
  {
   "cell_type": "markdown",
   "metadata": {},
   "source": [
    "# People"
   ]
  },
  {
   "cell_type": "code",
   "execution_count": 14,
   "metadata": {},
   "outputs": [],
   "source": [
    "from app.services.extractors.main import SpacyExtractor\n",
    "extractor = SpacyExtractor()"
   ]
  },
  {
   "cell_type": "code",
   "execution_count": 27,
   "metadata": {},
   "outputs": [
    {
     "name": "stdout",
     "output_type": "stream",
     "text": [
      "Metadata loaded in 1.6805555820465088 seconds\n"
     ]
    }
   ],
   "source": [
    "from app.services.person_image_finder import PersonImageFinder\n",
    "\n",
    "image_finder = PersonImageFinder(graph, extractor)"
   ]
  },
  {
   "cell_type": "code",
   "execution_count": 28,
   "metadata": {},
   "outputs": [
    {
     "name": "stdout",
     "output_type": "stream",
     "text": [
      "Mutated text: atli oskar fjalarsson\n",
      "Matches after filtering overlapping matches: [{'original_text': 'atli oskar fjalarsson', 'start': 0, 'end': 21}]\n",
      "NLTK matches: [{'original_text': 'atli oskar fjalarsson', 'start': 0, 'end': 21}]\n",
      "Alignment result: None\n",
      "Full word matches: [{'match_text': 'atli oskar fjalarsson', 'original_text': 'atli oskar fjalarsson', 'label': 'person', 'score': 100.0, 'start': 0, 'end': 21, 'is_full_word': True}]\n",
      "Fuzzy matches: [{'match_text': 'atli oskar fjalarsson', 'original_text': 'atli oskar fjalarsson', 'label': 'person', 'score': 100.0, 'start': 0, 'end': 21, 'is_full_word': True}]\n",
      "Entities found: {'movie': [], 'relation': [], 'person': ['Atli Oskar Fjalarsson']}\n",
      "Person string: Atli Oskar Fjalarsson\n"
     ]
    },
    {
     "data": {
      "text/plain": [
       "\"image:3713/rm796390912 Here's a fantastic shot of Atli Oskar Fjalarsson, just for you!\""
      ]
     },
     "execution_count": 28,
     "metadata": {},
     "output_type": "execute_result"
    }
   ],
   "source": [
    "message = \"Atli Oskar Fjalarsson\"\n",
    "idx = 0\n",
    "response = image_finder._process_query(message, \"person\", image_finder.get_image_for_imdb_id)\n",
    "response"
   ]
  },
  {
   "cell_type": "code",
   "execution_count": 29,
   "metadata": {},
   "outputs": [
    {
     "name": "stdout",
     "output_type": "stream",
     "text": [
      "Mutated text: show me an picture of atli oskar fjalarsson \n",
      "Matches after filtering overlapping matches: [{'original_text': 'atli oskar fjalarsson', 'start': 22, 'end': 43}]\n",
      "NLTK matches: [{'original_text': 'atli oskar fjalarsson', 'start': 22, 'end': 43}]\n",
      "Alignment result: None\n",
      "Full word matches: [{'match_text': 'atli oskar fjalarsson', 'original_text': 'atli oskar fjalarsson', 'label': 'person', 'score': 100.0, 'start': 22, 'end': 43, 'is_full_word': True}]\n",
      "Fuzzy matches: [{'match_text': 'atli oskar fjalarsson', 'original_text': 'atli oskar fjalarsson', 'label': 'person', 'score': 100.0, 'start': 22, 'end': 43, 'is_full_word': True}]\n",
      "Entities found: {'movie': [], 'relation': [], 'person': ['Atli Oskar Fjalarsson']}\n",
      "Person string: Atli Oskar Fjalarsson\n"
     ]
    },
    {
     "data": {
      "text/plain": [
       "\"image:0159/rm3706194688 Here's a fantastic shot of Atli Oskar Fjalarsson, just for you!\""
      ]
     },
     "execution_count": 29,
     "metadata": {},
     "output_type": "execute_result"
    }
   ],
   "source": [
    "image_finder.get_response('Show me an Picture of Atli Oskar Fjalarsson ')"
   ]
  },
  {
   "cell_type": "markdown",
   "metadata": {},
   "source": [
    "# Movies"
   ]
  },
  {
   "cell_type": "code",
   "execution_count": 30,
   "metadata": {},
   "outputs": [
    {
     "name": "stdout",
     "output_type": "stream",
     "text": [
      "Mutated text: show me a picture of sleepers\n",
      "Matches after filtering overlapping matches: []\n",
      "NLTK matches: []\n",
      "Alignment result: None\n",
      "Full word matches: []\n",
      "Fuzzy matches: []\n",
      "Entities found: {'movie': [], 'relation': [], 'person': []}\n",
      "Mutated text: show me a picture of sleepers\n",
      "Matches after filtering overlapping matches: [{'original_text': 'sleepers', 'start': 21, 'end': 29}]\n",
      "NLTK matches: [{'original_text': 'sleepers', 'start': 21, 'end': 29}]\n",
      "Alignment result: None\n",
      "Full word matches: [{'match_text': 'sleepers', 'original_text': 'sleepers', 'label': 'movie', 'score': 100.0, 'start': 21, 'end': 29, 'is_full_word': True}]\n",
      "Fuzzy matches: [{'match_text': 'sleepers', 'original_text': 'sleepers', 'label': 'movie', 'score': 100.0, 'start': 21, 'end': 29, 'is_full_word': True}]\n",
      "Entities found: {'movie': ['Sleepers'], 'relation': [], 'person': []}\n",
      "Movie string: Sleepers\n"
     ]
    },
    {
     "data": {
      "text/plain": [
       "'image:3594/rm3360674816 Take a look at this wonderful poster of the movie Sleepers!'"
      ]
     },
     "execution_count": 30,
     "metadata": {},
     "output_type": "execute_result"
    }
   ],
   "source": [
    "image_finder.get_response(\"Show me a picture of sleepers\")"
   ]
  },
  {
   "cell_type": "code",
   "execution_count": null,
   "metadata": {},
   "outputs": [
    {
     "name": "stdout",
     "output_type": "stream",
     "text": [
      "Mutated text: show me a picture of the firm\n",
      "Matches after filtering overlapping matches: []\n",
      "NLTK matches: []\n",
      "Alignment result: None\n",
      "Full word matches: []\n",
      "Fuzzy matches: []\n",
      "Entities found: {'movie': [], 'relation': [], 'person': []}\n",
      "Mutated text: show me a picture of the firm\n",
      "Matches after filtering overlapping matches: [{'original_text': 'the firm', 'start': 21, 'end': 29}]\n",
      "NLTK matches: [{'original_text': 'the firm', 'start': 21, 'end': 29}]\n",
      "Alignment result: None\n",
      "Full word matches: [{'match_text': 'the firm', 'original_text': 'the firm', 'label': 'movie', 'score': 100.0, 'start': 21, 'end': 29, 'is_full_word': True}]\n",
      "Fuzzy matches: [{'match_text': 'the firm', 'original_text': 'the firm', 'label': 'movie', 'score': 100.0, 'start': 21, 'end': 29, 'is_full_word': True}]\n",
      "Entities found: {'movie': ['The Firm'], 'relation': [], 'person': []}\n",
      "Movie string: The Firm\n",
      "No images found for IMDb ID: tt1313113\n"
     ]
    },
    {
     "data": {
      "text/plain": [
       "\"I'm sorry, but I can only show images of actors or movie posters. Please try rephrasing your query!\""
      ]
     },
     "execution_count": 26,
     "metadata": {},
     "output_type": "execute_result"
    }
   ],
   "source": [
    "image_finder.get_response(\"Show me a picture of the firm {1}\")\n",
    "# with DEV graph this yields an error because in DEV graph there is nothing"
   ]
  }
 ],
 "metadata": {
  "kernelspec": {
   "display_name": "atai-bot",
   "language": "python",
   "name": "python3"
  },
  "language_info": {
   "codemirror_mode": {
    "name": "ipython",
    "version": 3
   },
   "file_extension": ".py",
   "mimetype": "text/x-python",
   "name": "python",
   "nbconvert_exporter": "python",
   "pygments_lexer": "ipython3",
   "version": "3.12.5"
  }
 },
 "nbformat": 4,
 "nbformat_minor": 2
}
