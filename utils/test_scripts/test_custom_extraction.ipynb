{
 "cells": [
  {
   "cell_type": "code",
   "execution_count": 1,
   "metadata": {},
   "outputs": [],
   "source": [
    "# set app as default directory to address imports\n",
    "import os\n",
    "import sys\n",
    "sys.path.append(os.path.join(os.getcwd(), './../../'))\n",
    "\n",
    "#activate autoreload to easier test classes\n",
    "%load_ext autoreload\n",
    "%autoreload 2"
   ]
  },
  {
   "cell_type": "code",
   "execution_count": 2,
   "metadata": {},
   "outputs": [
    {
     "name": "stdout",
     "output_type": "stream",
     "text": [
      "Metadata loaded successfully from JSON files.\n",
      "Initializing SPARQLGraph\n",
      "Graph loaded with 94107 triples after 0:00:25.869326\n"
     ]
    }
   ],
   "source": [
    "from app.services.sparql_graph import SPARQLGraph\n",
    "\n",
    "from app.config.enums import Environment\n",
    "graph = SPARQLGraph(Environment.DEV, False)"
   ]
  },
  {
   "cell_type": "code",
   "execution_count": 3,
   "metadata": {},
   "outputs": [],
   "source": [
    "from app.services.extractors.main import SpacyExtractor\n",
    "spacy_extractor = SpacyExtractor()"
   ]
  },
  {
   "cell_type": "markdown",
   "metadata": {},
   "source": [
    "# Relationship extractor"
   ]
  },
  {
   "cell_type": "code",
   "execution_count": null,
   "metadata": {},
   "outputs": [
    {
     "name": "stdout",
     "output_type": "stream",
     "text": [
      "Spacy extractor initialized\n",
      "Embedding extractor initialized\n"
     ]
    }
   ],
   "source": [
    "from app.services.extractors.relationship_extraction import RelationshipExtractor\n",
    "\n",
    "relation_extractor = RelationshipExtractor(spacy_extractor)"
   ]
  },
  {
   "cell_type": "code",
   "execution_count": 5,
   "metadata": {},
   "outputs": [
    {
     "name": "stdout",
     "output_type": "stream",
     "text": [
      "Mutated text: who is the screenwriter of the movie the godfather?\n",
      "Matches after filtering overlapping matches: [{'original_text': 'screenwriter', 'start': 11, 'end': 23}]\n",
      "NLTK matches: [{'original_text': 'screenwriter', 'start': 11, 'end': 23}]\n",
      "Full word matches: [{'match_text': 'screenwriter', 'original_text': 'screenwriter', 'label': 'relation', 'score': 100.0, 'start': 11, 'end': 23, 'is_full_word': True}]\n",
      "Fuzzy matches: [{'match_text': 'screenwriter', 'original_text': 'screenwriter', 'label': 'relation', 'score': 100.0, 'start': 11, 'end': 23, 'is_full_word': True}]\n",
      "NLTK relationship found: ['screenwriter']\n"
     ]
    },
    {
     "data": {
      "text/plain": [
       "['screenwriter']"
      ]
     },
     "execution_count": 5,
     "metadata": {},
     "output_type": "execute_result"
    }
   ],
   "source": [
    "relation_extractor.extract(\"Who is the screenwriter of the movie The Godfather?\")"
   ]
  },
  {
   "cell_type": "code",
   "execution_count": 6,
   "metadata": {},
   "outputs": [
    {
     "name": "stdout",
     "output_type": "stream",
     "text": [
      "Mutated text: who directed the movie \"\"\n",
      "Matches after filtering overlapping matches: []\n",
      "NLTK matches: []\n",
      "Full word matches: [{'match_text': 'directed', 'original_text': 'director', 'label': 'relation', 'score': 75.0, 'start': 4, 'end': 12, 'is_full_word': True}]\n",
      "Fuzzy matches: [{'match_text': 'directed', 'original_text': 'director', 'label': 'relation', 'score': 75.0, 'start': 4, 'end': 12, 'is_full_word': True}]\n",
      "NLTK relationship found: ['director']\n"
     ]
    },
    {
     "data": {
      "text/plain": [
       "['director']"
      ]
     },
     "execution_count": 6,
     "metadata": {},
     "output_type": "execute_result"
    }
   ],
   "source": [
    "# it works after removing the movie name -> dont forget that realtion extraction is done on masked queries\n",
    "relation_extractor.extract(\"Who directed the movie \\\"\\\"\")"
   ]
  },
  {
   "cell_type": "code",
   "execution_count": 8,
   "metadata": {},
   "outputs": [
    {
     "name": "stdout",
     "output_type": "stream",
     "text": [
      "Mutated text: what is the imdb id of the movie \"the matrix\"?\n",
      "Matches after filtering overlapping matches: [{'original_text': 'imdb id', 'start': 12, 'end': 19}]\n",
      "NLTK matches: [{'original_text': 'imdb id', 'start': 12, 'end': 19}]\n",
      "Full word matches: [{'match_text': 'imdb id', 'original_text': 'imdb id', 'label': 'relation', 'score': 100.0, 'start': 12, 'end': 19, 'is_full_word': True}]\n",
      "Fuzzy matches: [{'match_text': 'imdb id', 'original_text': 'imdb id', 'label': 'relation', 'score': 100.0, 'start': 12, 'end': 19, 'is_full_word': True}]\n",
      "NLTK relationship found: ['IMDb ID']\n"
     ]
    },
    {
     "data": {
      "text/plain": [
       "['IMDb ID']"
      ]
     },
     "execution_count": 8,
     "metadata": {},
     "output_type": "execute_result"
    }
   ],
   "source": [
    "relation_extractor.extract(\"What is the imdb id of the movie \\\"The Matrix\\\"?\")"
   ]
  },
  {
   "cell_type": "code",
   "execution_count": 9,
   "metadata": {},
   "outputs": [
    {
     "name": "stdout",
     "output_type": "stream",
     "text": [
      "Mutated text: who directs the movie ?\n",
      "Matches after filtering overlapping matches: []\n",
      "NLTK matches: []\n",
      "Full word matches: [{'match_text': 'directs', 'original_text': 'depicts', 'label': 'relation', 'score': 71.42857142857143, 'start': 4, 'end': 11, 'is_full_word': True}]\n",
      "Fuzzy matches: [{'match_text': 'directs', 'original_text': 'depicts', 'label': 'relation', 'score': 71.42857142857143, 'start': 4, 'end': 11, 'is_full_word': True}]\n",
      "NLTK relationship found: ['depicts']\n"
     ]
    },
    {
     "data": {
      "text/plain": [
       "['depicts']"
      ]
     },
     "execution_count": 9,
     "metadata": {},
     "output_type": "execute_result"
    }
   ],
   "source": [
    "relation_extractor.extract(\"who directs the movie ?\")"
   ]
  },
  {
   "cell_type": "markdown",
   "metadata": {},
   "source": [
    "# Movie extractor"
   ]
  },
  {
   "cell_type": "code",
   "execution_count": 4,
   "metadata": {},
   "outputs": [],
   "source": [
    "from app.services.extractors.movie_extraction import MovieExtractor\n",
    "movie_extractor = MovieExtractor(spacy_extractor)"
   ]
  },
  {
   "cell_type": "code",
   "execution_count": 9,
   "metadata": {},
   "outputs": [
    {
     "data": {
      "text/plain": [
       "16.666666666666668"
      ]
     },
     "execution_count": 9,
     "metadata": {},
     "output_type": "execute_result"
    }
   ],
   "source": [
    "len(\"Can you tell me who is the author of The Inception\")/3"
   ]
  },
  {
   "cell_type": "code",
   "execution_count": 23,
   "metadata": {},
   "outputs": [
    {
     "name": "stdout",
     "output_type": "stream",
     "text": [
      "Mutated text: can you tell me who is the author of the inception\n",
      "Matches after filtering overlapping matches: [{'original_text': 'inception', 'start': 41, 'end': 50}, {'original_text': 'tell', 'start': 8, 'end': 12}]\n",
      "NLTK matches: [{'original_text': 'inception', 'start': 41, 'end': 50}, {'original_text': 'tell', 'start': 8, 'end': 12}]\n",
      "Alignment result: None\n",
      "Full word matches: [{'match_text': 'tell', 'original_text': 'tell', 'label': 'movie', 'score': 100.0, 'start': 8, 'end': 12, 'is_full_word': True}, {'match_text': 'inception', 'original_text': 'inception', 'label': 'movie', 'score': 100.0, 'start': 41, 'end': 50, 'is_full_word': True}]\n",
      "Fuzzy matches: [{'match_text': 'inception', 'original_text': 'inception', 'label': 'movie', 'score': 100.0, 'start': 41, 'end': 50, 'is_full_word': True}, {'match_text': 'tell', 'original_text': 'tell', 'label': 'movie', 'score': 100.0, 'start': 8, 'end': 12, 'is_full_word': True}]\n",
      "Combined results: [{'original_text': 'tell', 'start': 8, 'end': 12, 'score': 100}, {'original_text': 'inception', 'start': 41, 'end': 50, 'score': 100}]\n",
      "NLTK entity found: ['Inception']\n"
     ]
    },
    {
     "data": {
      "text/plain": [
       "['Inception']"
      ]
     },
     "execution_count": 23,
     "metadata": {},
     "output_type": "execute_result"
    }
   ],
   "source": [
    "movie_extractor.extract(\"Can you tell me who is the author of The Inception\")"
   ]
  },
  {
   "cell_type": "code",
   "execution_count": 98,
   "metadata": {},
   "outputs": [
    {
     "name": "stdout",
     "output_type": "stream",
     "text": [
      "Mutated text: recommend movies like nightmare on elm street, friday the 13th, and halloween\n",
      "Matches after filtering overlapping matches: [{'original_text': 'halloween', 'start': 68, 'end': 77}, {'original_text': 'friday the 13th', 'start': 47, 'end': 62}]\n",
      "NLTK matches: [{'original_text': 'halloween', 'start': 68, 'end': 77}, {'original_text': 'friday the 13th', 'start': 47, 'end': 62}]\n",
      "Alignment result: None\n",
      "Full word matches: [{'match_text': 'friday the 13th', 'original_text': 'friday the 13th', 'label': 'movie', 'score': 100.0, 'start': 47, 'end': 62, 'is_full_word': True}, {'match_text': 'e nightmare on elm street', 'original_text': 'a nightmare on elm street', 'label': 'movie', 'score': 96.0, 'start': 20, 'end': 45, 'is_full_word': True}, {'match_text': 'halloween', 'original_text': 'halloween', 'label': 'movie', 'score': 100.0, 'start': 68, 'end': 77, 'is_full_word': True}, {'match_text': 'friday', 'original_text': 'friday', 'label': 'movie', 'score': 100.0, 'start': 47, 'end': 53, 'is_full_word': True}, {'match_text': 'halloween', 'original_text': 'halloween ii', 'label': 'movie', 'score': 90.9090909090909, 'start': 68, 'end': 78, 'is_full_word': True}]\n",
      "Fuzzy matches: [{'match_text': 'friday the 13th', 'original_text': 'friday the 13th', 'label': 'movie', 'score': 100.0, 'start': 47, 'end': 62, 'is_full_word': True}, {'match_text': 'halloween', 'original_text': 'halloween', 'label': 'movie', 'score': 100.0, 'start': 68, 'end': 77, 'is_full_word': True}, {'match_text': 'e nightmare on elm street', 'original_text': 'a nightmare on elm street', 'label': 'movie', 'score': 96.0, 'start': 20, 'end': 45, 'is_full_word': True}]\n",
      "NLTK entity found: ['A Nightmare on Elm Street', 'Friday the 13th', 'Halloween']\n"
     ]
    },
    {
     "data": {
      "text/plain": [
       "['A Nightmare on Elm Street', 'Friday the 13th', 'Halloween']"
      ]
     },
     "execution_count": 98,
     "metadata": {},
     "output_type": "execute_result"
    }
   ],
   "source": [
    "movie_extractor.extract(\"Recommend movies like Nightmare on Elm Street, Friday the 13th, and Halloween\")"
   ]
  },
  {
   "cell_type": "code",
   "execution_count": 99,
   "metadata": {},
   "outputs": [
    {
     "name": "stdout",
     "output_type": "stream",
     "text": [
      "Mutated text: who is the screenwriter of masked gang: cyprus \n",
      "Matches after filtering overlapping matches: []\n",
      "NLTK matches: []\n",
      "Alignment result: None\n",
      "Full word matches: [{'match_text': 'masked gang: cyprus', 'original_text': 'the masked gang: cyprus', 'label': 'movie', 'score': 88.88888888888889, 'start': 26, 'end': 48, 'is_full_word': True}, {'match_text': 'of masked gang:', 'original_text': 'the masked gang', 'label': 'movie', 'score': 80.0, 'start': 24, 'end': 39, 'is_full_word': True}]\n",
      "Fuzzy matches: [{'match_text': 'masked gang: cyprus', 'original_text': 'the masked gang: cyprus', 'label': 'movie', 'score': 88.88888888888889, 'start': 26, 'end': 48, 'is_full_word': True}]\n",
      "NLTK entity found: ['The Masked Gang: Cyprus']\n"
     ]
    },
    {
     "data": {
      "text/plain": [
       "['The Masked Gang: Cyprus']"
      ]
     },
     "execution_count": 99,
     "metadata": {},
     "output_type": "execute_result"
    }
   ],
   "source": [
    "movie_extractor.extract(\"Who is the screenwriter of masked Gang: cyprus \")"
   ]
  },
  {
   "cell_type": "code",
   "execution_count": 100,
   "metadata": {},
   "outputs": [
    {
     "name": "stdout",
     "output_type": "stream",
     "text": [
      "Mutated text: who directed \"godzilla vs. gigan\"\n",
      "Matches after filtering overlapping matches: [{'original_text': 'godzilla vs. gigan', 'start': 14, 'end': 32}]\n",
      "NLTK matches: [{'original_text': 'godzilla vs. gigan', 'start': 14, 'end': 32}]\n",
      "Alignment result: None\n",
      "Full word matches: [{'match_text': 'godzilla vs. gigan', 'original_text': 'godzilla vs. gigan', 'label': 'movie', 'score': 100.0, 'start': 14, 'end': 32, 'is_full_word': True}, {'match_text': 'godzilla', 'original_text': 'godzilla', 'label': 'movie', 'score': 100.0, 'start': 14, 'end': 22, 'is_full_word': True}]\n",
      "Fuzzy matches: [{'match_text': 'godzilla vs. gigan', 'original_text': 'godzilla vs. gigan', 'label': 'movie', 'score': 100.0, 'start': 14, 'end': 32, 'is_full_word': True}]\n",
      "NLTK entity found: ['Godzilla vs. Gigan']\n"
     ]
    },
    {
     "data": {
      "text/plain": [
       "['Godzilla vs. Gigan']"
      ]
     },
     "execution_count": 100,
     "metadata": {},
     "output_type": "execute_result"
    }
   ],
   "source": [
    "movie_extractor.extract(\"Who directed \\\"Godzilla vs. Gigan\\\"\")"
   ]
  },
  {
   "cell_type": "code",
   "execution_count": 101,
   "metadata": {},
   "outputs": [
    {
     "name": "stdout",
     "output_type": "stream",
     "text": [
      "Mutated text: who directed \"godzilla vs gigan\"\n",
      "Matches after filtering overlapping matches: [{'original_text': 'godzilla', 'start': 14, 'end': 22}]\n",
      "NLTK matches: [{'original_text': 'godzilla', 'start': 14, 'end': 22}]\n",
      "Alignment result: None\n",
      "Full word matches: [{'match_text': 'godzilla vs gigan\"', 'original_text': 'godzilla vs. gigan', 'label': 'movie', 'score': 94.44444444444444, 'start': 14, 'end': 32, 'is_full_word': True}, {'match_text': 'godzilla', 'original_text': 'godzilla', 'label': 'movie', 'score': 100.0, 'start': 14, 'end': 22, 'is_full_word': True}]\n",
      "Fuzzy matches: [{'match_text': 'godzilla vs gigan\"', 'original_text': 'godzilla vs. gigan', 'label': 'movie', 'score': 94.44444444444444, 'start': 14, 'end': 32, 'is_full_word': True}]\n",
      "NLTK entity found: ['Godzilla vs. Gigan']\n"
     ]
    },
    {
     "data": {
      "text/plain": [
       "['Godzilla vs. Gigan']"
      ]
     },
     "execution_count": 101,
     "metadata": {},
     "output_type": "execute_result"
    }
   ],
   "source": [
    "movie_extractor.extract(\"Who directed \\\"godzilla vs gigan\\\"\")"
   ]
  },
  {
   "cell_type": "code",
   "execution_count": 102,
   "metadata": {},
   "outputs": [
    {
     "name": "stdout",
     "output_type": "stream",
     "text": [
      "Mutated text: given that i like the lion king, pochontas, and the beauty and the beast, can you recommend some movies\n",
      "Matches after filtering overlapping matches: [{'original_text': 'beauty and the beast', 'start': 52, 'end': 72}, {'original_text': 'the lion king', 'start': 18, 'end': 31}]\n",
      "NLTK matches: [{'original_text': 'beauty and the beast', 'start': 52, 'end': 72}, {'original_text': 'the lion king', 'start': 18, 'end': 31}]\n",
      "Alignment result: None\n",
      "Full word matches: [{'match_text': 'beauty and the beast', 'original_text': 'beauty and the beast', 'label': 'movie', 'score': 100.0, 'start': 52, 'end': 72, 'is_full_word': True}, {'match_text': 'beast', 'original_text': 'beast', 'label': 'movie', 'score': 100.0, 'start': 67, 'end': 72, 'is_full_word': True}, {'match_text': 'pochontas', 'original_text': 'pocahontas', 'label': 'movie', 'score': 90.0, 'start': 32, 'end': 42, 'is_full_word': True}, {'match_text': 'beauty', 'original_text': 'beauty', 'label': 'movie', 'score': 100.0, 'start': 52, 'end': 58, 'is_full_word': True}, {'match_text': 'the beast', 'original_text': 'the beast', 'label': 'movie', 'score': 100.0, 'start': 63, 'end': 72, 'is_full_word': True}, {'match_text': 'the lion king', 'original_text': 'the lion king', 'label': 'movie', 'score': 100.0, 'start': 18, 'end': 31, 'is_full_word': True}, {'match_text': 'lion', 'original_text': 'lion', 'label': 'movie', 'score': 100.0, 'start': 22, 'end': 26, 'is_full_word': True}]\n",
      "Fuzzy matches: [{'match_text': 'beauty and the beast', 'original_text': 'beauty and the beast', 'label': 'movie', 'score': 100.0, 'start': 52, 'end': 72, 'is_full_word': True}, {'match_text': 'the lion king', 'original_text': 'the lion king', 'label': 'movie', 'score': 100.0, 'start': 18, 'end': 31, 'is_full_word': True}, {'match_text': 'pochontas', 'original_text': 'pocahontas', 'label': 'movie', 'score': 90.0, 'start': 32, 'end': 42, 'is_full_word': True}]\n",
      "NLTK entity found: ['The Lion King', 'Pocahontas', 'Beauty and the Beast']\n"
     ]
    },
    {
     "data": {
      "text/plain": [
       "['The Lion King', 'Pocahontas', 'Beauty and the Beast']"
      ]
     },
     "execution_count": 102,
     "metadata": {},
     "output_type": "execute_result"
    }
   ],
   "source": [
    "movie_extractor.extract(\"Given that I like The Lion King, Pochontas, and The Beauty and the Beast, can you recommend some movies\")"
   ]
  },
  {
   "cell_type": "markdown",
   "metadata": {},
   "source": [
    "## Person Extractor "
   ]
  },
  {
   "cell_type": "code",
   "execution_count": 21,
   "metadata": {},
   "outputs": [
    {
     "name": "stdout",
     "output_type": "stream",
     "text": [
      "Mutated text: show me a picture of tom holland\n",
      "Matches after filtering overlapping matches: [{'original_text': 'tom holland', 'start': 21, 'end': 32}]\n",
      "NLTK matches: [{'original_text': 'tom holland', 'start': 21, 'end': 32}]\n",
      "Matches for candidate 'tom holland': ScoreAlignment(score=100.0, src_start=0, src_end=11, dest_start=21, dest_end=32)\n",
      "Matches before filtering full word matches: [{'match_text': 'tom holland', 'original_text': 'tom holland', 'label': 'person', 'score': 100.0, 'start': 21, 'end': 32, 'is_full_word': True}]\n",
      "Full word matches: [{'match_text': 'tom holland', 'original_text': 'tom holland', 'label': 'person', 'score': 100.0, 'start': 21, 'end': 32, 'is_full_word': True}]\n",
      "Fuzzy matches: [{'match_text': 'tom holland', 'original_text': 'tom holland', 'label': 'person', 'score': 100.0, 'start': 21, 'end': 32, 'is_full_word': True}]\n"
     ]
    },
    {
     "data": {
      "text/plain": [
       "{'movies': [], 'relations': [], 'people': ['Tom Holland']}"
      ]
     },
     "execution_count": 21,
     "metadata": {},
     "output_type": "execute_result"
    }
   ],
   "source": [
    "message = \"Show me a picture of Tom Holland\"\n",
    "spacy_extractor.get_entities_with_fuzzy_matching(message, 'person')"
   ]
  }
 ],
 "metadata": {
  "kernelspec": {
   "display_name": "atai-bot",
   "language": "python",
   "name": "python3"
  },
  "language_info": {
   "codemirror_mode": {
    "name": "ipython",
    "version": 3
   },
   "file_extension": ".py",
   "mimetype": "text/x-python",
   "name": "python",
   "nbconvert_exporter": "python",
   "pygments_lexer": "ipython3",
   "version": "3.12.5"
  }
 },
 "nbformat": 4,
 "nbformat_minor": 2
}
