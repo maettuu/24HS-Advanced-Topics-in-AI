{
 "cells": [
  {
   "cell_type": "code",
   "execution_count": 24,
   "metadata": {},
   "outputs": [
    {
     "name": "stdout",
     "output_type": "stream",
     "text": [
      "The autoreload extension is already loaded. To reload it, use:\n",
      "  %reload_ext autoreload\n"
     ]
    }
   ],
   "source": [
    "# set app as default directory to address imports\n",
    "import os\n",
    "import sys\n",
    "sys.path.append(os.path.join(os.getcwd(), './../../'))\n",
    "\n",
    "#activate autoreload to easier test classes\n",
    "%load_ext autoreload\n",
    "%autoreload 2"
   ]
  },
  {
   "cell_type": "code",
   "execution_count": 25,
   "metadata": {},
   "outputs": [
    {
     "name": "stdout",
     "output_type": "stream",
     "text": [
      "Metadata loaded successfully from JSON files.\n",
      "Initializing SPARQLGraph\n",
      "Graph loaded with 2056777 triples after 0:02:14.016682\n"
     ]
    }
   ],
   "source": [
    "from app.services.sparql_graph import SPARQLGraph\n",
    "from app.config.enums import Environment\n",
    "graph = SPARQLGraph(Environment.PROD, False)"
   ]
  },
  {
   "cell_type": "code",
   "execution_count": 26,
   "metadata": {},
   "outputs": [],
   "source": [
    "from rdflib import URIRef\n",
    "import rdflib\n",
    "WD = rdflib.Namespace('http://www.wikidata.org/entity/')\n",
    "WDT = rdflib.Namespace('http://www.wikidata.org/prop/direct/')\n",
    "DDIS = rdflib.Namespace('http://ddis.ch/atai/')\n",
    "RDFS = rdflib.namespace.RDFS\n",
    "SCHEMA = rdflib.Namespace('http://schema.org/')"
   ]
  },
  {
   "cell_type": "code",
   "execution_count": 29,
   "metadata": {},
   "outputs": [
    {
     "data": {
      "text/plain": [
       "'http://www.wikidata.org/entity/Q83495'"
      ]
     },
     "execution_count": 29,
     "metadata": {},
     "output_type": "execute_result"
    }
   ],
   "source": [
    "graph.get_id_for_movie('The Matrix')"
   ]
  },
  {
   "cell_type": "code",
   "execution_count": 11,
   "metadata": {},
   "outputs": [
    {
     "data": {
      "text/plain": [
       "'http://www.wikidata.org/prop/direct/P106'"
      ]
     },
     "execution_count": 11,
     "metadata": {},
     "output_type": "execute_result"
    }
   ],
   "source": [
    "graph.get_rel_for_lbl('occupation')"
   ]
  },
  {
   "cell_type": "code",
   "execution_count": 9,
   "metadata": {},
   "outputs": [
    {
     "data": {
      "text/plain": [
       "{'Q329737': 'butcher'}"
      ]
     },
     "execution_count": 9,
     "metadata": {},
     "output_type": "execute_result"
    }
   ],
   "source": [
    "# let's see what our graph thinks the occupation of Jean Van Hamme is\n",
    "professions = set(graph.graph.query('''\n",
    "    prefix wdt: <http://www.wikidata.org/prop/direct/>\n",
    "    prefix wd: <http://www.wikidata.org/entity/>\n",
    "    \n",
    "    SELECT ?obj ?lbl WHERE {\n",
    "        ?ent rdfs:label \"Jean Van Hamme\"@en .\n",
    "        ?ent wdt:P106 ?obj .\n",
    "        ?obj rdfs:label ?lbl .\n",
    "    }\n",
    "    '''))\n",
    "{ent[len(WD):]: str(lbl) for ent, lbl in professions}"
   ]
  },
  {
   "cell_type": "code",
   "execution_count": 30,
   "metadata": {},
   "outputs": [
    {
     "name": "stdout",
     "output_type": "stream",
     "text": [
      "http://www.wikidata.org/entity/Q83495 http://www.wikidata.org/prop/direct/P57\n"
     ]
    },
    {
     "data": {
      "text/plain": [
       "{'Q195719': rdflib.term.Literal('The Wachowskis', lang='en')}"
      ]
     },
     "execution_count": 30,
     "metadata": {},
     "output_type": "execute_result"
    }
   ],
   "source": [
    "# Step 1: Retrieve the full URIs for entity and property using your functions\n",
    "entity_id = graph.get_id_for_movie('The Matrix')   # Expected: \"http://www.wikidata.org/entity/Q428160\"\n",
    "property_id = graph.get_rel_for_lbl('director')     # Expected: \"http://www.wikidata.org/prop/direct/P106\"\n",
    "\n",
    "print(entity_id, property_id)\n",
    "# Step 2: Query using the full URIs directly in the SPARQL query\n",
    "occupation_query = set(graph.graph.query(f'''\n",
    "    PREFIX rdfs: <http://www.w3.org/2000/01/rdf-schema#>\n",
    "    \n",
    "    SELECT ?obj ?lbl WHERE {{\n",
    "        <{entity_id}> <{property_id}> ?obj .\n",
    "        ?obj rdfs:label ?lbl .\n",
    "        FILTER(LANG(?lbl) = \"en\")\n",
    "    }}\n",
    "    '''))\n",
    "\n",
    "# Step 3: Format the results as a dictionary with entity IDs and labels\n",
    "occupations = {obj.split('/')[-1]: lbl for obj, lbl in occupation_query}\n",
    "\n",
    "# Display the occupations\n",
    "occupations"
   ]
  }
 ],
 "metadata": {
  "kernelspec": {
   "display_name": "atai-bot",
   "language": "python",
   "name": "python3"
  },
  "language_info": {
   "codemirror_mode": {
    "name": "ipython",
    "version": 3
   },
   "file_extension": ".py",
   "mimetype": "text/x-python",
   "name": "python",
   "nbconvert_exporter": "python",
   "pygments_lexer": "ipython3",
   "version": "3.12.5"
  }
 },
 "nbformat": 4,
 "nbformat_minor": 2
}
